{
  "cells": [
    {
      "cell_type": "code",
      "execution_count": 2,
      "id": "dd623bde",
      "metadata": {
        "id": "dd623bde"
      },
      "outputs": [],
      "source": [
        "import matplotlib.pyplot as plt\n",
        "import numpy as np\n",
        "import pandas as pd\n",
        "import random"
      ]
    },
    {
      "cell_type": "code",
      "source": [
        "from google.colab import drive\n",
        "drive.mount('/content/drive')\n",
        "PWD = '/content/drive/My Drive/ML/Fashies/data/'\n",
        "data = pd.read_csv(PWD+'train.csv',sep=';')\n",
        "# read dataset\n",
        "#data = pd.read_csv('../../../force2020_train.csv',sep=';')\n",
        "print (data.shape)"
      ],
      "metadata": {
        "id": "hPXY1C1lzlIc",
        "outputId": "87d60797-c401-4721-8aef-e280b268ebbb",
        "colab": {
          "base_uri": "https://localhost:8080/"
        }
      },
      "id": "hPXY1C1lzlIc",
      "execution_count": 3,
      "outputs": [
        {
          "output_type": "stream",
          "name": "stdout",
          "text": [
            "Mounted at /content/drive\n",
            "(1170511, 29)\n"
          ]
        }
      ]
    },
    {
      "cell_type": "code",
      "execution_count": 4,
      "id": "577e6d6f-ed45-47c2-9d58-58df77522574",
      "metadata": {
        "id": "577e6d6f-ed45-47c2-9d58-58df77522574",
        "outputId": "b1d29d97-3080-4088-9fa9-28f2e4bd128b",
        "colab": {
          "base_uri": "https://localhost:8080/"
        }
      },
      "outputs": [
        {
          "output_type": "execute_result",
          "data": {
            "text/plain": [
              "(98,)"
            ]
          },
          "metadata": {},
          "execution_count": 4
        }
      ],
      "source": [
        "data['WELL'].unique().shape"
      ]
    },
    {
      "cell_type": "code",
      "execution_count": 5,
      "id": "a0154d97-90d8-4e33-95fe-ddff5cc29ae4",
      "metadata": {
        "id": "a0154d97-90d8-4e33-95fe-ddff5cc29ae4",
        "outputId": "f88ab1ea-ed79-4867-f6e4-ab24fe03e557",
        "colab": {
          "base_uri": "https://localhost:8080/"
        }
      },
      "outputs": [
        {
          "output_type": "stream",
          "name": "stdout",
          "text": [
            "Wells: 98\n",
            "Group: 14\n",
            "FORMATION: 69\n"
          ]
        }
      ],
      "source": [
        "#categorical logs, count them\n",
        "print ('Wells:',data['WELL'].value_counts().shape[0])\n",
        "print ('Group:',data['GROUP'].value_counts().shape[0])\n",
        "print ('FORMATION:',data['FORMATION'].value_counts().shape[0])"
      ]
    },
    {
      "cell_type": "code",
      "execution_count": 6,
      "id": "13fa5486-5eca-4ca5-bc1f-da4e0e8a8ad9",
      "metadata": {
        "id": "13fa5486-5eca-4ca5-bc1f-da4e0e8a8ad9",
        "outputId": "3785874b-9f01-415f-e456-04c2ba12014f",
        "colab": {
          "base_uri": "https://localhost:8080/"
        }
      },
      "outputs": [
        {
          "output_type": "execute_result",
          "data": {
            "text/plain": [
              "{'BS': 58.32128019300972,\n",
              " 'CALI': 92.49242424889643,\n",
              " 'DCAL': 25.530131711705394,\n",
              " 'DRHO': 84.3953623673763,\n",
              " 'DTC': 93.09164971538073,\n",
              " 'DTS': 14.91767270875711,\n",
              " 'FORCE_2020_LITHOFACIES_CONFIDENCE': 99.98470753371818,\n",
              " 'FORMATION': 88.29622276082839,\n",
              " 'GROUP': 99.89081691671416,\n",
              " 'MUDWEIGHT': 27.0096564662784,\n",
              " 'NPHI': 65.3910129849271,\n",
              " 'PEF': 57.38450984228256,\n",
              " 'RDEP': 99.05895801064663,\n",
              " 'RHOB': 86.22234220780497,\n",
              " 'RMED': 96.66871990096632,\n",
              " 'RMIC': 15.049837207851951,\n",
              " 'ROP': 45.712599027262456,\n",
              " 'ROPA': 16.430857975704626,\n",
              " 'RSHA': 53.878177992346934,\n",
              " 'RXO': 27.972996409260574,\n",
              " 'SGR': 5.925019072866462,\n",
              " 'SP': 73.83501735566773,\n",
              " 'X_LOC': 99.07946187605242,\n",
              " 'Y_LOC': 99.07946187605242,\n",
              " 'Z_LOC': 99.07946187605242}"
            ]
          },
          "metadata": {},
          "execution_count": 6
        }
      ],
      "source": [
        "# count features\n",
        "train_logs = dict(100 - data.isna().sum()/data.shape[0] * 100)\n",
        "train_logs = {log:value for log,value in train_logs.items() if value!=100}\n",
        "train_logs"
      ]
    },
    {
      "cell_type": "code",
      "execution_count": 7,
      "id": "9cbf2657-e681-42d1-b0ae-fe1585ee42e9",
      "metadata": {
        "id": "9cbf2657-e681-42d1-b0ae-fe1585ee42e9",
        "outputId": "ab08466f-a557-4dd8-a626-62917f472d5d",
        "colab": {
          "base_uri": "https://localhost:8080/",
          "height": 513
        }
      },
      "outputs": [
        {
          "output_type": "display_data",
          "data": {
            "text/plain": [
              "<Figure size 1008x504 with 1 Axes>"
            ],
            "image/png": "[encoded data removed]"
          },
          "metadata": {
            "needs_background": "light"
          }
        }
      ],
      "source": [
        "plt.figure(figsize=(14,7))\n",
        "plt.bar(train_logs.keys(),train_logs.values())\n",
        "plt.xticks(list(train_logs.keys()),rotation=45)\n",
        "plt.tight_layout()"
      ]
    },
    {
      "cell_type": "code",
      "execution_count": 8,
      "id": "935855ea-2167-4eff-bf10-192289f3d338",
      "metadata": {
        "id": "935855ea-2167-4eff-bf10-192289f3d338",
        "outputId": "bcfca31d-7a3d-485e-8826-b7007581a064",
        "colab": {
          "base_uri": "https://localhost:8080/",
          "height": 489
        }
      },
      "outputs": [
        {
          "output_type": "execute_result",
          "data": {
            "text/plain": [
              "Text(0, 0.5, 'Well presence (\\\\%)')"
            ]
          },
          "metadata": {},
          "execution_count": 8
        },
        {
          "output_type": "display_data",
          "data": {
            "text/plain": [
              "<Figure size 1008x504 with 1 Axes>"
            ],
            "image/png": "[encoded data removed]"
          },
          "metadata": {
            "needs_background": "light"
          }
        }
      ],
      "source": [
        "# check logs and find percentage of logs in wells\n",
        "occurences = np.zeros(25) # exluding wells, FORCE litho colums \n",
        "for well in data['WELL'].unique():\n",
        "    occurences += data[data['WELL']==well].isna().all().astype(int).values[2:-2] \n",
        "    # took columns with missing\n",
        "fig,ax = plt.subplots(1,1,figsize=(14,7))\n",
        "ax.bar(x=np.arange(occurences.shape[0]), height = (data.WELL.unique().shape[0]-occurences)/\\\n",
        "       data.WELL.unique().shape[0]*100.0)\n",
        "ax.set_xticklabels(data.columns[2:-2],rotation=45)\n",
        "ax.set_xticks(np.arange(occurences.shape[0]))\n",
        "ax.set_ylabel('Well presence (\\%)')"
      ]
    },
    {
      "cell_type": "code",
      "execution_count": 9,
      "id": "132d51cb-96c9-42d6-9903-08be4920eed5",
      "metadata": {
        "id": "132d51cb-96c9-42d6-9903-08be4920eed5",
        "outputId": "10977be3-342a-4c48-8b6c-b51d08b92e63",
        "colab": {
          "base_uri": "https://localhost:8080/",
          "height": 629
        }
      },
      "outputs": [
        {
          "output_type": "stream",
          "name": "stdout",
          "text": [
            "{65000: 720803, 30000: 168937, 65030: 150455, 70000: 56320, 80000: 33329, 99000: 15245, 70032: 10513, 88000: 8213, 90000: 3820, 74000: 1688, 86000: 1085, 93000: 103}\n"
          ]
        },
        {
          "output_type": "execute_result",
          "data": {
            "text/plain": [
              "<BarContainer object of 12 artists>"
            ]
          },
          "metadata": {},
          "execution_count": 9
        },
        {
          "output_type": "display_data",
          "data": {
            "text/plain": [
              "<Figure size 1080x720 with 1 Axes>"
            ],
            "image/png": "[encoded data removed]"
          },
          "metadata": {
            "needs_background": "light"
          }
        }
      ],
      "source": [
        "# lets explore labels, targets \n",
        "labels = dict(data.FORCE_2020_LITHOFACIES_LITHOLOGY.value_counts())\n",
        "lithofacies_names = ['Shale','Sandstone','SS/Shale','Marl','Dolomite','Limestone','Chalk',\n",
        "                    'Halite','Anhydrite','Tuff','Coal','Basement']\n",
        "print (labels)\n",
        "\n",
        "lithofacies_perc = np.array(list(labels.values()))/data.shape[0]*100\n",
        "fig = plt.figure(figsize=(15,10))\n",
        "plt.bar(lithofacies_names,lithofacies_perc)\n",
        "# shale class dominated, imbalanced skewed, if the blind test not inbalanced like train data(shale 60%) \n",
        "#we will get overfit because we learn from imbalaned dataset"
      ]
    },
    {
      "cell_type": "code",
      "execution_count": 11,
      "id": "b72cb283-b524-4f6c-9ae1-c8e53288b00c",
      "metadata": {
        "id": "b72cb283-b524-4f6c-9ae1-c8e53288b00c",
        "outputId": "2a1e4b04-918a-471c-d09a-b3134326e3f5",
        "colab": {
          "base_uri": "https://localhost:8080/",
          "height": 143
        }
      },
      "outputs": [
        {
          "output_type": "execute_result",
          "data": {
            "text/plain": [
              "   FORCE_2020_LITHOFACIES_LITHOLOGY  FORCE_2020_LITHOFACIES_CONFIDENCE  \\\n",
              "0                             65000                                1.0   \n",
              "1                             65000                                1.0   \n",
              "2                             65000                                1.0   \n",
              "\n",
              "  FaciesLabels  Facies  \n",
              "0        Shale       2  \n",
              "1        Shale       2  \n",
              "2        Shale       2  "
            ],
            "text/html": [
              "\n",
              "  <div id=\"df-7cce92f3-65c8-4b0c-bbd4-f606c9e44162\">\n",
              "    <div class=\"colab-df-container\">\n",
              "      <div>\n",
              "<style scoped>\n",
              "    .dataframe tbody tr th:only-of-type {\n",
              "        vertical-align: middle;\n",
              "    }\n",
              "\n",
              "    .dataframe tbody tr th {\n",
              "        vertical-align: top;\n",
              "    }\n",
              "\n",
              "    .dataframe thead th {\n",
              "        text-align: right;\n",
              "    }\n",
              "</style>\n",
              "<table border=\"1\" class=\"dataframe\">\n",
              "  <thead>\n",
              "    <tr style=\"text-align: right;\">\n",
              "      <th></th>\n",
              "      <th>FORCE_2020_LITHOFACIES_LITHOLOGY</th>\n",
              "      <th>FORCE_2020_LITHOFACIES_CONFIDENCE</th>\n",
              "      <th>FaciesLabels</th>\n",
              "      <th>Facies</th>\n",
              "    </tr>\n",
              "  </thead>\n",
              "  <tbody>\n",
              "    <tr>\n",
              "      <th>0</th>\n",
              "      <td>65000</td>\n",
              "      <td>1.0</td>\n",
              "      <td>Shale</td>\n",
              "      <td>2</td>\n",
              "    </tr>\n",
              "    <tr>\n",
              "      <th>1</th>\n",
              "      <td>65000</td>\n",
              "      <td>1.0</td>\n",
              "      <td>Shale</td>\n",
              "      <td>2</td>\n",
              "    </tr>\n",
              "    <tr>\n",
              "      <th>2</th>\n",
              "      <td>65000</td>\n",
              "      <td>1.0</td>\n",
              "      <td>Shale</td>\n",
              "      <td>2</td>\n",
              "    </tr>\n",
              "  </tbody>\n",
              "</table>\n",
              "</div>\n",
              "      <button class=\"colab-df-convert\" onclick=\"convertToInteractive('df-7cce92f3-65c8-4b0c-bbd4-f606c9e44162')\"\n",
              "              title=\"Convert this dataframe to an interactive table.\"\n",
              "              style=\"display:none;\">\n",
              "        \n",
              "  <svg xmlns=\"http://www.w3.org/2000/svg\" height=\"24px\"viewBox=\"0 0 24 24\"\n",
              "       width=\"24px\">\n",
              "    <path d=\"M0 0h24v24H0V0z\" fill=\"none\"/>\n",
              "    <path d=\"M18.56 5.44l.94 2.06.94-2.06 2.06-.94-2.06-.94-.94-2.06-.94 2.06-2.06.94zm-11 1L8.5 8.5l.94-2.06 2.06-.94-2.06-.94L8.5 2.5l-.94 2.06-2.06.94zm10 10l.94 2.06.94-2.06 2.06-.94-2.06-.94-.94-2.06-.94 2.06-2.06.94z\"/><path d=\"M17.41 7.96l-1.37-1.37c-.4-.4-.92-.59-1.43-.59-.52 0-1.04.2-1.43.59L10.3 9.45l-7.72 7.72c-.78.78-.78 2.05 0 2.83L4 21.41c.39.39.9.59 1.41.59.51 0 1.02-.2 1.41-.59l7.78-7.78 2.81-2.81c.8-.78.8-2.07 0-2.86zM5.41 20L4 18.59l7.72-7.72 1.47 1.35L5.41 20z\"/>\n",
              "  </svg>\n",
              "      </button>\n",
              "      \n",
              "  <style>\n",
              "    .colab-df-container {\n",
              "      display:flex;\n",
              "      flex-wrap:wrap;\n",
              "      gap: 12px;\n",
              "    }\n",
              "\n",
              "    .colab-df-convert {\n",
              "      background-color: #E8F0FE;\n",
              "      border: none;\n",
              "      border-radius: 50%;\n",
              "      cursor: pointer;\n",
              "      display: none;\n",
              "      fill: #1967D2;\n",
              "      height: 32px;\n",
              "      padding: 0 0 0 0;\n",
              "      width: 32px;\n",
              "    }\n",
              "\n",
              "    .colab-df-convert:hover {\n",
              "      background-color: #E2EBFA;\n",
              "      box-shadow: 0px 1px 2px rgba(60, 64, 67, 0.3), 0px 1px 3px 1px rgba(60, 64, 67, 0.15);\n",
              "      fill: #174EA6;\n",
              "    }\n",
              "\n",
              "    [theme=dark] .colab-df-convert {\n",
              "      background-color: #3B4455;\n",
              "      fill: #D2E3FC;\n",
              "    }\n",
              "\n",
              "    [theme=dark] .colab-df-convert:hover {\n",
              "      background-color: #434B5C;\n",
              "      box-shadow: 0px 1px 3px 1px rgba(0, 0, 0, 0.15);\n",
              "      filter: drop-shadow(0px 1px 2px rgba(0, 0, 0, 0.3));\n",
              "      fill: #FFFFFF;\n",
              "    }\n",
              "  </style>\n",
              "\n",
              "      <script>\n",
              "        const buttonEl =\n",
              "          document.querySelector('#df-7cce92f3-65c8-4b0c-bbd4-f606c9e44162 button.colab-df-convert');\n",
              "        buttonEl.style.display =\n",
              "          google.colab.kernel.accessAllowed ? 'block' : 'none';\n",
              "\n",
              "        async function convertToInteractive(key) {\n",
              "          const element = document.querySelector('#df-7cce92f3-65c8-4b0c-bbd4-f606c9e44162');\n",
              "          const dataTable =\n",
              "            await google.colab.kernel.invokeFunction('convertToInteractive',\n",
              "                                                     [key], {});\n",
              "          if (!dataTable) return;\n",
              "\n",
              "          const docLinkHtml = 'Like what you see? Visit the ' +\n",
              "            '<a target=\"_blank\" href=https://colab.research.google.com/notebooks/data_table.ipynb>data table notebook</a>'\n",
              "            + ' to learn more about interactive tables.';\n",
              "          element.innerHTML = '';\n",
              "          dataTable['output_type'] = 'display_data';\n",
              "          await google.colab.output.renderOutput(dataTable, element);\n",
              "          const docLink = document.createElement('div');\n",
              "          docLink.innerHTML = docLinkHtml;\n",
              "          element.appendChild(docLink);\n",
              "        }\n",
              "      </script>\n",
              "    </div>\n",
              "  </div>\n",
              "  "
            ]
          },
          "metadata": {},
          "execution_count": 11
        }
      ],
      "source": [
        "lithology_keys = {30000: 'Sandstone',65030: 'Sandstone/Shale',65000: 'Shale',80000: 'Marl',\n",
        "                 74000: 'Dolomite',70000: 'Limestone',70032: 'Chalk',88000: 'Halite',86000: 'Anhydrite',\n",
        "                 99000: 'Tuff', 90000: 'Coal', 93000: 'Basement'}\n",
        "lithologies = {30000: 0,65030: 1,65000: 2,80000: 3, 74000: 4,70000: 5,70032: 6,88000: 7,\n",
        "                  86000: 8, 99000: 9, 90000: 10, 93000: 11}\n",
        "\n",
        "data['FaciesLabels'] = data['FORCE_2020_LITHOFACIES_LITHOLOGY'].map(lithology_keys)\n",
        "data['Facies'] = data['FORCE_2020_LITHOFACIES_LITHOLOGY'].map(lithologies)\n",
        "data['Facies'] = data['Facies'].astype(int)\n",
        "data.iloc[:3,-4:]"
      ]
    },
    {
      "cell_type": "markdown",
      "id": "c794d0a5-d94b-42a0-aed3-e716d0b2182f",
      "metadata": {
        "id": "c794d0a5-d94b-42a0-aed3-e716d0b2182f"
      },
      "source": [
        "hold back from train data, we hold valid data and test data\n",
        "<br> validation set -- main goal to avoid overfitting. get early estimate of error\n",
        "<br>  ML model to better evaluate in blind data\n",
        "<br>  no guide about blind data --> chooseing randomly from train data\n",
        "<br>  model skill on train data  --biased score, hold-out set to get unbiased score (train-test split approach)\n",
        "<br>  train - fit params\n",
        "<br>  valid - tune params, helps in feature selections\n",
        "<br>  valid - k-fold cross-valid to tune\n",
        "<br>  test  - assess the model perfomance"
      ]
    },
    {
      "cell_type": "code",
      "execution_count": 12,
      "id": "f12ed01f-1f40-43b0-a046-3150ba260346",
      "metadata": {
        "id": "f12ed01f-1f40-43b0-a046-3150ba260346",
        "outputId": "52f99d60-17c5-4ccf-e106-26b82426c116",
        "colab": {
          "base_uri": "https://localhost:8080/"
        }
      },
      "outputs": [
        {
          "output_type": "stream",
          "name": "stdout",
          "text": [
            "10 10 78 20\n"
          ]
        }
      ],
      "source": [
        "# create validation well lists\n",
        "np.random.seed(12)\n",
        "wells = data.WELL.unique() # get all  well names\n",
        "valid1 = random.sample(list(wells),10)\n",
        "wells = [well for well in wells if not well in valid1] # drop previous 100 wells\n",
        "valid2 = random.sample(list(wells),10)\n",
        "wells = [well for well in wells if not well in valid2]\n",
        "valid_wells = set(valid1+valid2)\n",
        "print (len(valid1),len(valid2),len(wells),len(valid_wells))"
      ]
    },
    {
      "cell_type": "code",
      "execution_count": 13,
      "id": "36fcee71-bf8f-4824-a647-baed42029599",
      "metadata": {
        "id": "36fcee71-bf8f-4824-a647-baed42029599"
      },
      "outputs": [],
      "source": [
        "# pull valid df\n",
        "def valid_df(df,nwell):\n",
        "    validation = pd.DataFrame(columns=list(df.columns))\n",
        "    for well in nwell:\n",
        "        welldata = df.loc[df.WELL==well]\n",
        "        validation = pd.concat([welldata,validation])\n",
        "    return validation"
      ]
    },
    {
      "cell_type": "code",
      "execution_count": 14,
      "id": "ab399acf-c29f-468b-938d-d5f5414601e6",
      "metadata": {
        "id": "ab399acf-c29f-468b-938d-d5f5414601e6"
      },
      "outputs": [],
      "source": [
        "# get validations data\n",
        "validation1 = valid_df(data,valid1)\n",
        "validation2 = valid_df(data,valid2)\n",
        "# total valid \n",
        "validation_data = pd.concat([validation1,validation2])"
      ]
    },
    {
      "cell_type": "code",
      "execution_count": 15,
      "id": "4ac02e4f-3387-47e5-a6e3-2eb4ad3b217c",
      "metadata": {
        "id": "4ac02e4f-3387-47e5-a6e3-2eb4ad3b217c",
        "outputId": "9cdc5ee2-fe55-4996-ed41-7652675c3c50",
        "colab": {
          "base_uri": "https://localhost:8080/"
        }
      },
      "outputs": [
        {
          "output_type": "stream",
          "name": "stdout",
          "text": [
            "(200608, 31) (125162, 31) (75446, 31)\n"
          ]
        }
      ],
      "source": [
        "print (validation_data.shape,validation1.shape,validation2.shape)"
      ]
    },
    {
      "cell_type": "code",
      "execution_count": 16,
      "id": "a418dbef-7a96-43eb-bed1-5741208a6d75",
      "metadata": {
        "id": "a418dbef-7a96-43eb-bed1-5741208a6d75",
        "outputId": "8f1f6994-684f-45c8-82a2-3fa94114bf4a",
        "colab": {
          "base_uri": "https://localhost:8080/"
        }
      },
      "outputs": [
        {
          "output_type": "stream",
          "name": "stdout",
          "text": [
            "(1170511, 31) (969903, 31)\n"
          ]
        }
      ],
      "source": [
        "# drop validations from train\n",
        "newdata = pd.concat([data,validation_data,validation_data]).drop_duplicates(keep=False)\n",
        "print (data.shape,newdata.shape)\n",
        "# QC that no leakage, no doublicates "
      ]
    },
    {
      "cell_type": "code",
      "execution_count": 17,
      "id": "c26043a2-3600-45fb-a3b6-17568c9d326c",
      "metadata": {
        "id": "c26043a2-3600-45fb-a3b6-17568c9d326c",
        "outputId": "091bfd7b-4b4a-4562-8593-abc97d261e36",
        "colab": {
          "base_uri": "https://localhost:8080/"
        }
      },
      "outputs": [
        {
          "output_type": "stream",
          "name": "stdout",
          "text": [
            "(1170511, 31)\n",
            "1170511\n"
          ]
        }
      ],
      "source": [
        "print (data.shape)\n",
        "print (validation_data.shape[0] + newdata.shape[0])"
      ]
    },
    {
      "cell_type": "code",
      "execution_count": 18,
      "id": "5d78d905-b1bc-4558-980a-5ff415576cd1",
      "metadata": {
        "id": "5d78d905-b1bc-4558-980a-5ff415576cd1",
        "outputId": "7d3fe15d-2517-4db4-f975-3c6cdd79c9a2",
        "colab": {
          "base_uri": "https://localhost:8080/"
        }
      },
      "outputs": [
        {
          "output_type": "execute_result",
          "data": {
            "text/plain": [
              "65000    605469\n",
              "30000    137346\n",
              "65030    115990\n",
              "70000     45572\n",
              "80000     27933\n",
              "99000     13807\n",
              "70032     10291\n",
              "88000      8213\n",
              "90000      2629\n",
              "74000      1465\n",
              "86000      1085\n",
              "93000       103\n",
              "Name: FORCE_2020_LITHOFACIES_LITHOLOGY, dtype: int64"
            ]
          },
          "metadata": {},
          "execution_count": 18
        }
      ],
      "source": [
        "newdata.FORCE_2020_LITHOFACIES_LITHOLOGY.value_counts()"
      ]
    },
    {
      "cell_type": "code",
      "execution_count": 19,
      "id": "ded8f7ae-9381-48bf-bd2b-197c8091bb20",
      "metadata": {
        "id": "ded8f7ae-9381-48bf-bd2b-197c8091bb20",
        "outputId": "a7f9a8f1-39b9-41ad-f659-db9f3bc3f926",
        "colab": {
          "base_uri": "https://localhost:8080/"
        }
      },
      "outputs": [
        {
          "output_type": "execute_result",
          "data": {
            "text/plain": [
              "((1371119, 31), 1371119)"
            ]
          },
          "metadata": {},
          "execution_count": 19
        }
      ],
      "source": [
        "# conbined dataset\n",
        "ntrain = newdata.shape[0]\n",
        "nvalid1 = validation1.shape[0]\n",
        "nvalid2 = validation2.shape[0]\n",
        "nvalid3 = validation_data.shape[0]\n",
        "\n",
        "df = pd.concat([newdata,validation1,validation2,validation_data]).reset_index(drop=True)\n",
        "df.shape,ntrain+nvalid1+nvalid2+nvalid3"
      ]
    },
    {
      "cell_type": "code",
      "execution_count": 20,
      "id": "338b85e4-c580-4bd5-b8fc-365d3795d86e",
      "metadata": {
        "id": "338b85e4-c580-4bd5-b8fc-365d3795d86e"
      },
      "outputs": [],
      "source": [
        "# copy datasets\n",
        "train = newdata.copy()\n",
        "valid1 = validation1.copy()\n",
        "valid2 = validation2.copy()\n",
        "valid = validation_data.copy()"
      ]
    },
    {
      "cell_type": "code",
      "execution_count": 21,
      "id": "403811c8-6484-4e39-bcfd-e3cf274b3d24",
      "metadata": {
        "id": "403811c8-6484-4e39-bcfd-e3cf274b3d24"
      },
      "outputs": [],
      "source": [
        "# names for augment, exact data to augment\n",
        "train_well  = train.WELL.values\n",
        "train_depth = train.DEPTH_MD.values\n",
        "\n",
        "valid1_well = valid1.WELL.values\n",
        "valid1_depth = valid1.DEPTH_MD.values\n",
        "\n",
        "valid2_well = valid2.WELL.values\n",
        "valid2_depth = valid2.DEPTH_MD.values\n",
        "\n",
        "valid_well = valid.WELL.values\n",
        "valid_depth = valid.DEPTH_MD.values"
      ]
    },
    {
      "cell_type": "code",
      "execution_count": 22,
      "id": "51e9633b-84e2-4352-bb6e-91890379374e",
      "metadata": {
        "id": "51e9633b-84e2-4352-bb6e-91890379374e"
      },
      "outputs": [],
      "source": [
        "# get labels\n",
        "litho = train['Facies']\n",
        "valid1_litho = valid1['Facies']\n",
        "valid2_litho = valid2['Facies']\n",
        "valid_litho = valid['Facies']"
      ]
    },
    {
      "cell_type": "code",
      "execution_count": 23,
      "id": "ea646c42-bf8f-41ab-8516-4c10f18d23df",
      "metadata": {
        "id": "ea646c42-bf8f-41ab-8516-4c10f18d23df",
        "outputId": "b82fc1bb-bc4e-45bf-feb7-3ecefc32c6ea",
        "colab": {
          "base_uri": "https://localhost:8080/",
          "height": 235
        }
      },
      "outputs": [
        {
          "output_type": "execute_result",
          "data": {
            "text/plain": [
              "   DEPTH_MD         X_LOC      Y_LOC       Z_LOC       CALI  RSHA      RMED  \\\n",
              "0   494.528  437641.96875  6470972.5 -469.501831  19.480835   NaN  1.611410   \n",
              "1   494.680  437641.96875  6470972.5 -469.653809  19.468800   NaN  1.618070   \n",
              "2   494.832  437641.96875  6470972.5 -469.805786  19.468800   NaN  1.626459   \n",
              "3   494.984  437641.96875  6470972.5 -469.957794  19.459282   NaN  1.621594   \n",
              "4   495.136  437641.96875  6470972.5 -470.109772  19.453100   NaN  1.602679   \n",
              "\n",
              "       RDEP      RHOB         GR  ...  MUDWEIGHT  RMIC  ROPA  RXO  \\\n",
              "0  1.798681  1.884186  80.200851  ...        NaN   NaN   NaN  NaN   \n",
              "1  1.795641  1.889794  79.262886  ...        NaN   NaN   NaN  NaN   \n",
              "2  1.800733  1.896523  74.821999  ...        NaN   NaN   NaN  NaN   \n",
              "3  1.801517  1.891913  72.878922  ...        NaN   NaN   NaN  NaN   \n",
              "4  1.795299  1.880034  71.729141  ...        NaN   NaN   NaN  NaN   \n",
              "\n",
              "   FORCE_2020_LITHOFACIES_LITHOLOGY  FORCE_2020_LITHOFACIES_CONFIDENCE  \\\n",
              "0                             65000                                1.0   \n",
              "1                             65000                                1.0   \n",
              "2                             65000                                1.0   \n",
              "3                             65000                                1.0   \n",
              "4                             65000                                1.0   \n",
              "\n",
              "   Facies  GROUP_encoded  FORMATION_encoded  WELL_encoded  \n",
              "0       2              6                 -1             0  \n",
              "1       2              6                 -1             0  \n",
              "2       2              6                 -1             0  \n",
              "3       2              6                 -1             0  \n",
              "4       2              6                 -1             0  \n",
              "\n",
              "[5 rows x 30 columns]"
            ],
            "text/html": [
              "\n",
              "  <div id=\"df-e6e44aeb-e926-432b-9fe0-f49e7bdb6fee\">\n",
              "    <div class=\"colab-df-container\">\n",
              "      <div>\n",
              "<style scoped>\n",
              "    .dataframe tbody tr th:only-of-type {\n",
              "        vertical-align: middle;\n",
              "    }\n",
              "\n",
              "    .dataframe tbody tr th {\n",
              "        vertical-align: top;\n",
              "    }\n",
              "\n",
              "    .dataframe thead th {\n",
              "        text-align: right;\n",
              "    }\n",
              "</style>\n",
              "<table border=\"1\" class=\"dataframe\">\n",
              "  <thead>\n",
              "    <tr style=\"text-align: right;\">\n",
              "      <th></th>\n",
              "      <th>DEPTH_MD</th>\n",
              "      <th>X_LOC</th>\n",
              "      <th>Y_LOC</th>\n",
              "      <th>Z_LOC</th>\n",
              "      <th>CALI</th>\n",
              "      <th>RSHA</th>\n",
              "      <th>RMED</th>\n",
              "      <th>RDEP</th>\n",
              "      <th>RHOB</th>\n",
              "      <th>GR</th>\n",
              "      <th>...</th>\n",
              "      <th>MUDWEIGHT</th>\n",
              "      <th>RMIC</th>\n",
              "      <th>ROPA</th>\n",
              "      <th>RXO</th>\n",
              "      <th>FORCE_2020_LITHOFACIES_LITHOLOGY</th>\n",
              "      <th>FORCE_2020_LITHOFACIES_CONFIDENCE</th>\n",
              "      <th>Facies</th>\n",
              "      <th>GROUP_encoded</th>\n",
              "      <th>FORMATION_encoded</th>\n",
              "      <th>WELL_encoded</th>\n",
              "    </tr>\n",
              "  </thead>\n",
              "  <tbody>\n",
              "    <tr>\n",
              "      <th>0</th>\n",
              "      <td>494.528</td>\n",
              "      <td>437641.96875</td>\n",
              "      <td>6470972.5</td>\n",
              "      <td>-469.501831</td>\n",
              "      <td>19.480835</td>\n",
              "      <td>NaN</td>\n",
              "      <td>1.611410</td>\n",
              "      <td>1.798681</td>\n",
              "      <td>1.884186</td>\n",
              "      <td>80.200851</td>\n",
              "      <td>...</td>\n",
              "      <td>NaN</td>\n",
              "      <td>NaN</td>\n",
              "      <td>NaN</td>\n",
              "      <td>NaN</td>\n",
              "      <td>65000</td>\n",
              "      <td>1.0</td>\n",
              "      <td>2</td>\n",
              "      <td>6</td>\n",
              "      <td>-1</td>\n",
              "      <td>0</td>\n",
              "    </tr>\n",
              "    <tr>\n",
              "      <th>1</th>\n",
              "      <td>494.680</td>\n",
              "      <td>437641.96875</td>\n",
              "      <td>6470972.5</td>\n",
              "      <td>-469.653809</td>\n",
              "      <td>19.468800</td>\n",
              "      <td>NaN</td>\n",
              "      <td>1.618070</td>\n",
              "      <td>1.795641</td>\n",
              "      <td>1.889794</td>\n",
              "      <td>79.262886</td>\n",
              "      <td>...</td>\n",
              "      <td>NaN</td>\n",
              "      <td>NaN</td>\n",
              "      <td>NaN</td>\n",
              "      <td>NaN</td>\n",
              "      <td>65000</td>\n",
              "      <td>1.0</td>\n",
              "      <td>2</td>\n",
              "      <td>6</td>\n",
              "      <td>-1</td>\n",
              "      <td>0</td>\n",
              "    </tr>\n",
              "    <tr>\n",
              "      <th>2</th>\n",
              "      <td>494.832</td>\n",
              "      <td>437641.96875</td>\n",
              "      <td>6470972.5</td>\n",
              "      <td>-469.805786</td>\n",
              "      <td>19.468800</td>\n",
              "      <td>NaN</td>\n",
              "      <td>1.626459</td>\n",
              "      <td>1.800733</td>\n",
              "      <td>1.896523</td>\n",
              "      <td>74.821999</td>\n",
              "      <td>...</td>\n",
              "      <td>NaN</td>\n",
              "      <td>NaN</td>\n",
              "      <td>NaN</td>\n",
              "      <td>NaN</td>\n",
              "      <td>65000</td>\n",
              "      <td>1.0</td>\n",
              "      <td>2</td>\n",
              "      <td>6</td>\n",
              "      <td>-1</td>\n",
              "      <td>0</td>\n",
              "    </tr>\n",
              "    <tr>\n",
              "      <th>3</th>\n",
              "      <td>494.984</td>\n",
              "      <td>437641.96875</td>\n",
              "      <td>6470972.5</td>\n",
              "      <td>-469.957794</td>\n",
              "      <td>19.459282</td>\n",
              "      <td>NaN</td>\n",
              "      <td>1.621594</td>\n",
              "      <td>1.801517</td>\n",
              "      <td>1.891913</td>\n",
              "      <td>72.878922</td>\n",
              "      <td>...</td>\n",
              "      <td>NaN</td>\n",
              "      <td>NaN</td>\n",
              "      <td>NaN</td>\n",
              "      <td>NaN</td>\n",
              "      <td>65000</td>\n",
              "      <td>1.0</td>\n",
              "      <td>2</td>\n",
              "      <td>6</td>\n",
              "      <td>-1</td>\n",
              "      <td>0</td>\n",
              "    </tr>\n",
              "    <tr>\n",
              "      <th>4</th>\n",
              "      <td>495.136</td>\n",
              "      <td>437641.96875</td>\n",
              "      <td>6470972.5</td>\n",
              "      <td>-470.109772</td>\n",
              "      <td>19.453100</td>\n",
              "      <td>NaN</td>\n",
              "      <td>1.602679</td>\n",
              "      <td>1.795299</td>\n",
              "      <td>1.880034</td>\n",
              "      <td>71.729141</td>\n",
              "      <td>...</td>\n",
              "      <td>NaN</td>\n",
              "      <td>NaN</td>\n",
              "      <td>NaN</td>\n",
              "      <td>NaN</td>\n",
              "      <td>65000</td>\n",
              "      <td>1.0</td>\n",
              "      <td>2</td>\n",
              "      <td>6</td>\n",
              "      <td>-1</td>\n",
              "      <td>0</td>\n",
              "    </tr>\n",
              "  </tbody>\n",
              "</table>\n",
              "<p>5 rows × 30 columns</p>\n",
              "</div>\n",
              "      <button class=\"colab-df-convert\" onclick=\"convertToInteractive('df-e6e44aeb-e926-432b-9fe0-f49e7bdb6fee')\"\n",
              "              title=\"Convert this dataframe to an interactive table.\"\n",
              "              style=\"display:none;\">\n",
              "        \n",
              "  <svg xmlns=\"http://www.w3.org/2000/svg\" height=\"24px\"viewBox=\"0 0 24 24\"\n",
              "       width=\"24px\">\n",
              "    <path d=\"M0 0h24v24H0V0z\" fill=\"none\"/>\n",
              "    <path d=\"M18.56 5.44l.94 2.06.94-2.06 2.06-.94-2.06-.94-.94-2.06-.94 2.06-2.06.94zm-11 1L8.5 8.5l.94-2.06 2.06-.94-2.06-.94L8.5 2.5l-.94 2.06-2.06.94zm10 10l.94 2.06.94-2.06 2.06-.94-2.06-.94-.94-2.06-.94 2.06-2.06.94z\"/><path d=\"M17.41 7.96l-1.37-1.37c-.4-.4-.92-.59-1.43-.59-.52 0-1.04.2-1.43.59L10.3 9.45l-7.72 7.72c-.78.78-.78 2.05 0 2.83L4 21.41c.39.39.9.59 1.41.59.51 0 1.02-.2 1.41-.59l7.78-7.78 2.81-2.81c.8-.78.8-2.07 0-2.86zM5.41 20L4 18.59l7.72-7.72 1.47 1.35L5.41 20z\"/>\n",
              "  </svg>\n",
              "      </button>\n",
              "      \n",
              "  <style>\n",
              "    .colab-df-container {\n",
              "      display:flex;\n",
              "      flex-wrap:wrap;\n",
              "      gap: 12px;\n",
              "    }\n",
              "\n",
              "    .colab-df-convert {\n",
              "      background-color: #E8F0FE;\n",
              "      border: none;\n",
              "      border-radius: 50%;\n",
              "      cursor: pointer;\n",
              "      display: none;\n",
              "      fill: #1967D2;\n",
              "      height: 32px;\n",
              "      padding: 0 0 0 0;\n",
              "      width: 32px;\n",
              "    }\n",
              "\n",
              "    .colab-df-convert:hover {\n",
              "      background-color: #E2EBFA;\n",
              "      box-shadow: 0px 1px 2px rgba(60, 64, 67, 0.3), 0px 1px 3px 1px rgba(60, 64, 67, 0.15);\n",
              "      fill: #174EA6;\n",
              "    }\n",
              "\n",
              "    [theme=dark] .colab-df-convert {\n",
              "      background-color: #3B4455;\n",
              "      fill: #D2E3FC;\n",
              "    }\n",
              "\n",
              "    [theme=dark] .colab-df-convert:hover {\n",
              "      background-color: #434B5C;\n",
              "      box-shadow: 0px 1px 3px 1px rgba(0, 0, 0, 0.15);\n",
              "      filter: drop-shadow(0px 1px 2px rgba(0, 0, 0, 0.3));\n",
              "      fill: #FFFFFF;\n",
              "    }\n",
              "  </style>\n",
              "\n",
              "      <script>\n",
              "        const buttonEl =\n",
              "          document.querySelector('#df-e6e44aeb-e926-432b-9fe0-f49e7bdb6fee button.colab-df-convert');\n",
              "        buttonEl.style.display =\n",
              "          google.colab.kernel.accessAllowed ? 'block' : 'none';\n",
              "\n",
              "        async function convertToInteractive(key) {\n",
              "          const element = document.querySelector('#df-e6e44aeb-e926-432b-9fe0-f49e7bdb6fee');\n",
              "          const dataTable =\n",
              "            await google.colab.kernel.invokeFunction('convertToInteractive',\n",
              "                                                     [key], {});\n",
              "          if (!dataTable) return;\n",
              "\n",
              "          const docLinkHtml = 'Like what you see? Visit the ' +\n",
              "            '<a target=\"_blank\" href=https://colab.research.google.com/notebooks/data_table.ipynb>data table notebook</a>'\n",
              "            + ' to learn more about interactive tables.';\n",
              "          element.innerHTML = '';\n",
              "          dataTable['output_type'] = 'display_data';\n",
              "          await google.colab.output.renderOutput(dataTable, element);\n",
              "          const docLink = document.createElement('div');\n",
              "          docLink.innerHTML = docLinkHtml;\n",
              "          element.appendChild(docLink);\n",
              "        }\n",
              "      </script>\n",
              "    </div>\n",
              "  </div>\n",
              "  "
            ]
          },
          "metadata": {},
          "execution_count": 23
        }
      ],
      "source": [
        "# data encoding, use label encoding rather than one hot encoding to avoid high diment..\n",
        "df['GROUP_encoded'] = df['GROUP'].astype('category')\n",
        "df['GROUP_encoded'] = df['GROUP_encoded'].cat.codes\n",
        "\n",
        "df['FORMATION_encoded'] = df['FORMATION'].astype('category')\n",
        "df['FORMATION_encoded'] = df['FORMATION_encoded'].cat.codes\n",
        "\n",
        "df['WELL_encoded'] = df['WELL'].astype('category')\n",
        "df['WELL_encoded'] = df['WELL_encoded'].cat.codes\n",
        "\n",
        "df = df.drop(['WELL','GROUP','FORMATION','FaciesLabels'],axis=1)\n",
        "\n",
        "df.head()"
      ]
    },
    {
      "cell_type": "code",
      "execution_count": 24,
      "id": "f4937cea-904f-4be3-9cbb-8b63ca86a9d9",
      "metadata": {
        "id": "f4937cea-904f-4be3-9cbb-8b63ca86a9d9",
        "outputId": "f7d60ef1-df81-4fcf-c7fb-01027753b6d6",
        "colab": {
          "base_uri": "https://localhost:8080/"
        }
      },
      "outputs": [
        {
          "output_type": "execute_result",
          "data": {
            "text/plain": [
              "DEPTH_MD                             0.0\n",
              "X_LOC                                0.0\n",
              "Y_LOC                                0.0\n",
              "Z_LOC                                0.0\n",
              "CALI                                 0.0\n",
              "RSHA                                 0.0\n",
              "RMED                                 0.0\n",
              "RDEP                                 0.0\n",
              "RHOB                                 0.0\n",
              "GR                                   0.0\n",
              "SGR                                  0.0\n",
              "NPHI                                 0.0\n",
              "PEF                                  0.0\n",
              "DTC                                  0.0\n",
              "SP                                   0.0\n",
              "BS                                   0.0\n",
              "ROP                                  0.0\n",
              "DTS                                  0.0\n",
              "DCAL                                 0.0\n",
              "DRHO                                 0.0\n",
              "MUDWEIGHT                            0.0\n",
              "RMIC                                 0.0\n",
              "ROPA                                 0.0\n",
              "RXO                                  0.0\n",
              "FORCE_2020_LITHOFACIES_LITHOLOGY     0.0\n",
              "FORCE_2020_LITHOFACIES_CONFIDENCE    0.0\n",
              "Facies                               0.0\n",
              "GROUP_encoded                        0.0\n",
              "FORMATION_encoded                    0.0\n",
              "WELL_encoded                         0.0\n",
              "dtype: float64"
            ]
          },
          "metadata": {},
          "execution_count": 24
        }
      ],
      "source": [
        "df = df.fillna(-9999)\n",
        "df.isna().sum()/df.shape[0]*100"
      ]
    },
    {
      "cell_type": "code",
      "execution_count": 25,
      "id": "3b66a42f-2099-47a9-8343-857e9620d590",
      "metadata": {
        "id": "3b66a42f-2099-47a9-8343-857e9620d590"
      },
      "outputs": [],
      "source": [
        "data = df.copy()\n",
        "# slice out the corresponding features\n",
        "train = data[:ntrain].copy()\n",
        "train.drop(['FORCE_2020_LITHOFACIES_LITHOLOGY'],axis=1,inplace=True)\n",
        "\n",
        "valid_1 = data[(ntrain):(ntrain+nvalid1)].copy()\n",
        "valid_1.drop(['FORCE_2020_LITHOFACIES_LITHOLOGY'],axis=1,inplace=True)\n",
        "valid_1 = valid_1.reset_index(drop=True)\n",
        "\n",
        "valid_2 = data[(ntrain+nvalid1):(ntrain+nvalid1+nvalid2)].copy()\n",
        "valid_2.drop(['FORCE_2020_LITHOFACIES_LITHOLOGY'],axis=1,inplace=True)\n",
        "valid_2 = valid_2.reset_index(drop=True)\n",
        "\n",
        "valid_3 = data[(ntrain+nvalid1+nvalid2):].copy()\n",
        "valid_3.drop(['FORCE_2020_LITHOFACIES_LITHOLOGY'],axis=1,inplace=True)\n",
        "valid_3 = valid_3.reset_index(drop=True)"
      ]
    },
    {
      "cell_type": "code",
      "execution_count": 26,
      "id": "09e6d0a4-760b-4a7a-94c8-dbf1744998cb",
      "metadata": {
        "id": "09e6d0a4-760b-4a7a-94c8-dbf1744998cb"
      },
      "outputs": [],
      "source": [
        "# Feature windows concatenation function\n",
        "def augment_features_window(X, N_neig):\n",
        "    \n",
        "    # Parameters\n",
        "    N_row = X.shape[0]\n",
        "    N_feat = X.shape[1]\n",
        " \n",
        "    # Zero padding\n",
        "    X = np.vstack((np.zeros((N_neig, N_feat)), X, (np.zeros((N_neig, N_feat)))))\n",
        " \n",
        "    # Loop over windows\n",
        "    X_aug = np.zeros((N_row, N_feat*(2*N_neig+1)))\n",
        "    for r in np.arange(N_row)+N_neig:\n",
        "        this_row = []\n",
        "        for c in np.arange(-N_neig,N_neig+1):\n",
        "            this_row = np.hstack((this_row, X[r+c]))\n",
        "        X_aug[r-N_neig] = this_row\n",
        " \n",
        "    return X_aug\n",
        " \n",
        "# Feature gradient computation function\n",
        "def augment_features_gradient(X, depth):\n",
        "    \n",
        "    # Compute features gradient\n",
        "    d_diff = np.diff(depth).reshape((-1, 1))\n",
        "    d_diff[d_diff==0] = 0.001\n",
        "    X_diff = np.diff(X, axis=0)\n",
        "    X_grad = X_diff / d_diff\n",
        "        \n",
        "    # Compensate for last missing value\n",
        "    X_grad = np.concatenate((X_grad, np.zeros((1, X_grad.shape[1]))))\n",
        "    \n",
        "    return X_grad\n",
        " \n",
        "# Feature augmentation function\n",
        "def augment_features(X, well, depth, N_neig=1):\n",
        "    \n",
        "    # Augment features\n",
        "    X_aug = np.zeros((X.shape[0], X.shape[1]*(N_neig*2+2)))\n",
        "    for w in np.unique(well):\n",
        "        w_idx = np.where(well == w)[0]\n",
        "        X_aug_win = augment_features_window(X[w_idx, :], N_neig)\n",
        "        X_aug_grad = augment_features_gradient(X[w_idx, :], depth[w_idx])\n",
        "        X_aug[w_idx, :] = np.concatenate((X_aug_win, X_aug_grad), axis=1)\n",
        "    \n",
        "    # Find padded rows\n",
        "    padded_rows = np.unique(np.where(X_aug[:, 0:7] == np.zeros((1, 7)))[0])\n",
        "    \n",
        "    return X_aug  #padded_rows"
      ]
    },
    {
      "cell_type": "code",
      "execution_count": 27,
      "id": "852a3587-7e2e-44ee-8bdd-26c6acbd9a51",
      "metadata": {
        "id": "852a3587-7e2e-44ee-8bdd-26c6acbd9a51",
        "outputId": "3b54c43e-1fc9-4721-a12e-3f5ad9c788c0",
        "colab": {
          "base_uri": "https://localhost:8080/"
        }
      },
      "outputs": [
        {
          "output_type": "stream",
          "name": "stdout",
          "text": [
            "Shape of datasets before augmentaion ((969903, 29), (125162, 29), (75446, 29), (200608, 29))\n"
          ]
        }
      ],
      "source": [
        "print (f'Shape of datasets before augmentaion {train.shape,valid_1.shape,valid_2.shape,valid_3.shape}')\n",
        "\n",
        "aug_train  = augment_features(train.values,train_well,train_depth)\n",
        "aug_valid1 = augment_features(valid_1.values,valid1_well,valid1_depth)\n",
        "aug_valid2 = augment_features(valid_2.values,valid2_well,valid2_depth)\n",
        "aug_valid3 = augment_features(valid_3.values,valid_well,valid_depth)"
      ]
    },
    {
      "cell_type": "code",
      "execution_count": 28,
      "id": "4a48fc84-8fa4-45f9-af3a-806c32b75e87",
      "metadata": {
        "id": "4a48fc84-8fa4-45f9-af3a-806c32b75e87",
        "outputId": "0b6e3299-a75e-44de-8ce7-2279203b6dc3",
        "colab": {
          "base_uri": "https://localhost:8080/",
          "height": 287
        }
      },
      "outputs": [
        {
          "output_type": "execute_result",
          "data": {
            "text/plain": [
              "<matplotlib.colorbar.Colorbar at 0x7f700e20a910>"
            ]
          },
          "metadata": {},
          "execution_count": 28
        },
        {
          "output_type": "display_data",
          "data": {
            "text/plain": [
              "<Figure size 432x288 with 2 Axes>"
            ],
            "image/png": "[encoded data removed]"
          },
          "metadata": {
            "needs_background": "light"
          }
        }
      ],
      "source": [
        "A = np.load(PWD + 'penalty_matrix.npy')\n",
        "plt.imshow(A)\n",
        "plt.colorbar()"
      ]
    },
    {
      "cell_type": "code",
      "execution_count": 29,
      "id": "3577b9af-90db-422d-851c-33f0fe9d1cf8",
      "metadata": {
        "id": "3577b9af-90db-422d-851c-33f0fe9d1cf8"
      },
      "outputs": [],
      "source": [
        "# make a custom metric for evaluation\n",
        "def score(y_true,y_pred):\n",
        "    S = 0.0\n",
        "    y_true = y_true.astype(int)\n",
        "    y_pred = y_pred.astype(int)\n",
        "    for i in range(0,y_true.shape[0]):\n",
        "        # penalty matrix[true class, predcited class] = value\n",
        "        S -=A[y_true[i],y_pred[i]] # [1,1]=0 , [1,4] = 4 ---> \n",
        "    return S/y_true.shape[0]"
      ]
    },
    {
      "cell_type": "code",
      "execution_count": 30,
      "id": "510b6637-8750-4f86-b07d-0cbaef29ed11",
      "metadata": {
        "id": "510b6637-8750-4f86-b07d-0cbaef29ed11"
      },
      "outputs": [],
      "source": [
        "def  show_evaluation(pred,true):\n",
        "    print (f'Default score: {score(true,pred)}')\n",
        "    print (f'Accuracy score: {accuracy_score(true,pred)}')\n",
        "    print (f'F1 score: {f1_score(true,pred)}')"
      ]
    },
    {
      "cell_type": "code",
      "execution_count": 31,
      "id": "f482f8d3-dd55-49ea-bc6d-979773a7d04b",
      "metadata": {
        "id": "f482f8d3-dd55-49ea-bc6d-979773a7d04b"
      },
      "outputs": [],
      "source": [
        "import xgboost as xgb\n",
        "from sklearn.model_selection import StratifiedKFold\n",
        "from sklearn.metrics import accuracy_score,f1_score"
      ]
    },
    {
      "cell_type": "code",
      "execution_count": 32,
      "id": "372b5aac-99dd-4a42-93c6-7de892eb92fc",
      "metadata": {
        "id": "372b5aac-99dd-4a42-93c6-7de892eb92fc"
      },
      "outputs": [],
      "source": [
        "split = 10\n",
        "kf = StratifiedKFold(n_splits=split,shuffle=True)"
      ]
    },
    {
      "cell_type": "code",
      "execution_count": 33,
      "id": "0780cd30-fdd3-4948-9e07-bbb5d43f9848",
      "metadata": {
        "id": "0780cd30-fdd3-4948-9e07-bbb5d43f9848"
      },
      "outputs": [],
      "source": [
        "model = xgb.XGBClassifier(n_estimators = 100,max_depth=10,booster='gbtree',\n",
        "                         objective='softprob',learning_rate=0.1,random_state=0,\n",
        "                         subsample=0.9,colsample_bytree=0.9,tree_method='gpu_hist',\n",
        "                         eval_metric = 'mlogloss',reg_lamdba=1500)"
      ]
    },
    {
      "cell_type": "code",
      "execution_count": 38,
      "id": "68394222-5c62-49f4-930c-ebbd29cd1a37",
      "metadata": {
        "id": "68394222-5c62-49f4-930c-ebbd29cd1a37"
      },
      "outputs": [],
      "source": [
        "valid1_pred = np.zeros((len(valid_1),12))\n",
        "valid2_pred = np.zeros((len(valid_2),12))\n",
        "valid3_pred = np.zeros((len(valid_3),12))"
      ]
    },
    {
      "cell_type": "code",
      "execution_count": 36,
      "id": "027f6bef-bf8c-42ef-b0c7-d9d5e8260331",
      "metadata": {
        "id": "027f6bef-bf8c-42ef-b0c7-d9d5e8260331"
      },
      "outputs": [],
      "source": [
        "litho = litho.astype(int)"
      ]
    },
    {
      "cell_type": "code",
      "execution_count": 39,
      "id": "127f43a9-6510-4073-9d7c-1f521539f1a3",
      "metadata": {
        "id": "127f43a9-6510-4073-9d7c-1f521539f1a3",
        "outputId": "9e1b5537-f367-4bcd-f956-e4df1b14475c",
        "colab": {
          "base_uri": "https://localhost:8080/",
          "height": 1000
        }
      },
      "outputs": [
        {
          "output_type": "stream",
          "name": "stdout",
          "text": [
            "(872912,) (96991,)\n",
            "[     0      1      2 ... 969900 969901 969902] [    37     38     51 ... 969862 969868 969891]\n",
            "[0]\tvalidation_0-mlogloss:1.90465\n",
            "Will train until validation_0-mlogloss hasn't improved in 100 rounds.\n",
            "[1]\tvalidation_0-mlogloss:1.58924\n",
            "[2]\tvalidation_0-mlogloss:1.35899\n",
            "[3]\tvalidation_0-mlogloss:1.18978\n",
            "[4]\tvalidation_0-mlogloss:1.05159\n",
            "[5]\tvalidation_0-mlogloss:0.934462\n",
            "[6]\tvalidation_0-mlogloss:0.829113\n",
            "[7]\tvalidation_0-mlogloss:0.738398\n",
            "[8]\tvalidation_0-mlogloss:0.659579\n",
            "[9]\tvalidation_0-mlogloss:0.590412\n",
            "[10]\tvalidation_0-mlogloss:0.531253\n",
            "[11]\tvalidation_0-mlogloss:0.478715\n",
            "[12]\tvalidation_0-mlogloss:0.432945\n",
            "[13]\tvalidation_0-mlogloss:0.389653\n",
            "[14]\tvalidation_0-mlogloss:0.351678\n",
            "[15]\tvalidation_0-mlogloss:0.319679\n",
            "[16]\tvalidation_0-mlogloss:0.288234\n",
            "[17]\tvalidation_0-mlogloss:0.260041\n",
            "[18]\tvalidation_0-mlogloss:0.234666\n",
            "[19]\tvalidation_0-mlogloss:0.211846\n",
            "[20]\tvalidation_0-mlogloss:0.192745\n",
            "[21]\tvalidation_0-mlogloss:0.174117\n",
            "[22]\tvalidation_0-mlogloss:0.158209\n",
            "[23]\tvalidation_0-mlogloss:0.143725\n",
            "[24]\tvalidation_0-mlogloss:0.129981\n",
            "[25]\tvalidation_0-mlogloss:0.118445\n",
            "[26]\tvalidation_0-mlogloss:0.107354\n",
            "[27]\tvalidation_0-mlogloss:0.097077\n",
            "[28]\tvalidation_0-mlogloss:0.088016\n",
            "[29]\tvalidation_0-mlogloss:0.079588\n",
            "[30]\tvalidation_0-mlogloss:0.072447\n",
            "[31]\tvalidation_0-mlogloss:0.065537\n",
            "[32]\tvalidation_0-mlogloss:0.059273\n",
            "[33]\tvalidation_0-mlogloss:0.053784\n",
            "[34]\tvalidation_0-mlogloss:0.048951\n",
            "[35]\tvalidation_0-mlogloss:0.044278\n",
            "[36]\tvalidation_0-mlogloss:0.040053\n",
            "[37]\tvalidation_0-mlogloss:0.036471\n",
            "[38]\tvalidation_0-mlogloss:0.033022\n",
            "[39]\tvalidation_0-mlogloss:0.029967\n",
            "[40]\tvalidation_0-mlogloss:0.027111\n",
            "[41]\tvalidation_0-mlogloss:0.024528\n",
            "[42]\tvalidation_0-mlogloss:0.022192\n",
            "[43]\tvalidation_0-mlogloss:0.020078\n",
            "[44]\tvalidation_0-mlogloss:0.018167\n",
            "[45]\tvalidation_0-mlogloss:0.016438\n",
            "[46]\tvalidation_0-mlogloss:0.014924\n",
            "[47]\tvalidation_0-mlogloss:0.013551\n",
            "[48]\tvalidation_0-mlogloss:0.012346\n",
            "[49]\tvalidation_0-mlogloss:0.011331\n",
            "[50]\tvalidation_0-mlogloss:0.010256\n",
            "[51]\tvalidation_0-mlogloss:0.009283\n",
            "[52]\tvalidation_0-mlogloss:0.008401\n",
            "[53]\tvalidation_0-mlogloss:0.007667\n",
            "[54]\tvalidation_0-mlogloss:0.007004\n",
            "[55]\tvalidation_0-mlogloss:0.006341\n",
            "[56]\tvalidation_0-mlogloss:0.005767\n",
            "[57]\tvalidation_0-mlogloss:0.005243\n",
            "[58]\tvalidation_0-mlogloss:0.004746\n",
            "[59]\tvalidation_0-mlogloss:0.004303\n",
            "[60]\tvalidation_0-mlogloss:0.003931\n",
            "[61]\tvalidation_0-mlogloss:0.003564\n",
            "[62]\tvalidation_0-mlogloss:0.003228\n",
            "[63]\tvalidation_0-mlogloss:0.002958\n",
            "[64]\tvalidation_0-mlogloss:0.002678\n",
            "[65]\tvalidation_0-mlogloss:0.002457\n",
            "[66]\tvalidation_0-mlogloss:0.002225\n",
            "[67]\tvalidation_0-mlogloss:0.002014\n",
            "[68]\tvalidation_0-mlogloss:0.001839\n",
            "[69]\tvalidation_0-mlogloss:0.001676\n",
            "[70]\tvalidation_0-mlogloss:0.001544\n",
            "[71]\tvalidation_0-mlogloss:0.001399\n",
            "[72]\tvalidation_0-mlogloss:0.001267\n",
            "[73]\tvalidation_0-mlogloss:0.001148\n",
            "[74]\tvalidation_0-mlogloss:0.001046\n",
            "[75]\tvalidation_0-mlogloss:0.000958\n",
            "[76]\tvalidation_0-mlogloss:0.000875\n",
            "[77]\tvalidation_0-mlogloss:0.000793\n",
            "[78]\tvalidation_0-mlogloss:0.000719\n",
            "[79]\tvalidation_0-mlogloss:0.000652\n",
            "[80]\tvalidation_0-mlogloss:0.000597\n",
            "[81]\tvalidation_0-mlogloss:0.000548\n",
            "[82]\tvalidation_0-mlogloss:0.0005\n",
            "[83]\tvalidation_0-mlogloss:0.000462\n",
            "[84]\tvalidation_0-mlogloss:0.00042\n",
            "[85]\tvalidation_0-mlogloss:0.000387\n",
            "[86]\tvalidation_0-mlogloss:0.000351\n",
            "[87]\tvalidation_0-mlogloss:0.000319\n",
            "[88]\tvalidation_0-mlogloss:0.000293\n",
            "[89]\tvalidation_0-mlogloss:0.000266\n",
            "[90]\tvalidation_0-mlogloss:0.000242\n",
            "[91]\tvalidation_0-mlogloss:0.000224\n",
            "[92]\tvalidation_0-mlogloss:0.000206\n",
            "[93]\tvalidation_0-mlogloss:0.00019\n",
            "[94]\tvalidation_0-mlogloss:0.000173\n",
            "[95]\tvalidation_0-mlogloss:0.000158\n",
            "[96]\tvalidation_0-mlogloss:0.000144\n",
            "[97]\tvalidation_0-mlogloss:0.000131\n",
            "[98]\tvalidation_0-mlogloss:0.00012\n",
            "[99]\tvalidation_0-mlogloss:0.00011\n"
          ]
        },
        {
          "output_type": "error",
          "ename": "ValueError",
          "evalue": "ignored",
          "traceback": [
            "\u001b[0;31m---------------------------------------------------------------------------\u001b[0m",
            "\u001b[0;31mValueError\u001b[0m                                Traceback (most recent call last)",
            "\u001b[0;32m<ipython-input-39-caa79d4741e2>\u001b[0m in \u001b[0;36m<module>\u001b[0;34m()\u001b[0m\n\u001b[1;32m     11\u001b[0m     \u001b[0mmodel\u001b[0m\u001b[0;34m.\u001b[0m\u001b[0mfit\u001b[0m\u001b[0;34m(\u001b[0m\u001b[0mX_train\u001b[0m\u001b[0;34m,\u001b[0m\u001b[0mY_train\u001b[0m\u001b[0;34m,\u001b[0m\u001b[0mearly_stopping_rounds\u001b[0m\u001b[0;34m=\u001b[0m\u001b[0;36m100\u001b[0m\u001b[0;34m,\u001b[0m\u001b[0meval_set\u001b[0m\u001b[0;34m=\u001b[0m\u001b[0;34m[\u001b[0m\u001b[0;34m(\u001b[0m\u001b[0mX_test\u001b[0m\u001b[0;34m,\u001b[0m\u001b[0mY_test\u001b[0m\u001b[0;34m)\u001b[0m\u001b[0;34m]\u001b[0m\u001b[0;34m,\u001b[0m\u001b[0mverbose\u001b[0m\u001b[0;34m=\u001b[0m\u001b[0;36m1\u001b[0m\u001b[0;34m)\u001b[0m\u001b[0;34m\u001b[0m\u001b[0;34m\u001b[0m\u001b[0m\n\u001b[1;32m     12\u001b[0m \u001b[0;34m\u001b[0m\u001b[0m\n\u001b[0;32m---> 13\u001b[0;31m     \u001b[0mpredictions_1\u001b[0m \u001b[0;34m=\u001b[0m \u001b[0mmodel\u001b[0m\u001b[0;34m.\u001b[0m\u001b[0mpredict\u001b[0m\u001b[0;34m(\u001b[0m\u001b[0maug_valid1\u001b[0m\u001b[0;34m)\u001b[0m\u001b[0;34m\u001b[0m\u001b[0;34m\u001b[0m\u001b[0m\n\u001b[0m\u001b[1;32m     14\u001b[0m     \u001b[0mpredictions_2\u001b[0m \u001b[0;34m=\u001b[0m \u001b[0mmodel\u001b[0m\u001b[0;34m.\u001b[0m\u001b[0mpredict\u001b[0m\u001b[0;34m(\u001b[0m\u001b[0maug_valid_2\u001b[0m\u001b[0;34m)\u001b[0m\u001b[0;34m\u001b[0m\u001b[0;34m\u001b[0m\u001b[0m\n\u001b[1;32m     15\u001b[0m     \u001b[0mpredictions_3\u001b[0m \u001b[0;34m=\u001b[0m \u001b[0mmodel\u001b[0m\u001b[0;34m.\u001b[0m\u001b[0mpredict\u001b[0m\u001b[0;34m(\u001b[0m\u001b[0maug_valid_3\u001b[0m\u001b[0;34m)\u001b[0m\u001b[0;34m\u001b[0m\u001b[0;34m\u001b[0m\u001b[0m\n",
            "\u001b[0;32m/usr/local/lib/python3.7/dist-packages/xgboost/sklearn.py\u001b[0m in \u001b[0;36mpredict\u001b[0;34m(self, data, output_margin, ntree_limit, validate_features)\u001b[0m\n\u001b[1;32m    789\u001b[0m                                                  \u001b[0moutput_margin\u001b[0m\u001b[0;34m=\u001b[0m\u001b[0moutput_margin\u001b[0m\u001b[0;34m,\u001b[0m\u001b[0;34m\u001b[0m\u001b[0;34m\u001b[0m\u001b[0m\n\u001b[1;32m    790\u001b[0m                                                  \u001b[0mntree_limit\u001b[0m\u001b[0;34m=\u001b[0m\u001b[0mntree_limit\u001b[0m\u001b[0;34m,\u001b[0m\u001b[0;34m\u001b[0m\u001b[0;34m\u001b[0m\u001b[0m\n\u001b[0;32m--> 791\u001b[0;31m                                                  validate_features=validate_features)\n\u001b[0m\u001b[1;32m    792\u001b[0m         \u001b[0;32mif\u001b[0m \u001b[0moutput_margin\u001b[0m\u001b[0;34m:\u001b[0m\u001b[0;34m\u001b[0m\u001b[0;34m\u001b[0m\u001b[0m\n\u001b[1;32m    793\u001b[0m             \u001b[0;31m# If output_margin is active, simply return the scores\u001b[0m\u001b[0;34m\u001b[0m\u001b[0;34m\u001b[0m\u001b[0;34m\u001b[0m\u001b[0m\n",
            "\u001b[0;32m/usr/local/lib/python3.7/dist-packages/xgboost/core.py\u001b[0m in \u001b[0;36mpredict\u001b[0;34m(self, data, output_margin, ntree_limit, pred_leaf, pred_contribs, approx_contribs, pred_interactions, validate_features)\u001b[0m\n\u001b[1;32m   1282\u001b[0m \u001b[0;34m\u001b[0m\u001b[0m\n\u001b[1;32m   1283\u001b[0m         \u001b[0;32mif\u001b[0m \u001b[0mvalidate_features\u001b[0m\u001b[0;34m:\u001b[0m\u001b[0;34m\u001b[0m\u001b[0;34m\u001b[0m\u001b[0m\n\u001b[0;32m-> 1284\u001b[0;31m             \u001b[0mself\u001b[0m\u001b[0;34m.\u001b[0m\u001b[0m_validate_features\u001b[0m\u001b[0;34m(\u001b[0m\u001b[0mdata\u001b[0m\u001b[0;34m)\u001b[0m\u001b[0;34m\u001b[0m\u001b[0;34m\u001b[0m\u001b[0m\n\u001b[0m\u001b[1;32m   1285\u001b[0m \u001b[0;34m\u001b[0m\u001b[0m\n\u001b[1;32m   1286\u001b[0m         \u001b[0mlength\u001b[0m \u001b[0;34m=\u001b[0m \u001b[0mc_bst_ulong\u001b[0m\u001b[0;34m(\u001b[0m\u001b[0;34m)\u001b[0m\u001b[0;34m\u001b[0m\u001b[0;34m\u001b[0m\u001b[0m\n",
            "\u001b[0;32m/usr/local/lib/python3.7/dist-packages/xgboost/core.py\u001b[0m in \u001b[0;36m_validate_features\u001b[0;34m(self, data)\u001b[0m\n\u001b[1;32m   1688\u001b[0m \u001b[0;34m\u001b[0m\u001b[0m\n\u001b[1;32m   1689\u001b[0m                 raise ValueError(msg.format(self.feature_names,\n\u001b[0;32m-> 1690\u001b[0;31m                                             data.feature_names))\n\u001b[0m\u001b[1;32m   1691\u001b[0m \u001b[0;34m\u001b[0m\u001b[0m\n\u001b[1;32m   1692\u001b[0m     \u001b[0;32mdef\u001b[0m \u001b[0mget_split_value_histogram\u001b[0m\u001b[0;34m(\u001b[0m\u001b[0mself\u001b[0m\u001b[0;34m,\u001b[0m \u001b[0mfeature\u001b[0m\u001b[0;34m,\u001b[0m \u001b[0mfmap\u001b[0m\u001b[0;34m=\u001b[0m\u001b[0;34m''\u001b[0m\u001b[0;34m,\u001b[0m \u001b[0mbins\u001b[0m\u001b[0;34m=\u001b[0m\u001b[0;32mNone\u001b[0m\u001b[0;34m,\u001b[0m \u001b[0mas_pandas\u001b[0m\u001b[0;34m=\u001b[0m\u001b[0;32mTrue\u001b[0m\u001b[0;34m)\u001b[0m\u001b[0;34m:\u001b[0m\u001b[0;34m\u001b[0m\u001b[0;34m\u001b[0m\u001b[0m\n",
            "\u001b[0;31mValueError\u001b[0m: feature_names mismatch: ['DEPTH_MD', 'X_LOC', 'Y_LOC', 'Z_LOC', 'CALI', 'RSHA', 'RMED', 'RDEP', 'RHOB', 'GR', 'SGR', 'NPHI', 'PEF', 'DTC', 'SP', 'BS', 'ROP', 'DTS', 'DCAL', 'DRHO', 'MUDWEIGHT', 'RMIC', 'ROPA', 'RXO', 'FORCE_2020_LITHOFACIES_CONFIDENCE', 'Facies', 'GROUP_encoded', 'FORMATION_encoded', 'WELL_encoded'] ['f0', 'f1', 'f2', 'f3', 'f4', 'f5', 'f6', 'f7', 'f8', 'f9', 'f10', 'f11', 'f12', 'f13', 'f14', 'f15', 'f16', 'f17', 'f18', 'f19', 'f20', 'f21', 'f22', 'f23', 'f24', 'f25', 'f26', 'f27', 'f28', 'f29', 'f30', 'f31', 'f32', 'f33', 'f34', 'f35', 'f36', 'f37', 'f38', 'f39', 'f40', 'f41', 'f42', 'f43', 'f44', 'f45', 'f46', 'f47', 'f48', 'f49', 'f50', 'f51', 'f52', 'f53', 'f54', 'f55', 'f56', 'f57', 'f58', 'f59', 'f60', 'f61', 'f62', 'f63', 'f64', 'f65', 'f66', 'f67', 'f68', 'f69', 'f70', 'f71', 'f72', 'f73', 'f74', 'f75', 'f76', 'f77', 'f78', 'f79', 'f80', 'f81', 'f82', 'f83', 'f84', 'f85', 'f86', 'f87', 'f88', 'f89', 'f90', 'f91', 'f92', 'f93', 'f94', 'f95', 'f96', 'f97', 'f98', 'f99', 'f100', 'f101', 'f102', 'f103', 'f104', 'f105', 'f106', 'f107', 'f108', 'f109', 'f110', 'f111', 'f112', 'f113', 'f114', 'f115']\nexpected RMIC, Y_LOC, BS, GROUP_encoded, DTC, Z_LOC, NPHI, DTS, GR, RDEP, DRHO, DCAL, SP, ROP, ROPA, RMED, WELL_encoded, CALI, RSHA, Facies, X_LOC, MUDWEIGHT, DEPTH_MD, PEF, SGR, RHOB, FORCE_2020_LITHOFACIES_CONFIDENCE, FORMATION_encoded, RXO in input data\ntraining data did not have the following fields: f104, f113, f71, f63, f93, f69, f106, f58, f73, f36, f114, f3, f57, f103, f30, f19, f40, f25, f60, f31, f41, f115, f27, f35, f96, f16, f24, f26, f45, f97, f105, f1, f14, f50, f2, f101, f5, f23, f88, f70, f76, f98, f10, f65, f87, f38, f64, f37, f83, f17, f0, f22, f49, f11, f55, f108, f85, f6, f20, f44, f82, f56, f47, f39, f51, f43, f109, f89, f52, f112, f66, f74, f9, f67, f62, f33, f91, f80, f7, f53, f29, f4, f34, f75, f18, f79, f77, f15, f78, f90, f100, f54, f8, f92, f13, f46, f111, f42, f95, f110, f61, f81, f21, f84, f94, f59, f48, f72, f99, f28, f12, f68, f102, f107, f86, f32"
          ]
        }
      ],
      "source": [
        "# implementing the CV loop\n",
        "\n",
        "i = 1\n",
        "for (train_index,test_index) in kf.split(aug_train,litho):\n",
        "    print (train_index.shape,test_index.shape)\n",
        "    print(train_index,test_index)\n",
        "    \n",
        "    X_train,X_test = train.iloc[train_index],train.iloc[test_index]\n",
        "    Y_train,Y_test = litho.iloc[train_index],litho.iloc[test_index]\n",
        "    \n",
        "    model.fit(X_train,Y_train,early_stopping_rounds=100,eval_set=[(X_test,Y_test)],verbose=1)\n",
        "    \n",
        "    predictions_1 = model.predict(aug_valid1)\n",
        "    predictions_2 = model.predict(aug_valid_2)\n",
        "    predictions_3 = model.predict(aug_valid_3)\n",
        "    \n",
        "    print (show_evaluation(predictions_1,valid_1_lithology))\n",
        "    print (show_evaluation(predictions_2,valid_2_lithology))\n",
        "    print (show_evaluation(predictions_3,valid_3_lithology))\n",
        "    \n",
        "    print (f'----------------------FOLD {i}-------------------')\n",
        "    \n",
        "    \n",
        "    i+=1\n",
        "    \n",
        "    valid1_pred += model.predict_proba(aug_valid1)\n",
        "    valid2_pred += model.predict_proba(aug_valid2)\n",
        "    valid3_pred += model.predict_proba(aug_valid3)"
      ]
    },
    {
      "cell_type": "code",
      "execution_count": 41,
      "id": "e8a7096d-a578-4471-9968-ca89aa04e884",
      "metadata": {
        "id": "e8a7096d-a578-4471-9968-ca89aa04e884",
        "outputId": "dd59e0eb-9560-44f8-a4cf-0a1fbe55b623",
        "colab": {
          "base_uri": "https://localhost:8080/"
        }
      },
      "outputs": [
        {
          "output_type": "execute_result",
          "data": {
            "text/plain": [
              "(125162, 116)"
            ]
          },
          "metadata": {},
          "execution_count": 41
        }
      ],
      "source": [
        "aug_valid1.shape"
      ]
    },
    {
      "cell_type": "code",
      "execution_count": null,
      "id": "9d209495-e858-4b3f-9d0c-76811419f155",
      "metadata": {
        "id": "9d209495-e858-4b3f-9d0c-76811419f155",
        "outputId": "007b2051-6891-4f06-a194-bf7616b432fd"
      },
      "outputs": [
        {
          "data": {
            "text/plain": [
              "array([[0.00000000e+00, 0.00000000e+00, 0.00000000e+00, ...,\n",
              "        0.00000000e+00, 0.00000000e+00, 0.00000000e+00],\n",
              "       [3.89208159e+03, 4.96651781e+05, 6.73979950e+06, ...,\n",
              "        0.00000000e+00, 0.00000000e+00, 0.00000000e+00],\n",
              "       [3.89223359e+03, 4.96651906e+05, 6.73979950e+06, ...,\n",
              "        0.00000000e+00, 0.00000000e+00, 0.00000000e+00],\n",
              "       ...,\n",
              "       [3.12540779e+03, 4.44186906e+05, 6.43559800e+06, ...,\n",
              "        0.00000000e+00, 0.00000000e+00, 0.00000000e+00],\n",
              "       [3.12555979e+03, 4.44186906e+05, 6.43559800e+06, ...,\n",
              "        0.00000000e+00, 0.00000000e+00, 0.00000000e+00],\n",
              "       [3.12571179e+03, 4.44186906e+05, 6.43559800e+06, ...,\n",
              "        0.00000000e+00, 0.00000000e+00, 0.00000000e+00]])"
            ]
          },
          "execution_count": 105,
          "metadata": {},
          "output_type": "execute_result"
        }
      ],
      "source": [
        "aug_valid1"
      ]
    },
    {
      "cell_type": "code",
      "execution_count": null,
      "id": "1804d685-ae66-47ea-b471-df6ecccfcdcb",
      "metadata": {
        "id": "1804d685-ae66-47ea-b471-df6ecccfcdcb"
      },
      "outputs": [],
      "source": [
        "import xgboost as xgb"
      ]
    },
    {
      "cell_type": "code",
      "execution_count": null,
      "id": "8875fc1a-0418-4669-a68d-5100600affb8",
      "metadata": {
        "id": "8875fc1a-0418-4669-a68d-5100600affb8"
      },
      "outputs": [],
      "source": [
        ""
      ]
    }
  ],
  "metadata": {
    "kernelspec": {
      "display_name": "Python 3 (ipykernel)",
      "language": "python",
      "name": "python3"
    },
    "language_info": {
      "codemirror_mode": {
        "name": "ipython",
        "version": 3
      },
      "file_extension": ".py",
      "mimetype": "text/x-python",
      "name": "python",
      "nbconvert_exporter": "python",
      "pygments_lexer": "ipython3",
      "version": "3.8.3"
    },
    "colab": {
      "name": "xgboost.ipynb",
      "provenance": []
    },
    "accelerator": "GPU"
  },
  "nbformat": 4,
  "nbformat_minor": 5
}