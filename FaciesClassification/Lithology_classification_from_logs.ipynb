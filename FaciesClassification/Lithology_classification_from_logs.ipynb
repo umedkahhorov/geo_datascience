{
 "cells": [
  {
   "cell_type": "code",
   "execution_count": 1,
   "id": "dc4a325a",
   "metadata": {},
   "outputs": [],
   "source": [
    "# review SEG ML contest"
   ]
  },
  {
   "cell_type": "code",
   "execution_count": 1,
   "id": "b071e6ea",
   "metadata": {},
   "outputs": [],
   "source": [
    "import numpy as np\n",
    "import pandas as pd\n",
    "import matplotlib.pyplot as plt\n",
    "import matplotlib.colors as colors\n",
    "from mpl_toolkits.axes_grid1 import make_axes_locatable\n",
    "from sklearn.neural_network import MLPRegressor\n",
    "from xgboost import XGBClassifier\n",
    "from sklearn.metrics import confusion_matrix\n",
    "from sklearn.metrics import accuracy_score\n",
    "from sklearn.metrics import f1_score"
   ]
  },
  {
   "cell_type": "code",
   "execution_count": 2,
   "id": "91695af8",
   "metadata": {},
   "outputs": [],
   "source": [
    "from ukpgks import plots"
   ]
  },
  {
   "cell_type": "markdown",
   "id": "f08efc38",
   "metadata": {},
   "source": [
    "## Shortly about contest\n",
    "### Classification problem\n",
    "\n",
    "features: five logs, two indicators. PE  log missed for some wells\n",
    "\n",
    "labels   : facies, nine types - multiclass classification\n",
    "\n",
    "training datasets: nine wells"
   ]
  },
  {
   "cell_type": "markdown",
   "id": "ceeff969",
   "metadata": {},
   "source": [
    "Approach 1\n",
    "Convert Well Name and Formation to category type\n",
    "Hold one well as test data\n",
    "Have a look at data, plot facies with thier color\n",
    "Standart scaler features\n",
    "cross validation train_test_split 0.1 st 42\n",
    "SVM\n"
   ]
  },
  {
   "cell_type": "code",
   "execution_count": 33,
   "id": "9e172db0",
   "metadata": {},
   "outputs": [
    {
     "name": "stdout",
     "output_type": "stream",
     "text": [
      "(4069, 11) Number of wells 10\n"
     ]
    }
   ],
   "source": [
    "# read datasets: train and test\n",
    "df= pd.read_csv('facies_vectors.csv')\n",
    "features  = ['GR','ILD_log10','DeltaPHI','PHIND','PE','NM_M','RELPOS']\n",
    "well_logs = ['GR','ILD_log10','DeltaPHI','PHIND','PE']\n",
    "data = df[df['Well Name']!='Recruit F9'] # psedo well remove\n",
    "print (data.shape,f\"Number of wells {df['Well Name'].unique().size}\")"
   ]
  },
  {
   "cell_type": "code",
   "execution_count": 34,
   "id": "a0d94de3",
   "metadata": {},
   "outputs": [
    {
     "data": {
      "text/html": [
       "<div>\n",
       "<style scoped>\n",
       "    .dataframe tbody tr th:only-of-type {\n",
       "        vertical-align: middle;\n",
       "    }\n",
       "\n",
       "    .dataframe tbody tr th {\n",
       "        vertical-align: top;\n",
       "    }\n",
       "\n",
       "    .dataframe thead th {\n",
       "        text-align: right;\n",
       "    }\n",
       "</style>\n",
       "<table border=\"1\" class=\"dataframe\">\n",
       "  <thead>\n",
       "    <tr style=\"text-align: right;\">\n",
       "      <th></th>\n",
       "      <th>Facies</th>\n",
       "      <th>Description</th>\n",
       "      <th>Label</th>\n",
       "      <th>Adjacent Facies</th>\n",
       "    </tr>\n",
       "  </thead>\n",
       "  <tbody>\n",
       "    <tr>\n",
       "      <th>0</th>\n",
       "      <td>1</td>\n",
       "      <td>Nonmarine Sandstone</td>\n",
       "      <td>SS</td>\n",
       "      <td>2</td>\n",
       "    </tr>\n",
       "    <tr>\n",
       "      <th>1</th>\n",
       "      <td>2</td>\n",
       "      <td>Nonmarine coarse siltstone</td>\n",
       "      <td>CSiS</td>\n",
       "      <td>1.3</td>\n",
       "    </tr>\n",
       "    <tr>\n",
       "      <th>2</th>\n",
       "      <td>3</td>\n",
       "      <td>Nonmarine fine siltstone</td>\n",
       "      <td>FSiS</td>\n",
       "      <td>2</td>\n",
       "    </tr>\n",
       "    <tr>\n",
       "      <th>3</th>\n",
       "      <td>4</td>\n",
       "      <td>Marine siltstone and shale</td>\n",
       "      <td>SiSh</td>\n",
       "      <td>5</td>\n",
       "    </tr>\n",
       "    <tr>\n",
       "      <th>4</th>\n",
       "      <td>5</td>\n",
       "      <td>Mudstone</td>\n",
       "      <td>MS</td>\n",
       "      <td>4.6</td>\n",
       "    </tr>\n",
       "    <tr>\n",
       "      <th>5</th>\n",
       "      <td>6</td>\n",
       "      <td>Wackestone</td>\n",
       "      <td>WS</td>\n",
       "      <td>5.7.8</td>\n",
       "    </tr>\n",
       "    <tr>\n",
       "      <th>6</th>\n",
       "      <td>7</td>\n",
       "      <td>Dolomite</td>\n",
       "      <td>D</td>\n",
       "      <td>6.8</td>\n",
       "    </tr>\n",
       "    <tr>\n",
       "      <th>7</th>\n",
       "      <td>8</td>\n",
       "      <td>Packstone-grainstone</td>\n",
       "      <td>PS</td>\n",
       "      <td>6.7.9</td>\n",
       "    </tr>\n",
       "    <tr>\n",
       "      <th>8</th>\n",
       "      <td>9</td>\n",
       "      <td>Phylloid-algal bafflestone</td>\n",
       "      <td>BS</td>\n",
       "      <td>7.8</td>\n",
       "    </tr>\n",
       "  </tbody>\n",
       "</table>\n",
       "</div>"
      ],
      "text/plain": [
       "   Facies                  Description  Label  Adjacent Facies\n",
       "0        1         Nonmarine Sandstone     SS                2\n",
       "1        2  Nonmarine coarse siltstone   CSiS              1.3\n",
       "2        3    Nonmarine fine siltstone   FSiS                2\n",
       "3        4  Marine siltstone and shale   SiSh                5\n",
       "4        5                    Mudstone     MS              4.6\n",
       "5        6                  Wackestone     WS            5.7.8\n",
       "6        7                    Dolomite      D              6.8\n",
       "7        8        Packstone-grainstone     PS            6.7.9\n",
       "8        9  Phylloid-algal bafflestone     BS              7.8"
      ]
     },
     "execution_count": 34,
     "metadata": {},
     "output_type": "execute_result"
    }
   ],
   "source": [
    "# understanding of targets \n",
    "labels_descriptions = pd.read_csv('labels.csv',\n",
    "                                  header=0,index_col=None,sep=';')\n",
    "facies_description = dict()\n",
    "for v,k in zip(labels_descriptions['Description '],labels_descriptions['Facies ']):\n",
    "    facies_description[k] = v\n",
    "wellnames = df['Well Name'].unique()\n",
    "labels_descriptions.head(10)"
   ]
  },
  {
   "cell_type": "code",
   "execution_count": 35,
   "id": "ce62e9f9",
   "metadata": {},
   "outputs": [
    {
     "name": "stderr",
     "output_type": "stream",
     "text": [
      "/opt/anaconda3/lib/python3.8/site-packages/pandas/core/indexing.py:1667: SettingWithCopyWarning: \n",
      "A value is trying to be set on a copy of a slice from a DataFrame.\n",
      "Try using .loc[row_indexer,col_indexer] = value instead\n",
      "\n",
      "See the caveats in the documentation: https://pandas.pydata.org/pandas-docs/stable/user_guide/indexing.html#returning-a-view-versus-a-copy\n",
      "  self.obj[key] = value\n"
     ]
    },
    {
     "data": {
      "text/html": [
       "<div>\n",
       "<style scoped>\n",
       "    .dataframe tbody tr th:only-of-type {\n",
       "        vertical-align: middle;\n",
       "    }\n",
       "\n",
       "    .dataframe tbody tr th {\n",
       "        vertical-align: top;\n",
       "    }\n",
       "\n",
       "    .dataframe thead th {\n",
       "        text-align: right;\n",
       "    }\n",
       "</style>\n",
       "<table border=\"1\" class=\"dataframe\">\n",
       "  <thead>\n",
       "    <tr style=\"text-align: right;\">\n",
       "      <th></th>\n",
       "      <th>Facies</th>\n",
       "      <th>Formation</th>\n",
       "      <th>Well Name</th>\n",
       "      <th>Depth</th>\n",
       "      <th>GR</th>\n",
       "      <th>ILD_log10</th>\n",
       "      <th>DeltaPHI</th>\n",
       "      <th>PHIND</th>\n",
       "      <th>PE</th>\n",
       "      <th>NM_M</th>\n",
       "      <th>RELPOS</th>\n",
       "      <th>FaciesColors</th>\n",
       "      <th>FaciesLabels</th>\n",
       "      <th>FaciesDescrip</th>\n",
       "    </tr>\n",
       "  </thead>\n",
       "  <tbody>\n",
       "    <tr>\n",
       "      <th>0</th>\n",
       "      <td>3</td>\n",
       "      <td>A1 SH</td>\n",
       "      <td>SHRIMPLIN</td>\n",
       "      <td>2793.0</td>\n",
       "      <td>77.45</td>\n",
       "      <td>0.664</td>\n",
       "      <td>9.9</td>\n",
       "      <td>11.915</td>\n",
       "      <td>4.6</td>\n",
       "      <td>1</td>\n",
       "      <td>1.000</td>\n",
       "      <td>#DC7633</td>\n",
       "      <td>FSiS</td>\n",
       "      <td>Nonmarine fine siltstone</td>\n",
       "    </tr>\n",
       "    <tr>\n",
       "      <th>1</th>\n",
       "      <td>3</td>\n",
       "      <td>A1 SH</td>\n",
       "      <td>SHRIMPLIN</td>\n",
       "      <td>2793.5</td>\n",
       "      <td>78.26</td>\n",
       "      <td>0.661</td>\n",
       "      <td>14.2</td>\n",
       "      <td>12.565</td>\n",
       "      <td>4.1</td>\n",
       "      <td>1</td>\n",
       "      <td>0.979</td>\n",
       "      <td>#DC7633</td>\n",
       "      <td>FSiS</td>\n",
       "      <td>Nonmarine fine siltstone</td>\n",
       "    </tr>\n",
       "    <tr>\n",
       "      <th>2</th>\n",
       "      <td>3</td>\n",
       "      <td>A1 SH</td>\n",
       "      <td>SHRIMPLIN</td>\n",
       "      <td>2794.0</td>\n",
       "      <td>79.05</td>\n",
       "      <td>0.658</td>\n",
       "      <td>14.8</td>\n",
       "      <td>13.050</td>\n",
       "      <td>3.6</td>\n",
       "      <td>1</td>\n",
       "      <td>0.957</td>\n",
       "      <td>#DC7633</td>\n",
       "      <td>FSiS</td>\n",
       "      <td>Nonmarine fine siltstone</td>\n",
       "    </tr>\n",
       "  </tbody>\n",
       "</table>\n",
       "</div>"
      ],
      "text/plain": [
       "   Facies Formation  Well Name   Depth     GR  ILD_log10  DeltaPHI   PHIND  \\\n",
       "0       3     A1 SH  SHRIMPLIN  2793.0  77.45      0.664       9.9  11.915   \n",
       "1       3     A1 SH  SHRIMPLIN  2793.5  78.26      0.661      14.2  12.565   \n",
       "2       3     A1 SH  SHRIMPLIN  2794.0  79.05      0.658      14.8  13.050   \n",
       "\n",
       "    PE  NM_M  RELPOS FaciesColors FaciesLabels              FaciesDescrip  \n",
       "0  4.6     1   1.000      #DC7633         FSiS  Nonmarine fine siltstone   \n",
       "1  4.1     1   0.979      #DC7633         FSiS  Nonmarine fine siltstone   \n",
       "2  3.6     1   0.957      #DC7633         FSiS  Nonmarine fine siltstone   "
      ]
     },
     "execution_count": 35,
     "metadata": {},
     "output_type": "execute_result"
    }
   ],
   "source": [
    "# map facies with their colors: 'SS': '#F4D03F'\n",
    "facies_colors = ['#F4D03F', '#F5B041','#DC7633','#6E2C00',\n",
    "                 '#1B4F72','#2E86C1', '#AED6F1', '#A569BD', '#196F3D']\n",
    "facies_names = ['SS', 'CSiS', 'FSiS', 'SiSh', 'MS','WS', 'D','PS', 'BS']\n",
    "\n",
    "\n",
    "facies_color_map = {} \n",
    "facies_label_map = {}\n",
    "\n",
    "for ind, label in enumerate(facies_names):\n",
    "    facies_color_map[ind+1] = facies_colors[ind]\n",
    "    facies_label_map[ind+1] = facies_names[ind]\n",
    "# create consistent color maping for all facies and abbreviated facies labels\n",
    "data.loc[:,'FaciesColors'] = data.loc[:,'Facies'].map(facies_color_map)\n",
    "data.loc[:,'FaciesLabels'] = data.loc[:,'Facies'].map(facies_label_map)\n",
    "data.loc[:,'FaciesDescrip'] = data.loc[:,'Facies'].map(facies_description)\n",
    "\n",
    "data.head(3)"
   ]
  },
  {
   "cell_type": "code",
   "execution_count": 37,
   "id": "2b36f039",
   "metadata": {},
   "outputs": [
    {
     "name": "stdout",
     "output_type": "stream",
     "text": [
      "<class 'pandas.core.frame.DataFrame'>\n",
      "Int64Index: 4069 entries, 0 to 4148\n",
      "Data columns (total 14 columns):\n",
      " #   Column         Non-Null Count  Dtype   \n",
      "---  ------         --------------  -----   \n",
      " 0   Facies         4069 non-null   int64   \n",
      " 1   Formation      4069 non-null   category\n",
      " 2   Well Name      4069 non-null   category\n",
      " 3   Depth          4069 non-null   float64 \n",
      " 4   GR             4069 non-null   float64 \n",
      " 5   ILD_log10      4069 non-null   float64 \n",
      " 6   DeltaPHI       4069 non-null   float64 \n",
      " 7   PHIND          4069 non-null   float64 \n",
      " 8   PE             3164 non-null   float64 \n",
      " 9   NM_M           4069 non-null   int64   \n",
      " 10  RELPOS         4069 non-null   float64 \n",
      " 11  FaciesColors   4069 non-null   object  \n",
      " 12  FaciesLabels   4069 non-null   object  \n",
      " 13  FaciesDescrip  4069 non-null   object  \n",
      "dtypes: category(2), float64(7), int64(2), object(3)\n",
      "memory usage: 422.2+ KB\n",
      "None\n"
     ]
    },
    {
     "name": "stderr",
     "output_type": "stream",
     "text": [
      "/var/folders/xc/cnszhbxs6hn4qsj_h5yt3k7c0000gn/T/ipykernel_68621/4164799529.py:1: SettingWithCopyWarning: \n",
      "A value is trying to be set on a copy of a slice from a DataFrame.\n",
      "Try using .loc[row_indexer,col_indexer] = value instead\n",
      "\n",
      "See the caveats in the documentation: https://pandas.pydata.org/pandas-docs/stable/user_guide/indexing.html#returning-a-view-versus-a-copy\n",
      "  data['Well Name'] = data['Well Name'].astype('category')\n",
      "/var/folders/xc/cnszhbxs6hn4qsj_h5yt3k7c0000gn/T/ipykernel_68621/4164799529.py:2: SettingWithCopyWarning: \n",
      "A value is trying to be set on a copy of a slice from a DataFrame.\n",
      "Try using .loc[row_indexer,col_indexer] = value instead\n",
      "\n",
      "See the caveats in the documentation: https://pandas.pydata.org/pandas-docs/stable/user_guide/indexing.html#returning-a-view-versus-a-copy\n",
      "  data['Formation'] = data['Formation'].astype('category')\n"
     ]
    }
   ],
   "source": [
    "data['Well Name'] = data['Well Name'].astype('category')\n",
    "data['Formation'] = data['Formation'].astype('category')\n",
    "print (data.info())"
   ]
  },
  {
   "cell_type": "code",
   "execution_count": 39,
   "id": "15595889",
   "metadata": {
    "scrolled": true
   },
   "outputs": [
    {
     "data": {
      "image/png": "[encoded data removed]",
      "text/plain": [
       "<Figure size 1008x432 with 7 Axes>"
      ]
     },
     "metadata": {
      "needs_background": "light"
     },
     "output_type": "display_data"
    }
   ],
   "source": [
    "logs = data[data['Well Name'] == 'SHRIMPLIN']\n",
    "plots.plot_logs(logs,facies_colors)"
   ]
  },
  {
   "cell_type": "code",
   "execution_count": 45,
   "id": "aeff7139",
   "metadata": {},
   "outputs": [
    {
     "name": "stdout",
     "output_type": "stream",
     "text": [
      "Nan values in logs:{'PE': 77.75866306217743}\n"
     ]
    },
    {
     "data": {
      "image/png": "[encoded data removed]",
      "text/plain": [
       "<Figure size 1008x504 with 1 Axes>"
      ]
     },
     "metadata": {
      "needs_background": "light"
     },
     "output_type": "display_data"
    }
   ],
   "source": [
    "# exploratory data analysis\n",
    "# find nan values, sum along columns, devide N_obs\n",
    "train_logs = dict(100-data.isna().sum() /\n",
    "                 data.shape[0] * 100)\n",
    "logs_w_nan = {log:value for log,value in train_logs.items() if value!=100}\n",
    "print (f'Nan values in logs:{logs_w_nan}')\n",
    "# occurences of logs in wells\n",
    "plt.figure(figsize=(14,7))\n",
    "plt.bar(train_logs.keys(),train_logs.values())\n",
    "plt.xticks(list(train_logs.keys()),rotation=45)\n",
    "plt.xlabel('Logs');plt.ylabel('Well presence %');plt.tight_layout()"
   ]
  },
  {
   "cell_type": "code",
   "execution_count": 61,
   "id": "21e6112a",
   "metadata": {},
   "outputs": [
    {
     "data": {
      "text/plain": [
       "Text(0.5, 0, 'Facies')"
      ]
     },
     "execution_count": 61,
     "metadata": {},
     "output_type": "execute_result"
    },
    {
     "data": {
      "image/png": "[encoded data removed]",
      "text/plain": [
       "<Figure size 432x288 with 1 Axes>"
      ]
     },
     "metadata": {
      "needs_background": "light"
     },
     "output_type": "display_data"
    }
   ],
   "source": [
    "l = data.Facies.value_counts()\n",
    "l =  (dict(sorted(l.items())))\n",
    "l_perc  = np.array(list(l.values()))/data.shape[0] * 100\n",
    "l_names = l.keys()\n",
    "# fig = plt.figure(figsize=(15,10))\n",
    "plt.bar(l_names,l_perc); plt.ylabel('%');plt.xlabel('Facies')"
   ]
  },
  {
   "cell_type": "code",
   "execution_count": 71,
   "id": "1e8a17ab",
   "metadata": {},
   "outputs": [
    {
     "data": {
      "text/plain": [
       "{1: 'SS',\n",
       " 2: 'CSiS',\n",
       " 3: 'FSiS',\n",
       " 4: 'SiSh',\n",
       " 5: 'MS',\n",
       " 6: 'WS',\n",
       " 7: 'D',\n",
       " 8: 'PS',\n",
       " 9: 'BS'}"
      ]
     },
     "execution_count": 71,
     "metadata": {},
     "output_type": "execute_result"
    },
    {
     "data": {
      "image/png": "[encoded data removed]",
      "text/plain": [
       "<Figure size 432x288 with 1 Axes>"
      ]
     },
     "metadata": {
      "needs_background": "light"
     },
     "output_type": "display_data"
    }
   ],
   "source": [
    "facies_counts = data['Facies'].value_counts().sort_index()\n",
    "facies_counts.index = facies_label_map.values()\n",
    "facies_counts.plot(kind='bar',color=facies_colors, \n",
    "                   title='Distribution of Training Data by Facies')"
   ]
  },
  {
   "cell_type": "code",
   "execution_count": 12,
   "id": "2fea1e9e",
   "metadata": {},
   "outputs": [
    {
     "data": {
      "image/png": "[encoded data removed]",
      "text/plain": [
       "<Figure size 1080x432 with 9 Axes>"
      ]
     },
     "metadata": {
      "needs_background": "light"
     },
     "output_type": "display_data"
    }
   ],
   "source": [
    "# plot hist for logs\n",
    "# facies shpuld have diff properties to classify them or separate from each other\n",
    "datasets.DeltaPHI.hist(bins=50,by=datasets['FaciesDescrip'],color='k',\n",
    "                          figsize=(15,6), layout=(3,3),lw=0)\n",
    "plt.tight_layout()\n",
    "\n",
    "\n",
    "\n",
    "#save plot display settings to change back to when done plotting with seaborn\n",
    "inline_rc = dict(mpl.rcParams)\n",
    "\n",
    "import seaborn as sns\n",
    "sns.set()\n",
    "sns.pairplot(training_data.drop(['Well Name','Facies','Formation','Depth','NM_M','RELPOS'],axis=1),\n",
    "             hue='FaciesLabels', palette=facies_color_map,\n",
    "             hue_order=list(reversed(facies_labels)))\n",
    "\n",
    "#switch back to default matplotlib plot style\n",
    "mpl.rcParams.update(inline_rc)\n",
    "\n"
   ]
  },
  {
   "cell_type": "code",
   "execution_count": 13,
   "id": "91409b1e",
   "metadata": {},
   "outputs": [
    {
     "name": "stdout",
     "output_type": "stream",
     "text": [
      "Missing values of PE log in wells ['ALEXANDER D' 'KIMZEY A']\n",
      "(4069, 14) (3164, 14)\n",
      "905 (905, 14)\n"
     ]
    }
   ],
   "source": [
    "# data imputation \n",
    "# replace by regression predictions\n",
    "logs = ['GR','ILD_log10','DeltaPHI','PHIND']\n",
    "print ('Missing values of PE log in wells',\n",
    "       datasets[datasets['PE'].isna()]['Well Name'].unique())\n",
    "\n",
    "pe_train_data = datasets.loc[~datasets['Well Name'].isin(\\\n",
    "                ['ALEXANDER D','KIMZEY A']),:]\n",
    "\n",
    "pe_test_data = datasets.loc[datasets['Well Name'].isin(\\\n",
    "                ['KIMZEY A','ALEXANDER D']),:]\n",
    "                                                             \n",
    "print (datasets.shape,pe_train_data.shape)\n",
    "print (datasets.shape[0]-pe_train_data.shape[0],pe_test_data.shape)"
   ]
  },
  {
   "cell_type": "code",
   "execution_count": 14,
   "id": "d54c7f80",
   "metadata": {},
   "outputs": [
    {
     "name": "stdout",
     "output_type": "stream",
     "text": [
      "(3164, 4) (3164,) (905, 4)\n",
      "0.5660348586842121\n"
     ]
    }
   ],
   "source": [
    "lr = MLPRegressor(activation='relu',\n",
    "                 hidden_layer_sizes=(100, 40), random_state=1)\n",
    "\n",
    "\n",
    "X_train = pe_train_data.loc[:,logs]\n",
    "y_train = pe_train_data.loc[:,'PE']\n",
    "X_test  = pe_test_data.loc[:,logs]\n",
    "\n",
    "    \n",
    "print (X_train.shape,y_train.shape,X_test.shape)\n",
    "lr.fit(X_train,y_train)\n",
    "y_pred = lr.predict(X_test)\n",
    "print(lr.score(X_train,y_train))\n"
   ]
  },
  {
   "cell_type": "code",
   "execution_count": 15,
   "id": "f8915936",
   "metadata": {},
   "outputs": [
    {
     "name": "stderr",
     "output_type": "stream",
     "text": [
      "/opt/anaconda3/lib/python3.8/site-packages/pandas/core/indexing.py:1773: SettingWithCopyWarning: \n",
      "A value is trying to be set on a copy of a slice from a DataFrame.\n",
      "Try using .loc[row_indexer,col_indexer] = value instead\n",
      "\n",
      "See the caveats in the documentation: https://pandas.pydata.org/pandas-docs/stable/user_guide/indexing.html#returning-a-view-versus-a-copy\n",
      "  self._setitem_single_column(ilocs[0], value, pi)\n"
     ]
    }
   ],
   "source": [
    "datasets.loc[datasets['Well Name'].isin(\\\n",
    "                ['KIMZEY A','ALEXANDER D']),'PE'] = y_pred"
   ]
  },
  {
   "cell_type": "code",
   "execution_count": 17,
   "id": "5e9adaf7",
   "metadata": {},
   "outputs": [
    {
     "data": {
      "image/png": "[encoded data removed]",
      "text/plain": [
       "<Figure size 1008x432 with 7 Axes>"
      ]
     },
     "metadata": {
      "needs_background": "light"
     },
     "output_type": "display_data"
    }
   ],
   "source": [
    "logs = datasets[datasets['Well Name'] == 'KIMZEY A']\n",
    "plots.plot_logs(logs,facies_colors)"
   ]
  },
  {
   "cell_type": "code",
   "execution_count": 18,
   "id": "f06a091e",
   "metadata": {},
   "outputs": [
    {
     "name": "stderr",
     "output_type": "stream",
     "text": [
      "/opt/anaconda3/lib/python3.8/site-packages/pandas/core/indexing.py:1773: SettingWithCopyWarning: \n",
      "A value is trying to be set on a copy of a slice from a DataFrame.\n",
      "Try using .loc[row_indexer,col_indexer] = value instead\n",
      "\n",
      "See the caveats in the documentation: https://pandas.pydata.org/pandas-docs/stable/user_guide/indexing.html#returning-a-view-versus-a-copy\n",
      "  self._setitem_single_column(ilocs[0], value, pi)\n"
     ]
    }
   ],
   "source": [
    "datasets.loc[:,'Facies'] = datasets.loc[:,'Facies'].astype('category')\n",
    "train = datasets.loc[datasets['Well Name']!='SHANKLE',:]\n",
    "test = datasets.loc[datasets['Well Name']=='SHANKLE',:]"
   ]
  },
  {
   "cell_type": "code",
   "execution_count": 19,
   "id": "e6e9718c",
   "metadata": {},
   "outputs": [],
   "source": [
    "xgb = XGBClassifier(max_depth=7,\n",
    "                   learning_rate=0.1,\n",
    "                   n_estimators=500,\n",
    "                   )"
   ]
  },
  {
   "cell_type": "code",
   "execution_count": 20,
   "id": "d1ad78b4",
   "metadata": {},
   "outputs": [
    {
     "name": "stderr",
     "output_type": "stream",
     "text": [
      "/opt/anaconda3/lib/python3.8/site-packages/xgboost/sklearn.py:1224: UserWarning: The use of label encoder in XGBClassifier is deprecated and will be removed in a future release. To remove this warning, do the following: 1) Pass option use_label_encoder=False when constructing XGBClassifier object; and 2) Encode your labels (y) as integers starting with 0, i.e. 0, 1, 2, ..., [num_class - 1].\n",
      "  warnings.warn(label_encoder_deprecation_msg, UserWarning)\n"
     ]
    },
    {
     "name": "stdout",
     "output_type": "stream",
     "text": [
      "[23:15:19] WARNING: /Users/runner/miniforge3/conda-bld/xgboost-split_1634712680264/work/src/learner.cc:1115: Starting in XGBoost 1.3.0, the default evaluation metric used with the objective 'multi:softprob' was changed from 'merror' to 'mlogloss'. Explicitly set eval_metric if you'd like to restore the old behavior.\n"
     ]
    },
    {
     "data": {
      "text/plain": [
       "XGBClassifier(base_score=0.5, booster='gbtree', colsample_bylevel=1,\n",
       "              colsample_bynode=1, colsample_bytree=1, enable_categorical=False,\n",
       "              gamma=0, gpu_id=-1, importance_type=None,\n",
       "              interaction_constraints='', learning_rate=0.1, max_delta_step=0,\n",
       "              max_depth=7, min_child_weight=1, missing=nan,\n",
       "              monotone_constraints='()', n_estimators=500, n_jobs=16,\n",
       "              num_parallel_tree=1, objective='multi:softprob', predictor='auto',\n",
       "              random_state=0, reg_alpha=0, reg_lambda=1, scale_pos_weight=None,\n",
       "              subsample=1, tree_method='exact', validate_parameters=1,\n",
       "              verbosity=None)"
      ]
     },
     "execution_count": 20,
     "metadata": {},
     "output_type": "execute_result"
    }
   ],
   "source": [
    "xgb.fit(train.loc[:,features],train.loc[:,'Facies'])"
   ]
  },
  {
   "cell_type": "code",
   "execution_count": 21,
   "id": "c56bd90c",
   "metadata": {},
   "outputs": [],
   "source": [
    "y_pred = xgb.predict(test.loc[:,features])"
   ]
  },
  {
   "cell_type": "code",
   "execution_count": 22,
   "id": "118b4847",
   "metadata": {},
   "outputs": [
    {
     "data": {
      "text/plain": [
       "array([[ 7, 81,  1,  0,  0,  0,  0,  0],\n",
       "       [ 7, 66, 16,  0,  0,  0,  0,  0],\n",
       "       [ 1, 53, 63,  0,  0,  0,  0,  0],\n",
       "       [ 0,  0,  0,  2,  2,  0,  0,  3],\n",
       "       [ 0,  0,  0,  9,  1,  0,  1,  8],\n",
       "       [ 0,  0,  2,  6, 10, 39,  1, 13],\n",
       "       [ 0,  0,  0,  0,  0,  1, 13,  3],\n",
       "       [ 0,  0,  0,  0,  0, 16,  2, 22]])"
      ]
     },
     "execution_count": 22,
     "metadata": {},
     "output_type": "execute_result"
    }
   ],
   "source": [
    "conf = confusion_matrix(test.loc[:,'Facies'],y_pred)\n",
    "conf"
   ]
  },
  {
   "cell_type": "code",
   "execution_count": 23,
   "id": "4dc1304a",
   "metadata": {},
   "outputs": [
    {
     "data": {
      "text/plain": [
       "0.47438752783964366"
      ]
     },
     "execution_count": 23,
     "metadata": {},
     "output_type": "execute_result"
    }
   ],
   "source": [
    "xgb.score(test.loc[:,features],test.loc[:,'Facies'])"
   ]
  },
  {
   "cell_type": "code",
   "execution_count": 24,
   "id": "65639451",
   "metadata": {},
   "outputs": [
    {
     "data": {
      "text/plain": [
       "0.47438752783964366"
      ]
     },
     "execution_count": 24,
     "metadata": {},
     "output_type": "execute_result"
    }
   ],
   "source": [
    "accuracy_score(test.loc[:,'Facies'],y_pred)"
   ]
  },
  {
   "cell_type": "code",
   "execution_count": 25,
   "id": "1ea968ad",
   "metadata": {},
   "outputs": [
    {
     "data": {
      "text/plain": [
       "0.41586955230542233"
      ]
     },
     "execution_count": 25,
     "metadata": {},
     "output_type": "execute_result"
    }
   ],
   "source": [
    "f1_score(test.loc[:,'Facies'],y_pred,average='macro')"
   ]
  },
  {
   "cell_type": "code",
   "execution_count": 27,
   "id": "0c7e2099",
   "metadata": {},
   "outputs": [],
   "source": [
    "def cart2pol(df,features):\n",
    "    \"\"\"\n",
    "    convert cartesian coordinates to polar coordinates\n",
    "    \"\"\"\n",
    "    df_polar = df.copy()\n",
    "    fea_red = features[:]\n",
    "    for feature1 in features:\n",
    "        fea_red = fea_red[1:]\n",
    "        for feature2 in fea_red:\n",
    "            x = df.loc[:,feature1].values - df.loc[:,feature1].mean()\n",
    "            y = df.loc[:,feature2].values - df.loc[:,feature2].mean()\n",
    "            df_polar.loc[:,feature1+'_'+feature2+'_rho'] = np.sqrt(x**2 + y**2)\n",
    "            df_polar.loc[:,feature1+'_'+feature2+'_phi'] = np.arctan2(y,x)\n",
    "    \n",
    "    return df_polar\n",
    "    "
   ]
  },
  {
   "cell_type": "code",
   "execution_count": 32,
   "id": "8ae4a595",
   "metadata": {},
   "outputs": [
    {
     "data": {
      "text/plain": [
       "[3, 2, 8, 6, 7, 4, 5, 9, 1]\n",
       "Categories (9, int64): [1, 2, 3, 4, ..., 6, 7, 8, 9]"
      ]
     },
     "execution_count": 32,
     "metadata": {},
     "output_type": "execute_result"
    }
   ],
   "source": [
    "datasets_polar['Facies'].unique()"
   ]
  },
  {
   "cell_type": "code",
   "execution_count": 28,
   "id": "578b5278",
   "metadata": {},
   "outputs": [],
   "source": [
    "datasets_polar = cart2pol(datasets,well_logs)"
   ]
  },
  {
   "cell_type": "code",
   "execution_count": 29,
   "id": "08de5470",
   "metadata": {},
   "outputs": [
    {
     "data": {
      "text/html": [
       "<div>\n",
       "<style scoped>\n",
       "    .dataframe tbody tr th:only-of-type {\n",
       "        vertical-align: middle;\n",
       "    }\n",
       "\n",
       "    .dataframe tbody tr th {\n",
       "        vertical-align: top;\n",
       "    }\n",
       "\n",
       "    .dataframe thead th {\n",
       "        text-align: right;\n",
       "    }\n",
       "</style>\n",
       "<table border=\"1\" class=\"dataframe\">\n",
       "  <thead>\n",
       "    <tr style=\"text-align: right;\">\n",
       "      <th></th>\n",
       "      <th>Facies</th>\n",
       "      <th>Formation</th>\n",
       "      <th>Well Name</th>\n",
       "      <th>Depth</th>\n",
       "      <th>GR</th>\n",
       "      <th>ILD_log10</th>\n",
       "      <th>DeltaPHI</th>\n",
       "      <th>PHIND</th>\n",
       "      <th>PE</th>\n",
       "      <th>NM_M</th>\n",
       "      <th>...</th>\n",
       "      <th>ILD_log10_PHIND_rho</th>\n",
       "      <th>ILD_log10_PHIND_phi</th>\n",
       "      <th>ILD_log10_PE_rho</th>\n",
       "      <th>ILD_log10_PE_phi</th>\n",
       "      <th>DeltaPHI_PHIND_rho</th>\n",
       "      <th>DeltaPHI_PHIND_phi</th>\n",
       "      <th>DeltaPHI_PE_rho</th>\n",
       "      <th>DeltaPHI_PE_phi</th>\n",
       "      <th>PHIND_PE_rho</th>\n",
       "      <th>PHIND_PE_phi</th>\n",
       "    </tr>\n",
       "  </thead>\n",
       "  <tbody>\n",
       "    <tr>\n",
       "      <th>0</th>\n",
       "      <td>3</td>\n",
       "      <td>A1 SH</td>\n",
       "      <td>SHRIMPLIN</td>\n",
       "      <td>2793.0</td>\n",
       "      <td>77.450</td>\n",
       "      <td>0.664</td>\n",
       "      <td>9.900</td>\n",
       "      <td>11.915</td>\n",
       "      <td>4.600</td>\n",
       "      <td>1</td>\n",
       "      <td>...</td>\n",
       "      <td>1.295919</td>\n",
       "      <td>-1.568268</td>\n",
       "      <td>0.854131</td>\n",
       "      <td>1.566961</td>\n",
       "      <td>5.606167</td>\n",
       "      <td>-0.233269</td>\n",
       "      <td>5.520801</td>\n",
       "      <td>0.155334</td>\n",
       "      <td>1.552071</td>\n",
       "      <td>2.558854</td>\n",
       "    </tr>\n",
       "    <tr>\n",
       "      <th>1</th>\n",
       "      <td>3</td>\n",
       "      <td>A1 SH</td>\n",
       "      <td>SHRIMPLIN</td>\n",
       "      <td>2793.5</td>\n",
       "      <td>78.260</td>\n",
       "      <td>0.661</td>\n",
       "      <td>14.200</td>\n",
       "      <td>12.565</td>\n",
       "      <td>4.100</td>\n",
       "      <td>1</td>\n",
       "      <td>...</td>\n",
       "      <td>0.645915</td>\n",
       "      <td>-1.570369</td>\n",
       "      <td>0.354125</td>\n",
       "      <td>1.570017</td>\n",
       "      <td>9.775692</td>\n",
       "      <td>-0.066122</td>\n",
       "      <td>9.760756</td>\n",
       "      <td>0.036288</td>\n",
       "      <td>0.736621</td>\n",
       "      <td>2.640091</td>\n",
       "    </tr>\n",
       "    <tr>\n",
       "      <th>2</th>\n",
       "      <td>3</td>\n",
       "      <td>A1 SH</td>\n",
       "      <td>SHRIMPLIN</td>\n",
       "      <td>2794.0</td>\n",
       "      <td>79.050</td>\n",
       "      <td>0.658</td>\n",
       "      <td>14.800</td>\n",
       "      <td>13.050</td>\n",
       "      <td>3.600</td>\n",
       "      <td>1</td>\n",
       "      <td>...</td>\n",
       "      <td>0.160938</td>\n",
       "      <td>-1.587723</td>\n",
       "      <td>0.145900</td>\n",
       "      <td>-1.589468</td>\n",
       "      <td>10.355580</td>\n",
       "      <td>-0.015540</td>\n",
       "      <td>10.355358</td>\n",
       "      <td>-0.014087</td>\n",
       "      <td>0.217194</td>\n",
       "      <td>-2.405179</td>\n",
       "    </tr>\n",
       "    <tr>\n",
       "      <th>3</th>\n",
       "      <td>3</td>\n",
       "      <td>A1 SH</td>\n",
       "      <td>SHRIMPLIN</td>\n",
       "      <td>2794.5</td>\n",
       "      <td>86.100</td>\n",
       "      <td>0.655</td>\n",
       "      <td>13.900</td>\n",
       "      <td>13.115</td>\n",
       "      <td>3.500</td>\n",
       "      <td>1</td>\n",
       "      <td>...</td>\n",
       "      <td>0.096086</td>\n",
       "      <td>-1.630404</td>\n",
       "      <td>0.245942</td>\n",
       "      <td>-1.594073</td>\n",
       "      <td>9.454817</td>\n",
       "      <td>-0.010145</td>\n",
       "      <td>9.457527</td>\n",
       "      <td>-0.026001</td>\n",
       "      <td>0.263921</td>\n",
       "      <td>-1.942736</td>\n",
       "    </tr>\n",
       "    <tr>\n",
       "      <th>4</th>\n",
       "      <td>3</td>\n",
       "      <td>A1 SH</td>\n",
       "      <td>SHRIMPLIN</td>\n",
       "      <td>2795.0</td>\n",
       "      <td>74.580</td>\n",
       "      <td>0.647</td>\n",
       "      <td>13.500</td>\n",
       "      <td>13.300</td>\n",
       "      <td>3.400</td>\n",
       "      <td>1</td>\n",
       "      <td>...</td>\n",
       "      <td>0.090136</td>\n",
       "      <td>1.723651</td>\n",
       "      <td>0.346147</td>\n",
       "      <td>-1.610455</td>\n",
       "      <td>9.054768</td>\n",
       "      <td>0.009839</td>\n",
       "      <td>9.060934</td>\n",
       "      <td>-0.038181</td>\n",
       "      <td>0.357163</td>\n",
       "      <td>-1.318711</td>\n",
       "    </tr>\n",
       "    <tr>\n",
       "      <th>...</th>\n",
       "      <td>...</td>\n",
       "      <td>...</td>\n",
       "      <td>...</td>\n",
       "      <td>...</td>\n",
       "      <td>...</td>\n",
       "      <td>...</td>\n",
       "      <td>...</td>\n",
       "      <td>...</td>\n",
       "      <td>...</td>\n",
       "      <td>...</td>\n",
       "      <td>...</td>\n",
       "      <td>...</td>\n",
       "      <td>...</td>\n",
       "      <td>...</td>\n",
       "      <td>...</td>\n",
       "      <td>...</td>\n",
       "      <td>...</td>\n",
       "      <td>...</td>\n",
       "      <td>...</td>\n",
       "      <td>...</td>\n",
       "      <td>...</td>\n",
       "    </tr>\n",
       "    <tr>\n",
       "      <th>4144</th>\n",
       "      <td>5</td>\n",
       "      <td>C LM</td>\n",
       "      <td>CHURCHMAN BIBLE</td>\n",
       "      <td>3120.5</td>\n",
       "      <td>46.719</td>\n",
       "      <td>0.947</td>\n",
       "      <td>1.828</td>\n",
       "      <td>7.254</td>\n",
       "      <td>3.617</td>\n",
       "      <td>2</td>\n",
       "      <td>...</td>\n",
       "      <td>5.963790</td>\n",
       "      <td>-1.522776</td>\n",
       "      <td>0.313947</td>\n",
       "      <td>-0.423001</td>\n",
       "      <td>6.506691</td>\n",
       "      <td>-1.984829</td>\n",
       "      <td>2.620840</td>\n",
       "      <td>-3.092400</td>\n",
       "      <td>5.958309</td>\n",
       "      <td>-3.119962</td>\n",
       "    </tr>\n",
       "    <tr>\n",
       "      <th>4145</th>\n",
       "      <td>5</td>\n",
       "      <td>C LM</td>\n",
       "      <td>CHURCHMAN BIBLE</td>\n",
       "      <td>3121.0</td>\n",
       "      <td>44.563</td>\n",
       "      <td>0.953</td>\n",
       "      <td>2.241</td>\n",
       "      <td>8.013</td>\n",
       "      <td>3.344</td>\n",
       "      <td>2</td>\n",
       "      <td>...</td>\n",
       "      <td>5.206126</td>\n",
       "      <td>-1.514626</td>\n",
       "      <td>0.496919</td>\n",
       "      <td>-0.941995</td>\n",
       "      <td>5.646139</td>\n",
       "      <td>-1.971943</td>\n",
       "      <td>2.240998</td>\n",
       "      <td>-2.961289</td>\n",
       "      <td>5.213427</td>\n",
       "      <td>-3.064432</td>\n",
       "    </tr>\n",
       "    <tr>\n",
       "      <th>4146</th>\n",
       "      <td>5</td>\n",
       "      <td>C LM</td>\n",
       "      <td>CHURCHMAN BIBLE</td>\n",
       "      <td>3121.5</td>\n",
       "      <td>49.719</td>\n",
       "      <td>0.964</td>\n",
       "      <td>2.925</td>\n",
       "      <td>8.013</td>\n",
       "      <td>3.190</td>\n",
       "      <td>2</td>\n",
       "      <td>...</td>\n",
       "      <td>5.206755</td>\n",
       "      <td>-1.512517</td>\n",
       "      <td>0.633224</td>\n",
       "      <td>-1.071351</td>\n",
       "      <td>5.415788</td>\n",
       "      <td>-1.855408</td>\n",
       "      <td>1.619084</td>\n",
       "      <td>-2.791136</td>\n",
       "      <td>5.227554</td>\n",
       "      <td>-3.035056</td>\n",
       "    </tr>\n",
       "    <tr>\n",
       "      <th>4147</th>\n",
       "      <td>5</td>\n",
       "      <td>C LM</td>\n",
       "      <td>CHURCHMAN BIBLE</td>\n",
       "      <td>3122.0</td>\n",
       "      <td>51.469</td>\n",
       "      <td>0.965</td>\n",
       "      <td>3.083</td>\n",
       "      <td>7.708</td>\n",
       "      <td>3.152</td>\n",
       "      <td>2</td>\n",
       "      <td>...</td>\n",
       "      <td>5.511321</td>\n",
       "      <td>-1.515559</td>\n",
       "      <td>0.667286</td>\n",
       "      <td>-1.097312</td>\n",
       "      <td>5.669122</td>\n",
       "      <td>-1.813540</td>\n",
       "      <td>1.486458</td>\n",
       "      <td>-2.730596</td>\n",
       "      <td>5.534868</td>\n",
       "      <td>-3.034089</td>\n",
       "    </tr>\n",
       "    <tr>\n",
       "      <th>4148</th>\n",
       "      <td>5</td>\n",
       "      <td>C LM</td>\n",
       "      <td>CHURCHMAN BIBLE</td>\n",
       "      <td>3122.5</td>\n",
       "      <td>50.031</td>\n",
       "      <td>0.970</td>\n",
       "      <td>2.609</td>\n",
       "      <td>6.668</td>\n",
       "      <td>3.295</td>\n",
       "      <td>2</td>\n",
       "      <td>...</td>\n",
       "      <td>6.550220</td>\n",
       "      <td>-1.523563</td>\n",
       "      <td>0.546754</td>\n",
       "      <td>-0.969565</td>\n",
       "      <td>6.795814</td>\n",
       "      <td>-1.844464</td>\n",
       "      <td>1.891202</td>\n",
       "      <td>-2.900868</td>\n",
       "      <td>6.558432</td>\n",
       "      <td>-3.072791</td>\n",
       "    </tr>\n",
       "  </tbody>\n",
       "</table>\n",
       "<p>4069 rows × 34 columns</p>\n",
       "</div>"
      ],
      "text/plain": [
       "     Facies Formation        Well Name   Depth      GR  ILD_log10  DeltaPHI  \\\n",
       "0         3     A1 SH        SHRIMPLIN  2793.0  77.450      0.664     9.900   \n",
       "1         3     A1 SH        SHRIMPLIN  2793.5  78.260      0.661    14.200   \n",
       "2         3     A1 SH        SHRIMPLIN  2794.0  79.050      0.658    14.800   \n",
       "3         3     A1 SH        SHRIMPLIN  2794.5  86.100      0.655    13.900   \n",
       "4         3     A1 SH        SHRIMPLIN  2795.0  74.580      0.647    13.500   \n",
       "...     ...       ...              ...     ...     ...        ...       ...   \n",
       "4144      5      C LM  CHURCHMAN BIBLE  3120.5  46.719      0.947     1.828   \n",
       "4145      5      C LM  CHURCHMAN BIBLE  3121.0  44.563      0.953     2.241   \n",
       "4146      5      C LM  CHURCHMAN BIBLE  3121.5  49.719      0.964     2.925   \n",
       "4147      5      C LM  CHURCHMAN BIBLE  3122.0  51.469      0.965     3.083   \n",
       "4148      5      C LM  CHURCHMAN BIBLE  3122.5  50.031      0.970     2.609   \n",
       "\n",
       "       PHIND     PE  NM_M  ...  ILD_log10_PHIND_rho ILD_log10_PHIND_phi  \\\n",
       "0     11.915  4.600     1  ...             1.295919           -1.568268   \n",
       "1     12.565  4.100     1  ...             0.645915           -1.570369   \n",
       "2     13.050  3.600     1  ...             0.160938           -1.587723   \n",
       "3     13.115  3.500     1  ...             0.096086           -1.630404   \n",
       "4     13.300  3.400     1  ...             0.090136            1.723651   \n",
       "...      ...    ...   ...  ...                  ...                 ...   \n",
       "4144   7.254  3.617     2  ...             5.963790           -1.522776   \n",
       "4145   8.013  3.344     2  ...             5.206126           -1.514626   \n",
       "4146   8.013  3.190     2  ...             5.206755           -1.512517   \n",
       "4147   7.708  3.152     2  ...             5.511321           -1.515559   \n",
       "4148   6.668  3.295     2  ...             6.550220           -1.523563   \n",
       "\n",
       "     ILD_log10_PE_rho ILD_log10_PE_phi  DeltaPHI_PHIND_rho  \\\n",
       "0            0.854131         1.566961            5.606167   \n",
       "1            0.354125         1.570017            9.775692   \n",
       "2            0.145900        -1.589468           10.355580   \n",
       "3            0.245942        -1.594073            9.454817   \n",
       "4            0.346147        -1.610455            9.054768   \n",
       "...               ...              ...                 ...   \n",
       "4144         0.313947        -0.423001            6.506691   \n",
       "4145         0.496919        -0.941995            5.646139   \n",
       "4146         0.633224        -1.071351            5.415788   \n",
       "4147         0.667286        -1.097312            5.669122   \n",
       "4148         0.546754        -0.969565            6.795814   \n",
       "\n",
       "      DeltaPHI_PHIND_phi  DeltaPHI_PE_rho  DeltaPHI_PE_phi  PHIND_PE_rho  \\\n",
       "0              -0.233269         5.520801         0.155334      1.552071   \n",
       "1              -0.066122         9.760756         0.036288      0.736621   \n",
       "2              -0.015540        10.355358        -0.014087      0.217194   \n",
       "3              -0.010145         9.457527        -0.026001      0.263921   \n",
       "4               0.009839         9.060934        -0.038181      0.357163   \n",
       "...                  ...              ...              ...           ...   \n",
       "4144           -1.984829         2.620840        -3.092400      5.958309   \n",
       "4145           -1.971943         2.240998        -2.961289      5.213427   \n",
       "4146           -1.855408         1.619084        -2.791136      5.227554   \n",
       "4147           -1.813540         1.486458        -2.730596      5.534868   \n",
       "4148           -1.844464         1.891202        -2.900868      6.558432   \n",
       "\n",
       "      PHIND_PE_phi  \n",
       "0         2.558854  \n",
       "1         2.640091  \n",
       "2        -2.405179  \n",
       "3        -1.942736  \n",
       "4        -1.318711  \n",
       "...            ...  \n",
       "4144     -3.119962  \n",
       "4145     -3.064432  \n",
       "4146     -3.035056  \n",
       "4147     -3.034089  \n",
       "4148     -3.072791  \n",
       "\n",
       "[4069 rows x 34 columns]"
      ]
     },
     "execution_count": 29,
     "metadata": {},
     "output_type": "execute_result"
    }
   ],
   "source": [
    "datasets_polar.iloc[:,:]"
   ]
  },
  {
   "cell_type": "code",
   "execution_count": 14,
   "id": "12e2d111",
   "metadata": {},
   "outputs": [],
   "source": [
    "c = well_logs[:]"
   ]
  },
  {
   "cell_type": "code",
   "execution_count": 15,
   "id": "2e3b0b77",
   "metadata": {},
   "outputs": [
    {
     "data": {
      "text/plain": [
       "['GR', 'ILD_log10', 'DeltaPHI', 'PHIND', 'PE']"
      ]
     },
     "execution_count": 15,
     "metadata": {},
     "output_type": "execute_result"
    }
   ],
   "source": [
    "c"
   ]
  },
  {
   "cell_type": "code",
   "execution_count": 16,
   "id": "b47e03ab",
   "metadata": {},
   "outputs": [],
   "source": [
    "well_logs[1] = 'Umed'"
   ]
  },
  {
   "cell_type": "code",
   "execution_count": 17,
   "id": "a1af0d57",
   "metadata": {},
   "outputs": [
    {
     "data": {
      "text/plain": [
       "['GR', 'Umed', 'DeltaPHI', 'PHIND', 'PE']"
      ]
     },
     "execution_count": 17,
     "metadata": {},
     "output_type": "execute_result"
    }
   ],
   "source": [
    "well_logs"
   ]
  },
  {
   "cell_type": "code",
   "execution_count": 18,
   "id": "5145ac00",
   "metadata": {},
   "outputs": [
    {
     "data": {
      "text/plain": [
       "['GR', 'ILD_log10', 'DeltaPHI', 'PHIND', 'PE']"
      ]
     },
     "execution_count": 18,
     "metadata": {},
     "output_type": "execute_result"
    }
   ],
   "source": [
    "c"
   ]
  },
  {
   "cell_type": "code",
   "execution_count": 21,
   "id": "f7ef7f4c",
   "metadata": {},
   "outputs": [
    {
     "name": "stdout",
     "output_type": "stream",
     "text": [
      "['GR', 'Umed', 'DeltaPHI', 'PHIND']\n",
      "['GR', 'Umed', 'DeltaPHI']\n",
      "['GR', 'Umed']\n",
      "['GR']\n",
      "[]\n"
     ]
    }
   ],
   "source": [
    "c = well_logs[:]\n",
    "for feature1 in well_logs:\n",
    "    c =c[:-1]\n",
    "    print (c)"
   ]
  },
  {
   "cell_type": "code",
   "execution_count": 22,
   "id": "6e1511bc",
   "metadata": {},
   "outputs": [
    {
     "data": {
      "text/plain": [
       "['GR', 'Umed', 'DeltaPHI', 'PHIND', 'PE']"
      ]
     },
     "execution_count": 22,
     "metadata": {},
     "output_type": "execute_result"
    }
   ],
   "source": [
    "well_logs"
   ]
  },
  {
   "cell_type": "code",
   "execution_count": 28,
   "id": "0fd7f133",
   "metadata": {},
   "outputs": [],
   "source": [
    "x = datasets.loc[:,'PE'].values - datasets.loc[:,'PE'].mean()"
   ]
  },
  {
   "cell_type": "code",
   "execution_count": 29,
   "id": "72ff29bd",
   "metadata": {},
   "outputs": [],
   "source": [
    "dff = datasets.copy()"
   ]
  },
  {
   "cell_type": "code",
   "execution_count": 31,
   "id": "d7d57f77",
   "metadata": {},
   "outputs": [],
   "source": [
    "dff.loc[:,'gr'+'pe'] = x"
   ]
  },
  {
   "cell_type": "code",
   "execution_count": 36,
   "id": "9dd9af54",
   "metadata": {},
   "outputs": [
    {
     "data": {
      "text/plain": [
       "1.3542460218188073"
      ]
     },
     "execution_count": 36,
     "metadata": {},
     "output_type": "execute_result"
    }
   ],
   "source": [
    "np.arctan2(100,22)"
   ]
  },
  {
   "cell_type": "code",
   "execution_count": null,
   "id": "419fd929",
   "metadata": {},
   "outputs": [],
   "source": []
  }
 ],
 "metadata": {
  "kernelspec": {
   "display_name": "Python 3 (ipykernel)",
   "language": "python",
   "name": "python3"
  },
  "language_info": {
   "codemirror_mode": {
    "name": "ipython",
    "version": 3
   },
   "file_extension": ".py",
   "mimetype": "text/x-python",
   "name": "python",
   "nbconvert_exporter": "python",
   "pygments_lexer": "ipython3",
   "version": "3.8.3"
  }
 },
 "nbformat": 4,
 "nbformat_minor": 5
}
