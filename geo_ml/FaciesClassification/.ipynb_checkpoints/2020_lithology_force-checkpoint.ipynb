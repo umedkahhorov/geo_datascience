{
 "cells": [
  {
   "cell_type": "markdown",
   "metadata": {
    "colab_type": "text",
    "id": "view-in-github"
   },
   "source": [
    "<a href=\"https://colab.research.google.com/github/umedkahhorov/Geo_data_science/blob/main/Geo_ML/FaciesClassification_Force2020/2020_lithology_force.ipynb\" target=\"_parent\"><img src=\"https://colab.research.google.com/assets/colab-badge.svg\" alt=\"Open In Colab\"/></a>"
   ]
  },
  {
   "cell_type": "code",
   "execution_count": null,
   "metadata": {
    "id": "Dz8yWzrax0Cy"
   },
   "outputs": [],
   "source": [
    "import pandas as pd\n",
    "import matplotlib.pyplot as plt\n",
    "import xgboost as xgb\n",
    "from sklearn.model_selection import StratifiedKFold\n",
    "from sklearn.metrics import accuracy_score,f1_score\n",
    "import random"
   ]
  },
  {
   "cell_type": "code",
   "execution_count": null,
   "metadata": {
    "colab": {
     "base_uri": "https://localhost:8080/"
    },
    "id": "FQLD7UK3twSQ",
    "outputId": "55bf0c46-02b2-432f-ba59-a5e89fdb070d"
   },
   "outputs": [
    {
     "name": "stdout",
     "output_type": "stream",
     "text": [
      "Mounted at /content/drive\n"
     ]
    }
   ],
   "source": [
    "from google.colab import drive\n",
    "drive.mount('/content/drive')"
   ]
  },
  {
   "cell_type": "code",
   "execution_count": null,
   "metadata": {
    "id": "zFykSomgUmsL"
   },
   "outputs": [],
   "source": [
    "# pwd path to data folders\n",
    "PWD = '/content/drive/My Drive/ML/Force/data/'"
   ]
  },
  {
   "cell_type": "code",
   "execution_count": null,
   "metadata": {
    "id": "YhIqp5htVTXB"
   },
   "outputs": [],
   "source": [
    "#read the data\n",
    "train_data = pd.read_csv(PWD+'train.csv',sep=';')\n",
    "test_data  = pd.read_csv(PWD+'leaderboard_test_features.csv',sep=';')"
   ]
  },
  {
   "cell_type": "code",
   "execution_count": null,
   "metadata": {
    "colab": {
     "base_uri": "https://localhost:8080/"
    },
    "id": "6t3MrURKVZn5",
    "outputId": "3445dd30-510a-41bf-b5c8-40c0a1834291"
   },
   "outputs": [
    {
     "name": "stdout",
     "output_type": "stream",
     "text": [
      "Train data contain 98 wells.\n",
      "Test data contain 10 wells.\n",
      "Train data observations 1170511.\n",
      "Test data observations 136786.\n"
     ]
    }
   ],
   "source": [
    "# print data \n",
    "print (f\"Train data contain {train_data['WELL'].unique().shape[0]} wells.\")\n",
    "print (f\"Test data contain {test_data['WELL'].unique().shape[0]} wells.\")\n",
    "print (f\"Train data observations {train_data.shape[0]}.\")\n",
    "print (f\"Test data observations {test_data.shape[0]}.\")"
   ]
  },
  {
   "cell_type": "code",
   "execution_count": null,
   "metadata": {
    "colab": {
     "base_uri": "https://localhost:8080/"
    },
    "id": "-IWzBJPIaBAc",
    "outputId": "10814498-1904-45bc-bc00-062fe4728252"
   },
   "outputs": [
    {
     "name": "stdout",
     "output_type": "stream",
     "text": [
      "2 logs not in test dataset:['FORCE_2020_LITHOFACIES_LITHOLOGY', 'FORCE_2020_LITHOFACIES_CONFIDENCE']\n",
      "<class 'pandas.core.frame.DataFrame'>\n",
      "RangeIndex: 1170511 entries, 0 to 1170510\n",
      "Data columns (total 29 columns):\n",
      " #   Column                             Non-Null Count    Dtype  \n",
      "---  ------                             --------------    -----  \n",
      " 0   WELL                               1170511 non-null  object \n",
      " 1   DEPTH_MD                           1170511 non-null  float64\n",
      " 2   X_LOC                              1159736 non-null  float64\n",
      " 3   Y_LOC                              1159736 non-null  float64\n",
      " 4   Z_LOC                              1159736 non-null  float64\n",
      " 5   GROUP                              1169233 non-null  object \n",
      " 6   FORMATION                          1033517 non-null  object \n",
      " 7   CALI                               1082634 non-null  float64\n",
      " 8   RSHA                               630650 non-null   float64\n",
      " 9   RMED                               1131518 non-null  float64\n",
      " 10  RDEP                               1159496 non-null  float64\n",
      " 11  RHOB                               1009242 non-null  float64\n",
      " 12  GR                                 1170511 non-null  float64\n",
      " 13  SGR                                69353 non-null    float64\n",
      " 14  NPHI                               765409 non-null   float64\n",
      " 15  PEF                                671692 non-null   float64\n",
      " 16  DTC                                1089648 non-null  float64\n",
      " 17  SP                                 864247 non-null   float64\n",
      " 18  BS                                 682657 non-null   float64\n",
      " 19  ROP                                535071 non-null   float64\n",
      " 20  DTS                                174613 non-null   float64\n",
      " 21  DCAL                               298833 non-null   float64\n",
      " 22  DRHO                               987857 non-null   float64\n",
      " 23  MUDWEIGHT                          316151 non-null   float64\n",
      " 24  RMIC                               176160 non-null   float64\n",
      " 25  ROPA                               192325 non-null   float64\n",
      " 26  RXO                                327427 non-null   float64\n",
      " 27  FORCE_2020_LITHOFACIES_LITHOLOGY   1170511 non-null  int64  \n",
      " 28  FORCE_2020_LITHOFACIES_CONFIDENCE  1170332 non-null  float64\n",
      "dtypes: float64(25), int64(1), object(3)\n",
      "memory usage: 259.0+ MB\n",
      "None\n"
     ]
    }
   ],
   "source": [
    "# lets check logs not presenting in test datasets \n",
    "number = 0\n",
    "logs = []\n",
    "for log in train_data.columns:\n",
    "    if log not in test_data.columns:\n",
    "        logs.append(log)\n",
    "        number +=1\n",
    "print (f\"{number} logs not in test dataset:{logs}\")\n",
    "\n",
    "print (train_data.info())"
   ]
  },
  {
   "cell_type": "code",
   "execution_count": null,
   "metadata": {
    "colab": {
     "base_uri": "https://localhost:8080/"
    },
    "id": "PhdJ-7oDaIA-",
    "outputId": "05273357-d944-42bb-9208-ee8788a05c64"
   },
   "outputs": [
    {
     "name": "stdout",
     "output_type": "stream",
     "text": [
      "Wells: 98\n",
      "Group: 14\n",
      "FORMATION: 69\n"
     ]
    }
   ],
   "source": [
    "#three categorical logs, count them\n",
    "print ('Wells:',train_data['WELL'].value_counts().shape[0])\n",
    "print ('Group:',train_data['GROUP'].value_counts().shape[0])\n",
    "print ('FORMATION:',train_data['FORMATION'].value_counts().shape[0])"
   ]
  },
  {
   "cell_type": "code",
   "execution_count": null,
   "metadata": {
    "colab": {
     "base_uri": "https://localhost:8080/",
     "height": 488
    },
    "id": "WDLCDkw7aML1",
    "outputId": "4f4407eb-14f2-4284-9e59-f085e9b4689a"
   },
   "outputs": [
    {
     "data": {
      "text/plain": [
       "Text(0, 0.5, 'Well presence (\\\\%)')"
      ]
     },
     "execution_count": 20,
     "metadata": {},
     "output_type": "execute_result"
    },
    {
     "data": {
      "image/png": "[encoded data removed]",
      "text/plain": [
       "<Figure size 1008x504 with 1 Axes>"
      ]
     },
     "metadata": {
      "needs_background": "light"
     },
     "output_type": "display_data"
    }
   ],
   "source": [
    "# occerences of each logs in all 98 wells\n",
    "# check logs and find percentage of logs in wells\n",
    "occurences = np.zeros(25) # 25 logs exluding wells, FORCE litho colums \n",
    "for well in train_data['WELL'].unique():\n",
    "    occurences += train_data[train_data['WELL']==well].isna().all().astype(int).values[2:-2] \n",
    "    # took columns with missing\n",
    "fig,ax = plt.subplots(1,1,figsize=(14,7))\n",
    "ax.bar(x=np.arange(occurences.shape[0]), height = (train_data.WELL.unique().shape[0]-occurences)/\\\n",
    "       train_data.WELL.unique().shape[0]*100.0)\n",
    "ax.set_xticklabels(train_data.columns[2:-2],rotation=45)\n",
    "ax.set_xticks(np.arange(occurences.shape[0]))\n",
    "ax.set_ylabel('Well presence (\\%)')\n",
    "# some logs are complete, some presented just 30%"
   ]
  },
  {
   "cell_type": "code",
   "execution_count": null,
   "metadata": {
    "colab": {
     "base_uri": "https://localhost:8080/",
     "height": 488
    },
    "id": "Y9h-vi-0aNp3",
    "outputId": "482059a7-863d-419b-a18b-3be51f4c48a3"
   },
   "outputs": [
    {
     "data": {
      "text/plain": [
       "Text(0, 0.5, 'Well presence (\\\\%)')"
      ]
     },
     "execution_count": 21,
     "metadata": {},
     "output_type": "execute_result"
    },
    {
     "data": {
      "image/png": "[encoded data removed]",
      "text/plain": [
       "<Figure size 1008x504 with 1 Axes>"
      ]
     },
     "metadata": {
      "needs_background": "light"
     },
     "output_type": "display_data"
    }
   ],
   "source": [
    "#occerences of each logs in all 98 wells\n",
    "# check logs and find percentage of logs in wells\n",
    "occurences = np.zeros(23)\n",
    "for well in test_data['WELL'].unique():\n",
    "    occurences += test_data[test_data['WELL']==well].isna().all().astype(int).values[2:-2] \n",
    "    # took columns with missing\n",
    "fig,ax = plt.subplots(1,1,figsize=(14,7))\n",
    "ax.bar(x=np.arange(occurences.shape[0]), height = (test_data.WELL.unique().shape[0]-occurences)/\\\n",
    "       test_data.WELL.unique().shape[0]*100.0)\n",
    "ax.set_xticklabels(test_data.columns[2:-2],rotation=45)\n",
    "ax.set_xticks(np.arange(occurences.shape[0]))\n",
    "ax.set_ylabel('Well presence (\\%)')\n",
    "# no SGR not presented, some are less presented "
   ]
  },
  {
   "cell_type": "code",
   "execution_count": null,
   "metadata": {
    "colab": {
     "base_uri": "https://localhost:8080/"
    },
    "id": "HRzaM_CVaQQH",
    "outputId": "dd590e9e-020e-4c19-e73d-ed45003b554e"
   },
   "outputs": [
    {
     "data": {
      "text/plain": [
       "{'BS': 58.32128019300972,\n",
       " 'CALI': 92.49242424889643,\n",
       " 'DCAL': 25.530131711705394,\n",
       " 'DRHO': 84.3953623673763,\n",
       " 'DTC': 93.09164971538073,\n",
       " 'DTS': 14.91767270875711,\n",
       " 'FORCE_2020_LITHOFACIES_CONFIDENCE': 99.98470753371818,\n",
       " 'FORMATION': 88.29622276082839,\n",
       " 'GROUP': 99.89081691671416,\n",
       " 'MUDWEIGHT': 27.0096564662784,\n",
       " 'NPHI': 65.3910129849271,\n",
       " 'PEF': 57.38450984228256,\n",
       " 'RDEP': 99.05895801064663,\n",
       " 'RHOB': 86.22234220780497,\n",
       " 'RMED': 96.66871990096632,\n",
       " 'RMIC': 15.049837207851951,\n",
       " 'ROP': 45.712599027262456,\n",
       " 'ROPA': 16.430857975704626,\n",
       " 'RSHA': 53.878177992346934,\n",
       " 'RXO': 27.972996409260574,\n",
       " 'SGR': 5.925019072866462,\n",
       " 'SP': 73.83501735566773,\n",
       " 'X_LOC': 99.07946187605242,\n",
       " 'Y_LOC': 99.07946187605242,\n",
       " 'Z_LOC': 99.07946187605242}"
      ]
     },
     "execution_count": 22,
     "metadata": {},
     "output_type": "execute_result"
    }
   ],
   "source": [
    "# find nan values, sum along columns, devide N_obs\n",
    "# drop lods with 100 %\n",
    "train_logs = dict(100 - train_data.isna().sum()/train_data.shape[0] * 100)\n",
    "test_logs = dict(100 - test_data.isna().sum()/test_data.shape[0] * 100)\n",
    "train_logs = {log:value for log,value in train_logs.items() if value!=100}\n",
    "test_logs = {log:value for log,value in test_logs.items() if value!=100}\n",
    "train_logs\n",
    "# same as looking at graphical percentage but by numbers"
   ]
  },
  {
   "cell_type": "code",
   "execution_count": null,
   "metadata": {
    "colab": {
     "base_uri": "https://localhost:8080/",
     "height": 430
    },
    "id": "nuCGkMM0aSVA",
    "outputId": "bb23ae49-361b-4e98-c6cf-b28a3b520137"
   },
   "outputs": [
    {
     "data": {
      "image/png": "[encoded data removed]",
      "text/plain": [
       "<Figure size 1008x504 with 1 Axes>"
      ]
     },
     "metadata": {
      "needs_background": "light"
     },
     "output_type": "display_data"
    }
   ],
   "source": [
    "plt.figure(figsize=(14,7))\n",
    "plt.bar(test_logs.keys(),test_logs.values())\n",
    "plt.xticks(list(test_logs.keys()),rotation=45)\n",
    "plt.tight_layout()"
   ]
  },
  {
   "cell_type": "code",
   "execution_count": null,
   "metadata": {
    "colab": {
     "base_uri": "https://localhost:8080/"
    },
    "id": "fduFz7NFaUgm",
    "outputId": "cdff7ec6-4084-481c-c96a-11eb8b805b56"
   },
   "outputs": [
    {
     "name": "stdout",
     "output_type": "stream",
     "text": [
      "{65000: 720803, 30000: 168937, 65030: 150455, 70000: 56320, 80000: 33329, 99000: 15245, 70032: 10513, 88000: 8213, 90000: 3820, 74000: 1688, 86000: 1085, 93000: 103}\n"
     ]
    }
   ],
   "source": [
    "# lets explore labels, targets \n",
    "labels = dict(train_data.FORCE_2020_LITHOFACIES_LITHOLOGY.value_counts())\n",
    "lithofacies_names = ['Shale','Sandstone','SS/Shale','Marl','Dolomite','Limestone','Chalk',\n",
    "                    'Halite','Anhydrite','Tuff','Coal','Basement']\n",
    "print (labels)"
   ]
  },
  {
   "cell_type": "code",
   "execution_count": null,
   "metadata": {
    "colab": {
     "base_uri": "https://localhost:8080/",
     "height": 585
    },
    "id": "EbV7ytiHaV59",
    "outputId": "aa375c4b-79ad-434e-b3bb-497a1c055c61"
   },
   "outputs": [
    {
     "data": {
      "text/plain": [
       "<BarContainer object of 12 artists>"
      ]
     },
     "execution_count": 25,
     "metadata": {},
     "output_type": "execute_result"
    },
    {
     "data": {
      "image/png": "[encoded data removed]",
      "text/plain": [
       "<Figure size 1080x720 with 1 Axes>"
      ]
     },
     "metadata": {
      "needs_background": "light"
     },
     "output_type": "display_data"
    }
   ],
   "source": [
    "lithofacies_perc = np.array(list(labels.values()))/train_data.shape[0]*100\n",
    "fig = plt.figure(figsize=(15,10))\n",
    "plt.bar(lithofacies_names,lithofacies_perc)\n",
    "# shale class dominated, imbalanced skewed, if the blind test not inbalanced like train data(shale 60%) \n",
    "#we will get overfit because we learn from imbalaned dataset"
   ]
  },
  {
   "cell_type": "code",
   "execution_count": null,
   "metadata": {
    "colab": {
     "base_uri": "https://localhost:8080/",
     "height": 494
    },
    "id": "3RIRwyrCaYPX",
    "outputId": "ad8dc0f1-4028-4213-92bc-0c781addd7bb"
   },
   "outputs": [
    {
     "data": {
      "image/png": "[encoded data removed]",
      "text/plain": [
       "<Figure size 864x576 with 1 Axes>"
      ]
     },
     "metadata": {
      "needs_background": "light"
     },
     "output_type": "display_data"
    }
   ],
   "source": [
    "# data locations, check that test and train spaitailly even distributed\n",
    "fig = plt.figure(figsize=(12,8))\n",
    "plt.scatter(train_data.X_LOC,train_data.Y_LOC,c='g')\n",
    "plt.scatter(test_data.X_LOC,test_data.Y_LOC,c='r')\n",
    "plt.show()\n",
    "# test evenly distributed within area "
   ]
  },
  {
   "cell_type": "code",
   "execution_count": null,
   "metadata": {
    "id": "RUVi-dT5aagX"
   },
   "outputs": [],
   "source": [
    "# download penalty matrix \n",
    "# need to understand that misclassification of speacial classses more penalized than others\n",
    "A = np.load(PWD+'penalty_matrix.npy')"
   ]
  },
  {
   "cell_type": "code",
   "execution_count": null,
   "metadata": {
    "colab": {
     "base_uri": "https://localhost:8080/",
     "height": 287
    },
    "id": "Ic8w8OeEad6X",
    "outputId": "af6c5747-a2be-450f-fe09-7cf629eae1a9"
   },
   "outputs": [
    {
     "data": {
      "text/plain": [
       "<matplotlib.colorbar.Colorbar at 0x7fb6850f69d0>"
      ]
     },
     "execution_count": 29,
     "metadata": {},
     "output_type": "execute_result"
    },
    {
     "data": {
      "image/png": "[encoded data removed]",
      "text/plain": [
       "<Figure size 432x288 with 2 Axes>"
      ]
     },
     "metadata": {
      "needs_background": "light"
     },
     "output_type": "display_data"
    }
   ],
   "source": [
    "plt.imshow(A)\n",
    "plt.colorbar()"
   ]
  },
  {
   "cell_type": "code",
   "execution_count": null,
   "metadata": {
    "id": "pfmjpp6QaipN"
   },
   "outputs": [],
   "source": [
    "# make a custom metric for evaluation\n",
    "def score(y_true,y_pred):\n",
    "    S = 0.0\n",
    "    y_true = y_true.astype(int)\n",
    "    y_pred = y_pred.astype(int)\n",
    "    for i in range(0,y_true.shape[0]):\n",
    "        # penalty matrix[true class, predcited class] = value\n",
    "        S -=A[y_true[i],y_pred[i]] # [1,1]=0 , [1,4] = 4 ---> \n",
    "    return S/y_true.shape[0]"
   ]
  },
  {
   "cell_type": "code",
   "execution_count": null,
   "metadata": {
    "colab": {
     "base_uri": "https://localhost:8080/"
    },
    "id": "6jbTg4kHalqn",
    "outputId": "66a3a14d-7f4c-474b-ceb3-705d0f4c700b"
   },
   "outputs": [
    {
     "name": "stdout",
     "output_type": "stream",
     "text": [
      "10 10 78\n"
     ]
    }
   ],
   "source": [
    "# hold back from train data\n",
    "# so we hold valid data and test data\n",
    "# validation set, main goal to avoid overfitting. get early estimate of error\n",
    "# ML model to better evaluate in blind data\n",
    "# no guide about blind data --> chooseing randomly from train data\n",
    "# model skill on train data  --biased score, hold-out set to get unbiased score (train-test split approach)\n",
    "# train - fit params\n",
    "# valid - tune params, helps in feature selections\n",
    "# valid - k-fold cross-valid to tune\n",
    "# test  - assess the model perfomance\n",
    "np.random.seed(42)\n",
    "train_wells = train_data.WELL.unique()\n",
    "valid1 = random.sample(list(train_wells),10)\n",
    "train_wells = [well for well in train_wells if not well in valid1]\n",
    "valid2 = random.sample(list(train_wells),10)\n",
    "train_wells = [well for well in train_wells if not well in valid2]\n",
    "print (len(valid1),len(valid2),len(train_wells))\n",
    "# after choosing valid1 remove wells from train to second valid does not contain same"
   ]
  },
  {
   "cell_type": "code",
   "execution_count": null,
   "metadata": {
    "id": "DrC9hq07auC1"
   },
   "outputs": [],
   "source": [
    "assert len(set(valid1+valid2))==20"
   ]
  },
  {
   "cell_type": "code",
   "execution_count": null,
   "metadata": {
    "id": "3LCcTYb5aviT"
   },
   "outputs": [],
   "source": [
    "def create_valid_data(train,wells):\n",
    "    validation = pd.DataFrame(columns=list(train.columns))\n",
    "    for well in wells:\n",
    "        welldata = train.loc[train.WELL==well]\n",
    "        validation = pd.concat([welldata,validation])\n",
    "    return validation"
   ]
  },
  {
   "cell_type": "code",
   "execution_count": null,
   "metadata": {
    "colab": {
     "base_uri": "https://localhost:8080/"
    },
    "id": "SvJNhGw2aw7t",
    "outputId": "af685691-aac9-4eb6-bf0a-a01910686ca9"
   },
   "outputs": [
    {
     "name": "stdout",
     "output_type": "stream",
     "text": [
      "(259877, 29) (144022, 29) (115855, 29)\n",
      "(1170511, 29) (910634, 29)\n"
     ]
    }
   ],
   "source": [
    "# get validations data\n",
    "validation1 = create_valid_data(train_data,valid1)\n",
    "validation2 = create_valid_data(train_data,valid2)\n",
    "# total valid \n",
    "validation = pd.concat([validation1,validation2])\n",
    "print (validation.shape,validation1.shape,validation2.shape)\n",
    "# drop validations from train\n",
    "newtrain_data = pd.concat([train_data,validation1,validation2]).drop_duplicates(keep=False)\n",
    "print (train_data.shape,newtrain_data.shape)\n",
    "# QC that no leakage, no doublicates \n",
    "assert train_data.shape[0] == newtrain_data.shape[0]+validation.shape[0]"
   ]
  },
  {
   "cell_type": "code",
   "execution_count": null,
   "metadata": {
    "colab": {
     "base_uri": "https://localhost:8080/"
    },
    "id": "9cXqZ8A_a0o9",
    "outputId": "db131f14-14d6-4dc0-c5b4-a483ec2f964c"
   },
   "outputs": [
    {
     "name": "stdout",
     "output_type": "stream",
     "text": [
      "12 11\n"
     ]
    },
    {
     "data": {
      "text/plain": [
       "65000    565069\n",
       "30000    131962\n",
       "65030    113686\n",
       "70000     46967\n",
       "80000     25673\n",
       "99000     12565\n",
       "70032      5974\n",
       "88000      3919\n",
       "90000      3446\n",
       "74000      1133\n",
       "86000       240\n",
       "Name: FORCE_2020_LITHOFACIES_LITHOLOGY, dtype: int64"
      ]
     },
     "execution_count": 35,
     "metadata": {},
     "output_type": "execute_result"
    }
   ],
   "source": [
    "# confirm that we have all classes in new train data\n",
    "print (len(lithofacies_names),len(newtrain_data.FORCE_2020_LITHOFACIES_LITHOLOGY.value_counts()))\n",
    "newtrain_data.FORCE_2020_LITHOFACIES_LITHOLOGY.value_counts()"
   ]
  },
  {
   "cell_type": "code",
   "execution_count": null,
   "metadata": {
    "colab": {
     "base_uri": "https://localhost:8080/"
    },
    "id": "eKMndN8Ma20N",
    "outputId": "767ab990-a414-4b9e-fa8e-6a2c335e1fce"
   },
   "outputs": [
    {
     "data": {
      "text/plain": [
       "{'BS': 48.9553024432325,\n",
       " 'CALI': 95.87311566973229,\n",
       " 'DCAL': 9.880397116663985,\n",
       " 'DEPTH_MD': 100.0,\n",
       " 'DRHO': 81.5551299109558,\n",
       " 'DTC': 99.3983302384747,\n",
       " 'DTS': 31.596800842191456,\n",
       " 'FORMATION': 94.82841811296478,\n",
       " 'GR': 100.0,\n",
       " 'GROUP': 100.0,\n",
       " 'MUDWEIGHT': 14.818036933604319,\n",
       " 'NPHI': 76.06260874650914,\n",
       " 'PEF': 82.97852119368942,\n",
       " 'RDEP': 99.95686693082625,\n",
       " 'RHOB': 87.60107028497069,\n",
       " 'RMED': 99.57086251516968,\n",
       " 'RMIC': 8.272776453730643,\n",
       " 'ROP': 49.94370768938342,\n",
       " 'ROPA': 40.78633778310646,\n",
       " 'RSHA': 28.58260348281256,\n",
       " 'RXO': 21.820946588101123,\n",
       " 'SGR': 0.0,\n",
       " 'SP': 48.70893220066381,\n",
       " 'WELL': 100.0,\n",
       " 'X_LOC': 99.95686693082625,\n",
       " 'Y_LOC': 99.95686693082625,\n",
       " 'Z_LOC': 99.95686693082625}"
      ]
     },
     "execution_count": 36,
     "metadata": {},
     "output_type": "execute_result"
    }
   ],
   "source": [
    "test_logs = dict(100 - test_data.isna().sum()/test_data.shape[0] * 100)\n",
    "test_logs"
   ]
  },
  {
   "cell_type": "code",
   "execution_count": null,
   "metadata": {
    "colab": {
     "base_uri": "https://localhost:8080/"
    },
    "id": "WQjl012Ba4gk",
    "outputId": "5756e989-bb03-40c2-cfa1-9d7a9f4dc67f"
   },
   "outputs": [
    {
     "data": {
      "text/plain": [
       "dict_keys(['RSHA', 'SGR', 'DCAL', 'MUDWEIGHT', 'RMIC', 'RXO'])"
      ]
     },
     "execution_count": 37,
     "metadata": {},
     "output_type": "execute_result"
    }
   ],
   "source": [
    "# we drop confidence, some logs with lower 30% presence\n",
    "train_logs = dict(100 - train_data.isna().sum()/train_data.shape[0] * 100)\n",
    "drop_logs = {log:value for log,value in test_logs.items() if value <=30.0}\n",
    "drop_logs = drop_logs.keys()\n",
    "drop_logs"
   ]
  },
  {
   "cell_type": "code",
   "execution_count": null,
   "metadata": {
    "id": "igVuKytRa6NO"
   },
   "outputs": [],
   "source": [
    "# combine all data to faster processing \n",
    "ntrain  = newtrain_data.shape[0]\n",
    "ntest   = test_data.shape[0]\n",
    "nvalid1 = validation1.shape[0]\n",
    "nvalid2 = validation2.shape[0]\n",
    "nvalid3 = validation.shape[0]\n",
    "df = pd.concat((newtrain_data,test_data,validation1,validation2,validation)).reset_index(drop=True)"
   ]
  },
  {
   "cell_type": "code",
   "execution_count": null,
   "metadata": {
    "colab": {
     "base_uri": "https://localhost:8080/"
    },
    "id": "a6au0NkFa75W",
    "outputId": "20dfb0cd-4e71-4403-aa1e-7e22c8591c82"
   },
   "outputs": [
    {
     "data": {
      "text/plain": [
       "(1567174, 29)"
      ]
     },
     "execution_count": 39,
     "metadata": {},
     "output_type": "execute_result"
    }
   ],
   "source": [
    "df.shape"
   ]
  },
  {
   "cell_type": "code",
   "execution_count": null,
   "metadata": {
    "id": "CVGuTlXha9bS"
   },
   "outputs": [],
   "source": [
    "# \n",
    "train = newtrain_data.copy()\n",
    "test  = test_data.copy()\n",
    "valid_1 = validation1.copy()\n",
    "valid_2 = validation2.copy()\n",
    "valid_3 = validation.copy()"
   ]
  },
  {
   "cell_type": "code",
   "execution_count": null,
   "metadata": {
    "id": "1iCGYZbka_1j"
   },
   "outputs": [],
   "source": [
    "# exctracr names and depths for augmentations\n",
    "\n",
    "train_well  = train.WELL.values\n",
    "train_depth = train.DEPTH_MD.values\n",
    "\n",
    "test_well = test.WELL.values\n",
    "test_depth = test.DEPTH_MD.values\n",
    "\n",
    "valid_1_well  = valid_1.WELL.values\n",
    "valid_1_depth = valid_1.DEPTH_MD.values\n",
    "\n",
    "valid_2_well  = valid_2.WELL.values\n",
    "valid_2_depth = valid_2.DEPTH_MD.values\n",
    "\n",
    "valid_3_well  = valid_3.WELL.values\n",
    "valid_3_depth = valid_3.DEPTH_MD.values"
   ]
  },
  {
   "cell_type": "code",
   "execution_count": null,
   "metadata": {
    "colab": {
     "base_uri": "https://localhost:8080/"
    },
    "id": "pbqbfidNbBnL",
    "outputId": "d5c58bdf-fccd-474c-d8e7-16f1898fdb2c"
   },
   "outputs": [
    {
     "data": {
      "text/plain": [
       "{30000: 0,\n",
       " 65000: 2,\n",
       " 65030: 1,\n",
       " 70000: 5,\n",
       " 70032: 6,\n",
       " 74000: 4,\n",
       " 80000: 3,\n",
       " 86000: 8,\n",
       " 88000: 7,\n",
       " 90000: 10,\n",
       " 93000: 11,\n",
       " 99000: 9}"
      ]
     },
     "execution_count": 42,
     "metadata": {},
     "output_type": "execute_result"
    }
   ],
   "source": [
    "# extract labels\n",
    "lithology = train['FORCE_2020_LITHOFACIES_LITHOLOGY']\n",
    "valid_1_lithology = valid_1['FORCE_2020_LITHOFACIES_LITHOLOGY']\n",
    "valid_2_lithology = valid_2['FORCE_2020_LITHOFACIES_LITHOLOGY']\n",
    "valid_3_lithology = valid_3['FORCE_2020_LITHOFACIES_LITHOLOGY']\n",
    "\n",
    "# litho_ix = sorted(list(train['FORCE_2020_LITHOFACIES_LITHOLOGY'].value_counts().index))\n",
    "# numbers = [i for i in range(0,len(lithofacies_names))]\n",
    "#lithology_number = {litho:number for litho,number in zip(litho_ix,numbers)}\n",
    "lithology_number = {30000: 0, 65030: 1,65000: 2,80000: 3, 74000: 4,70000: 5,\n",
    "                     70032: 6, 88000: 7, 86000: 8, 99000: 9, 90000: 10,93000: 11}\n",
    "lithology_number"
   ]
  },
  {
   "cell_type": "code",
   "execution_count": null,
   "metadata": {
    "id": "b3TGuhtCbC_U"
   },
   "outputs": [],
   "source": [
    "lithology = lithology.map(lithology_number)\n",
    "valid_1_lithology = valid_1_lithology.map(lithology_number)\n",
    "valid_2_lithology = valid_2_lithology.map(lithology_number)\n",
    "valid_3_lithology = valid_3_lithology.map(lithology_number)"
   ]
  },
  {
   "cell_type": "code",
   "execution_count": null,
   "metadata": {
    "colab": {
     "base_uri": "https://localhost:8080/"
    },
    "id": "6JsSO-tVbGty",
    "outputId": "867696fa-3b7a-4287-93c2-553ccc4ca097"
   },
   "outputs": [
    {
     "data": {
      "text/plain": [
       "962497    2\n",
       "962498    2\n",
       "962499    2\n",
       "962500    2\n",
       "962501    2\n",
       "         ..\n",
       "133193    0\n",
       "133194    0\n",
       "133195    0\n",
       "133196    0\n",
       "133197    0\n",
       "Name: FORCE_2020_LITHOFACIES_LITHOLOGY, Length: 144022, dtype: int64"
      ]
     },
     "execution_count": 44,
     "metadata": {},
     "output_type": "execute_result"
    }
   ],
   "source": [
    "valid_1_lithology"
   ]
  },
  {
   "cell_type": "code",
   "execution_count": null,
   "metadata": {
    "colab": {
     "base_uri": "https://localhost:8080/",
     "height": 226
    },
    "id": "6jbXDiLxbI_N",
    "outputId": "e00a0314-8b4b-4ff6-aa5d-90368d869d69"
   },
   "outputs": [
    {
     "data": {
      "text/html": [
       "<div>\n",
       "<style scoped>\n",
       "    .dataframe tbody tr th:only-of-type {\n",
       "        vertical-align: middle;\n",
       "    }\n",
       "\n",
       "    .dataframe tbody tr th {\n",
       "        vertical-align: top;\n",
       "    }\n",
       "\n",
       "    .dataframe thead th {\n",
       "        text-align: right;\n",
       "    }\n",
       "</style>\n",
       "<table border=\"1\" class=\"dataframe\">\n",
       "  <thead>\n",
       "    <tr style=\"text-align: right;\">\n",
       "      <th></th>\n",
       "      <th>DEPTH_MD</th>\n",
       "      <th>X_LOC</th>\n",
       "      <th>Y_LOC</th>\n",
       "      <th>Z_LOC</th>\n",
       "      <th>CALI</th>\n",
       "      <th>RSHA</th>\n",
       "      <th>RMED</th>\n",
       "      <th>RDEP</th>\n",
       "      <th>RHOB</th>\n",
       "      <th>GR</th>\n",
       "      <th>SGR</th>\n",
       "      <th>NPHI</th>\n",
       "      <th>PEF</th>\n",
       "      <th>DTC</th>\n",
       "      <th>SP</th>\n",
       "      <th>BS</th>\n",
       "      <th>ROP</th>\n",
       "      <th>DTS</th>\n",
       "      <th>DCAL</th>\n",
       "      <th>DRHO</th>\n",
       "      <th>MUDWEIGHT</th>\n",
       "      <th>RMIC</th>\n",
       "      <th>ROPA</th>\n",
       "      <th>RXO</th>\n",
       "      <th>FORCE_2020_LITHOFACIES_LITHOLOGY</th>\n",
       "      <th>FORCE_2020_LITHOFACIES_CONFIDENCE</th>\n",
       "      <th>GROUP_encoded</th>\n",
       "      <th>FORMATION_encoded</th>\n",
       "      <th>WELL_encoded</th>\n",
       "    </tr>\n",
       "  </thead>\n",
       "  <tbody>\n",
       "    <tr>\n",
       "      <th>0</th>\n",
       "      <td>494.528</td>\n",
       "      <td>437641.96875</td>\n",
       "      <td>6470972.5</td>\n",
       "      <td>-469.501831</td>\n",
       "      <td>19.480835</td>\n",
       "      <td>NaN</td>\n",
       "      <td>1.611410</td>\n",
       "      <td>1.798681</td>\n",
       "      <td>1.884186</td>\n",
       "      <td>80.200851</td>\n",
       "      <td>NaN</td>\n",
       "      <td>NaN</td>\n",
       "      <td>20.915468</td>\n",
       "      <td>161.131180</td>\n",
       "      <td>24.612379</td>\n",
       "      <td>NaN</td>\n",
       "      <td>34.636410</td>\n",
       "      <td>NaN</td>\n",
       "      <td>NaN</td>\n",
       "      <td>-0.574928</td>\n",
       "      <td>NaN</td>\n",
       "      <td>NaN</td>\n",
       "      <td>NaN</td>\n",
       "      <td>NaN</td>\n",
       "      <td>65000</td>\n",
       "      <td>1.0</td>\n",
       "      <td>6</td>\n",
       "      <td>-1</td>\n",
       "      <td>0</td>\n",
       "    </tr>\n",
       "    <tr>\n",
       "      <th>1</th>\n",
       "      <td>494.680</td>\n",
       "      <td>437641.96875</td>\n",
       "      <td>6470972.5</td>\n",
       "      <td>-469.653809</td>\n",
       "      <td>19.468800</td>\n",
       "      <td>NaN</td>\n",
       "      <td>1.618070</td>\n",
       "      <td>1.795641</td>\n",
       "      <td>1.889794</td>\n",
       "      <td>79.262886</td>\n",
       "      <td>NaN</td>\n",
       "      <td>NaN</td>\n",
       "      <td>19.383013</td>\n",
       "      <td>160.603470</td>\n",
       "      <td>23.895531</td>\n",
       "      <td>NaN</td>\n",
       "      <td>34.636410</td>\n",
       "      <td>NaN</td>\n",
       "      <td>NaN</td>\n",
       "      <td>-0.570188</td>\n",
       "      <td>NaN</td>\n",
       "      <td>NaN</td>\n",
       "      <td>NaN</td>\n",
       "      <td>NaN</td>\n",
       "      <td>65000</td>\n",
       "      <td>1.0</td>\n",
       "      <td>6</td>\n",
       "      <td>-1</td>\n",
       "      <td>0</td>\n",
       "    </tr>\n",
       "    <tr>\n",
       "      <th>2</th>\n",
       "      <td>494.832</td>\n",
       "      <td>437641.96875</td>\n",
       "      <td>6470972.5</td>\n",
       "      <td>-469.805786</td>\n",
       "      <td>19.468800</td>\n",
       "      <td>NaN</td>\n",
       "      <td>1.626459</td>\n",
       "      <td>1.800733</td>\n",
       "      <td>1.896523</td>\n",
       "      <td>74.821999</td>\n",
       "      <td>NaN</td>\n",
       "      <td>NaN</td>\n",
       "      <td>22.591518</td>\n",
       "      <td>160.173615</td>\n",
       "      <td>23.916357</td>\n",
       "      <td>NaN</td>\n",
       "      <td>34.779556</td>\n",
       "      <td>NaN</td>\n",
       "      <td>NaN</td>\n",
       "      <td>-0.574245</td>\n",
       "      <td>NaN</td>\n",
       "      <td>NaN</td>\n",
       "      <td>NaN</td>\n",
       "      <td>NaN</td>\n",
       "      <td>65000</td>\n",
       "      <td>1.0</td>\n",
       "      <td>6</td>\n",
       "      <td>-1</td>\n",
       "      <td>0</td>\n",
       "    </tr>\n",
       "    <tr>\n",
       "      <th>3</th>\n",
       "      <td>494.984</td>\n",
       "      <td>437641.96875</td>\n",
       "      <td>6470972.5</td>\n",
       "      <td>-469.957794</td>\n",
       "      <td>19.459282</td>\n",
       "      <td>NaN</td>\n",
       "      <td>1.621594</td>\n",
       "      <td>1.801517</td>\n",
       "      <td>1.891913</td>\n",
       "      <td>72.878922</td>\n",
       "      <td>NaN</td>\n",
       "      <td>NaN</td>\n",
       "      <td>32.191910</td>\n",
       "      <td>160.149429</td>\n",
       "      <td>23.793688</td>\n",
       "      <td>NaN</td>\n",
       "      <td>39.965164</td>\n",
       "      <td>NaN</td>\n",
       "      <td>NaN</td>\n",
       "      <td>-0.586315</td>\n",
       "      <td>NaN</td>\n",
       "      <td>NaN</td>\n",
       "      <td>NaN</td>\n",
       "      <td>NaN</td>\n",
       "      <td>65000</td>\n",
       "      <td>1.0</td>\n",
       "      <td>6</td>\n",
       "      <td>-1</td>\n",
       "      <td>0</td>\n",
       "    </tr>\n",
       "    <tr>\n",
       "      <th>4</th>\n",
       "      <td>495.136</td>\n",
       "      <td>437641.96875</td>\n",
       "      <td>6470972.5</td>\n",
       "      <td>-470.109772</td>\n",
       "      <td>19.453100</td>\n",
       "      <td>NaN</td>\n",
       "      <td>1.602679</td>\n",
       "      <td>1.795299</td>\n",
       "      <td>1.880034</td>\n",
       "      <td>71.729141</td>\n",
       "      <td>NaN</td>\n",
       "      <td>NaN</td>\n",
       "      <td>38.495632</td>\n",
       "      <td>160.128342</td>\n",
       "      <td>24.104078</td>\n",
       "      <td>NaN</td>\n",
       "      <td>57.483765</td>\n",
       "      <td>NaN</td>\n",
       "      <td>NaN</td>\n",
       "      <td>-0.597914</td>\n",
       "      <td>NaN</td>\n",
       "      <td>NaN</td>\n",
       "      <td>NaN</td>\n",
       "      <td>NaN</td>\n",
       "      <td>65000</td>\n",
       "      <td>1.0</td>\n",
       "      <td>6</td>\n",
       "      <td>-1</td>\n",
       "      <td>0</td>\n",
       "    </tr>\n",
       "  </tbody>\n",
       "</table>\n",
       "</div>"
      ],
      "text/plain": [
       "   DEPTH_MD         X_LOC  ...  FORMATION_encoded  WELL_encoded\n",
       "0   494.528  437641.96875  ...                 -1             0\n",
       "1   494.680  437641.96875  ...                 -1             0\n",
       "2   494.832  437641.96875  ...                 -1             0\n",
       "3   494.984  437641.96875  ...                 -1             0\n",
       "4   495.136  437641.96875  ...                 -1             0\n",
       "\n",
       "[5 rows x 29 columns]"
      ]
     },
     "execution_count": 45,
     "metadata": {},
     "output_type": "execute_result"
    }
   ],
   "source": [
    "# data encoding, use label encoding rather than one hot encoding to avoid high diment..\n",
    "df['GROUP_encoded'] = df['GROUP'].astype('category')\n",
    "df['GROUP_encoded'] = df['GROUP_encoded'].cat.codes\n",
    "\n",
    "df['FORMATION_encoded'] = df['FORMATION'].astype('category')\n",
    "df['FORMATION_encoded'] = df['FORMATION_encoded'].cat.codes\n",
    "\n",
    "df['WELL_encoded'] = df['WELL'].astype('category')\n",
    "df['WELL_encoded'] = df['WELL_encoded'].cat.codes\n",
    "\n",
    "df = df.drop(['WELL','GROUP','FORMATION'],axis=1)\n",
    "\n",
    "df.head()"
   ]
  },
  {
   "cell_type": "code",
   "execution_count": null,
   "metadata": {
    "colab": {
     "base_uri": "https://localhost:8080/"
    },
    "id": "9UQif1a8bLHD",
    "outputId": "0242378e-7315-45f9-e749-26c554bf8053"
   },
   "outputs": [
    {
     "name": "stdout",
     "output_type": "stream",
     "text": [
      "<class 'pandas.core.frame.DataFrame'>\n",
      "RangeIndex: 1567174 entries, 0 to 1567173\n",
      "Data columns (total 29 columns):\n",
      " #   Column                             Non-Null Count    Dtype  \n",
      "---  ------                             --------------    -----  \n",
      " 0   DEPTH_MD                           1567174 non-null  float64\n",
      " 1   X_LOC                              1548232 non-null  float64\n",
      " 2   Y_LOC                              1548232 non-null  float64\n",
      " 3   Z_LOC                              1548232 non-null  float64\n",
      " 4   CALI                               1432599 non-null  float64\n",
      " 5   RSHA                               776228 non-null   float64\n",
      " 6   RMED                               1518697 non-null  float64\n",
      " 7   RDEP                               1547961 non-null  float64\n",
      " 8   RHOB                               1347816 non-null  float64\n",
      " 9   GR                                 1567174 non-null  float64\n",
      " 10  SGR                                81992 non-null    float64\n",
      " 11  NPHI                               1015812 non-null  float64\n",
      " 12  PEF                                938125 non-null   float64\n",
      " 13  DTC                                1457608 non-null  float64\n",
      " 14  SP                                 1120036 non-null  float64\n",
      " 15  BS                                 898040 non-null   float64\n",
      " 16  ROP                                697638 non-null   float64\n",
      " 17  DTS                                249648 non-null   float64\n",
      " 18  DCAL                               375824 non-null   float64\n",
      " 19  DRHO                               1318419 non-null  float64\n",
      " 20  MUDWEIGHT                          382651 non-null   float64\n",
      " 21  RMIC                               194946 non-null   float64\n",
      " 22  ROPA                               267468 non-null   float64\n",
      " 23  RXO                                380480 non-null   float64\n",
      " 24  FORCE_2020_LITHOFACIES_LITHOLOGY   1430388 non-null  object \n",
      " 25  FORCE_2020_LITHOFACIES_CONFIDENCE  1430169 non-null  float64\n",
      " 26  GROUP_encoded                      1567174 non-null  int8   \n",
      " 27  FORMATION_encoded                  1567174 non-null  int8   \n",
      " 28  WELL_encoded                       1567174 non-null  int8   \n",
      "dtypes: float64(25), int8(3), object(1)\n",
      "memory usage: 315.4+ MB\n"
     ]
    },
    {
     "data": {
      "text/plain": [
       " 5     392979\n",
       " 9     333049\n",
       " 7     174100\n",
       " 12    163589\n",
       " 3     155895\n",
       " 6     148826\n",
       " 2      70721\n",
       " 0      49316\n",
       " 11     31476\n",
       " 13     19196\n",
       " 4      17198\n",
       " 8       4919\n",
       " 1       3395\n",
       "-1       1310\n",
       " 10      1205\n",
       "Name: GROUP_encoded, dtype: int64"
      ]
     },
     "execution_count": 46,
     "metadata": {},
     "output_type": "execute_result"
    }
   ],
   "source": [
    "df.info()\n",
    "df.GROUP_encoded.value_counts()"
   ]
  },
  {
   "cell_type": "code",
   "execution_count": null,
   "metadata": {
    "colab": {
     "base_uri": "https://localhost:8080/"
    },
    "id": "-5nJyD_WbNGb",
    "outputId": "a65d64dd-96c3-4a27-d6b9-0235abeb4372"
   },
   "outputs": [
    {
     "data": {
      "text/plain": [
       "DEPTH_MD                             0.0\n",
       "X_LOC                                0.0\n",
       "Y_LOC                                0.0\n",
       "Z_LOC                                0.0\n",
       "CALI                                 0.0\n",
       "RSHA                                 0.0\n",
       "RMED                                 0.0\n",
       "RDEP                                 0.0\n",
       "RHOB                                 0.0\n",
       "GR                                   0.0\n",
       "SGR                                  0.0\n",
       "NPHI                                 0.0\n",
       "PEF                                  0.0\n",
       "DTC                                  0.0\n",
       "SP                                   0.0\n",
       "BS                                   0.0\n",
       "ROP                                  0.0\n",
       "DTS                                  0.0\n",
       "DCAL                                 0.0\n",
       "DRHO                                 0.0\n",
       "MUDWEIGHT                            0.0\n",
       "RMIC                                 0.0\n",
       "ROPA                                 0.0\n",
       "RXO                                  0.0\n",
       "FORCE_2020_LITHOFACIES_LITHOLOGY     0.0\n",
       "FORCE_2020_LITHOFACIES_CONFIDENCE    0.0\n",
       "GROUP_encoded                        0.0\n",
       "FORMATION_encoded                    0.0\n",
       "WELL_encoded                         0.0\n",
       "dtype: float64"
      ]
     },
     "execution_count": 47,
     "metadata": {},
     "output_type": "execute_result"
    }
   ],
   "source": [
    "# filling missing values\n",
    "# mean, or value 9999 (better for classification ML can understand it)\n",
    "# outlires for tree based no significant\n",
    "df = df.fillna(-9999)\n",
    "df.isna().sum()/df.shape[0]*100"
   ]
  },
  {
   "cell_type": "code",
   "execution_count": null,
   "metadata": {
    "colab": {
     "base_uri": "https://localhost:8080/"
    },
    "id": "cvl2bkGdbPMM",
    "outputId": "d8c52bf6-fc53-46b3-c6e2-57d1f7e7d0ae"
   },
   "outputs": [
    {
     "data": {
      "text/plain": [
       "(1567174, 29)"
      ]
     },
     "execution_count": 48,
     "metadata": {},
     "output_type": "execute_result"
    }
   ],
   "source": [
    "data = df.copy()\n",
    "data.shape"
   ]
  },
  {
   "cell_type": "code",
   "execution_count": null,
   "metadata": {
    "id": "0iGkUo0BbQ9S"
   },
   "outputs": [],
   "source": [
    "# slice out the corresponding features\n",
    "train = data[:ntrain].copy()\n",
    "train.drop(['FORCE_2020_LITHOFACIES_LITHOLOGY'],axis=1,inplace=True)\n",
    "\n",
    "test = data[ntrain:(ntest+ntrain)].copy()\n",
    "test.drop(['FORCE_2020_LITHOFACIES_LITHOLOGY'],axis=1,inplace=True)\n",
    "test = test.reset_index(drop=True)\n",
    "\n",
    "\n",
    "valid_1 = data[(ntest+ntrain):(ntest+ntrain+nvalid1)].copy()\n",
    "valid_1.drop(['FORCE_2020_LITHOFACIES_LITHOLOGY'],axis=1,inplace=True)\n",
    "valid_1 = valid_1.reset_index(drop=True)\n",
    "\n",
    "valid_2 = data[(ntest+ntrain+nvalid1):(ntest+ntrain+nvalid1+nvalid2)].copy()\n",
    "valid_2.drop(['FORCE_2020_LITHOFACIES_LITHOLOGY'],axis=1,inplace=True)\n",
    "valid_2 = valid_2.reset_index(drop=True)\n",
    "\n",
    "valid_3 = data[(ntest+ntrain+nvalid1+nvalid2):].copy()\n",
    "valid_3.drop(['FORCE_2020_LITHOFACIES_LITHOLOGY'],axis=1,inplace=True)\n",
    "valid_3 = valid_3.reset_index(drop=True)"
   ]
  },
  {
   "cell_type": "code",
   "execution_count": null,
   "metadata": {
    "colab": {
     "base_uri": "https://localhost:8080/"
    },
    "id": "4SifXgQJbTPZ",
    "outputId": "bb07f341-369a-4c4e-850d-bae053d6b8f9"
   },
   "outputs": [
    {
     "data": {
      "text/plain": [
       "((136786, 28), (910634, 28), (144022, 28), (115855, 28), (259877, 28))"
      ]
     },
     "execution_count": 50,
     "metadata": {},
     "output_type": "execute_result"
    }
   ],
   "source": [
    "test.shape,train.shape,valid_1.shape,valid_2.shape,valid_3.shape"
   ]
  },
  {
   "cell_type": "code",
   "execution_count": null,
   "metadata": {
    "id": "RVFITHrubVHR"
   },
   "outputs": [],
   "source": [
    "# Feature windows concatenation function\n",
    "def augment_features_window(X, N_neig):\n",
    "    \n",
    "    # Parameters\n",
    "    N_row = X.shape[0]\n",
    "    N_feat = X.shape[1]\n",
    " \n",
    "    # Zero padding\n",
    "    X = np.vstack((np.zeros((N_neig, N_feat)), X, (np.zeros((N_neig, N_feat)))))\n",
    " \n",
    "    # Loop over windows\n",
    "    X_aug = np.zeros((N_row, N_feat*(2*N_neig+1)))\n",
    "    for r in np.arange(N_row)+N_neig:\n",
    "        this_row = []\n",
    "        for c in np.arange(-N_neig,N_neig+1):\n",
    "            this_row = np.hstack((this_row, X[r+c]))\n",
    "        X_aug[r-N_neig] = this_row\n",
    " \n",
    "    return X_aug\n",
    " \n",
    "# Feature gradient computation function\n",
    "def augment_features_gradient(X, depth):\n",
    "    \n",
    "    # Compute features gradient\n",
    "    d_diff = np.diff(depth).reshape((-1, 1))\n",
    "    d_diff[d_diff==0] = 0.001\n",
    "    X_diff = np.diff(X, axis=0)\n",
    "    X_grad = X_diff / d_diff\n",
    "        \n",
    "    # Compensate for last missing value\n",
    "    X_grad = np.concatenate((X_grad, np.zeros((1, X_grad.shape[1]))))\n",
    "    \n",
    "    return X_grad\n",
    " \n",
    "# Feature augmentation function\n",
    "def augment_features(X, well, depth, N_neig=1):\n",
    "    \n",
    "    # Augment features\n",
    "    X_aug = np.zeros((X.shape[0], X.shape[1]*(N_neig*2+2)))\n",
    "    for w in np.unique(well):\n",
    "        w_idx = np.where(well == w)[0]\n",
    "        X_aug_win = augment_features_window(X[w_idx, :], N_neig)\n",
    "        X_aug_grad = augment_features_gradient(X[w_idx, :], depth[w_idx])\n",
    "        X_aug[w_idx, :] = np.concatenate((X_aug_win, X_aug_grad), axis=1)\n",
    "    \n",
    "    # Find padded rows\n",
    "    padded_rows = np.unique(np.where(X_aug[:, 0:7] == np.zeros((1, 7)))[0])\n",
    "    \n",
    "    return X_aug  #padded_rows"
   ]
  },
  {
   "cell_type": "code",
   "execution_count": null,
   "metadata": {
    "colab": {
     "base_uri": "https://localhost:8080/"
    },
    "id": "1UAw9NBmbbYy",
    "outputId": "9d817d43-fbf2-41d1-d9cc-2ffab82e9b10"
   },
   "outputs": [
    {
     "name": "stdout",
     "output_type": "stream",
     "text": [
      "Shape of datasets before augmentaion ((910634, 28), (136786, 28), (144022, 28), (115855, 28), (259877, 28))\n"
     ]
    }
   ],
   "source": [
    "print (f'Shape of datasets before augmentaion {train.shape,test.shape,valid_1.shape,valid_2.shape,valid_3.shape}')\n",
    "\n",
    "aug_train  = augment_features(train.values,train_well,train_depth)\n",
    "aug_test   = augment_features(test.values,test_well,test_depth)\n",
    "aug_valid1 = augment_features(valid_1.values,valid_1_well,valid_1_depth)\n",
    "aug_valid2 = augment_features(valid_2.values,valid_2_well,valid_2_depth)\n",
    "aug_valid3 = augment_features(valid_3.values,valid_3_well,valid_3_depth)"
   ]
  },
  {
   "cell_type": "code",
   "execution_count": null,
   "metadata": {
    "colab": {
     "base_uri": "https://localhost:8080/",
     "height": 274
    },
    "id": "IE-fC4lObdWx",
    "outputId": "c314cb15-8ddd-4681-d214-9585d7a77661"
   },
   "outputs": [
    {
     "name": "stdout",
     "output_type": "stream",
     "text": [
      "(910634, 112)\n"
     ]
    },
    {
     "data": {
      "text/html": [
       "<div>\n",
       "<style scoped>\n",
       "    .dataframe tbody tr th:only-of-type {\n",
       "        vertical-align: middle;\n",
       "    }\n",
       "\n",
       "    .dataframe tbody tr th {\n",
       "        vertical-align: top;\n",
       "    }\n",
       "\n",
       "    .dataframe thead th {\n",
       "        text-align: right;\n",
       "    }\n",
       "</style>\n",
       "<table border=\"1\" class=\"dataframe\">\n",
       "  <thead>\n",
       "    <tr style=\"text-align: right;\">\n",
       "      <th></th>\n",
       "      <th>0</th>\n",
       "      <th>1</th>\n",
       "      <th>2</th>\n",
       "      <th>3</th>\n",
       "      <th>4</th>\n",
       "      <th>5</th>\n",
       "      <th>6</th>\n",
       "      <th>7</th>\n",
       "      <th>8</th>\n",
       "      <th>9</th>\n",
       "      <th>10</th>\n",
       "      <th>11</th>\n",
       "      <th>12</th>\n",
       "      <th>13</th>\n",
       "      <th>14</th>\n",
       "      <th>15</th>\n",
       "      <th>16</th>\n",
       "      <th>17</th>\n",
       "      <th>18</th>\n",
       "      <th>19</th>\n",
       "      <th>20</th>\n",
       "      <th>21</th>\n",
       "      <th>22</th>\n",
       "      <th>23</th>\n",
       "      <th>24</th>\n",
       "      <th>25</th>\n",
       "      <th>26</th>\n",
       "      <th>27</th>\n",
       "      <th>28</th>\n",
       "      <th>29</th>\n",
       "      <th>30</th>\n",
       "      <th>31</th>\n",
       "      <th>32</th>\n",
       "      <th>33</th>\n",
       "      <th>34</th>\n",
       "      <th>35</th>\n",
       "      <th>36</th>\n",
       "      <th>37</th>\n",
       "      <th>38</th>\n",
       "      <th>39</th>\n",
       "      <th>...</th>\n",
       "      <th>72</th>\n",
       "      <th>73</th>\n",
       "      <th>74</th>\n",
       "      <th>75</th>\n",
       "      <th>76</th>\n",
       "      <th>77</th>\n",
       "      <th>78</th>\n",
       "      <th>79</th>\n",
       "      <th>80</th>\n",
       "      <th>81</th>\n",
       "      <th>82</th>\n",
       "      <th>83</th>\n",
       "      <th>84</th>\n",
       "      <th>85</th>\n",
       "      <th>86</th>\n",
       "      <th>87</th>\n",
       "      <th>88</th>\n",
       "      <th>89</th>\n",
       "      <th>90</th>\n",
       "      <th>91</th>\n",
       "      <th>92</th>\n",
       "      <th>93</th>\n",
       "      <th>94</th>\n",
       "      <th>95</th>\n",
       "      <th>96</th>\n",
       "      <th>97</th>\n",
       "      <th>98</th>\n",
       "      <th>99</th>\n",
       "      <th>100</th>\n",
       "      <th>101</th>\n",
       "      <th>102</th>\n",
       "      <th>103</th>\n",
       "      <th>104</th>\n",
       "      <th>105</th>\n",
       "      <th>106</th>\n",
       "      <th>107</th>\n",
       "      <th>108</th>\n",
       "      <th>109</th>\n",
       "      <th>110</th>\n",
       "      <th>111</th>\n",
       "    </tr>\n",
       "  </thead>\n",
       "  <tbody>\n",
       "    <tr>\n",
       "      <th>0</th>\n",
       "      <td>0.000</td>\n",
       "      <td>0.00000</td>\n",
       "      <td>0.0</td>\n",
       "      <td>0.000000</td>\n",
       "      <td>0.000000</td>\n",
       "      <td>0.0</td>\n",
       "      <td>0.000000</td>\n",
       "      <td>0.000000</td>\n",
       "      <td>0.000000</td>\n",
       "      <td>0.000000</td>\n",
       "      <td>0.0</td>\n",
       "      <td>0.0</td>\n",
       "      <td>0.000000</td>\n",
       "      <td>0.000000</td>\n",
       "      <td>0.000000</td>\n",
       "      <td>0.0</td>\n",
       "      <td>0.000000</td>\n",
       "      <td>0.0</td>\n",
       "      <td>0.0</td>\n",
       "      <td>0.000000</td>\n",
       "      <td>0.0</td>\n",
       "      <td>0.0</td>\n",
       "      <td>0.0</td>\n",
       "      <td>0.0</td>\n",
       "      <td>0.0</td>\n",
       "      <td>0.0</td>\n",
       "      <td>0.0</td>\n",
       "      <td>0.0</td>\n",
       "      <td>494.528</td>\n",
       "      <td>437641.96875</td>\n",
       "      <td>6470972.5</td>\n",
       "      <td>-469.501831</td>\n",
       "      <td>19.480835</td>\n",
       "      <td>-9999.0</td>\n",
       "      <td>1.611410</td>\n",
       "      <td>1.798681</td>\n",
       "      <td>1.884186</td>\n",
       "      <td>80.200851</td>\n",
       "      <td>-9999.0</td>\n",
       "      <td>-9999.0</td>\n",
       "      <td>...</td>\n",
       "      <td>34.636410</td>\n",
       "      <td>-9999.0</td>\n",
       "      <td>-9999.0</td>\n",
       "      <td>-0.570188</td>\n",
       "      <td>-9999.0</td>\n",
       "      <td>-9999.0</td>\n",
       "      <td>-9999.0</td>\n",
       "      <td>-9999.0</td>\n",
       "      <td>1.0</td>\n",
       "      <td>6.0</td>\n",
       "      <td>-1.0</td>\n",
       "      <td>0.0</td>\n",
       "      <td>1.0</td>\n",
       "      <td>0.0</td>\n",
       "      <td>0.0</td>\n",
       "      <td>-0.999852</td>\n",
       "      <td>-0.079180</td>\n",
       "      <td>0.0</td>\n",
       "      <td>0.043819</td>\n",
       "      <td>-0.020000</td>\n",
       "      <td>0.036893</td>\n",
       "      <td>-6.170825</td>\n",
       "      <td>0.0</td>\n",
       "      <td>0.0</td>\n",
       "      <td>-10.081944</td>\n",
       "      <td>-3.471776</td>\n",
       "      <td>-4.716108</td>\n",
       "      <td>0.0</td>\n",
       "      <td>0.000000</td>\n",
       "      <td>0.0</td>\n",
       "      <td>0.0</td>\n",
       "      <td>0.031179</td>\n",
       "      <td>0.0</td>\n",
       "      <td>0.0</td>\n",
       "      <td>0.0</td>\n",
       "      <td>0.0</td>\n",
       "      <td>0.0</td>\n",
       "      <td>0.0</td>\n",
       "      <td>0.0</td>\n",
       "      <td>0.0</td>\n",
       "    </tr>\n",
       "    <tr>\n",
       "      <th>1</th>\n",
       "      <td>494.528</td>\n",
       "      <td>437641.96875</td>\n",
       "      <td>6470972.5</td>\n",
       "      <td>-469.501831</td>\n",
       "      <td>19.480835</td>\n",
       "      <td>-9999.0</td>\n",
       "      <td>1.611410</td>\n",
       "      <td>1.798681</td>\n",
       "      <td>1.884186</td>\n",
       "      <td>80.200851</td>\n",
       "      <td>-9999.0</td>\n",
       "      <td>-9999.0</td>\n",
       "      <td>20.915468</td>\n",
       "      <td>161.131180</td>\n",
       "      <td>24.612379</td>\n",
       "      <td>-9999.0</td>\n",
       "      <td>34.636410</td>\n",
       "      <td>-9999.0</td>\n",
       "      <td>-9999.0</td>\n",
       "      <td>-0.574928</td>\n",
       "      <td>-9999.0</td>\n",
       "      <td>-9999.0</td>\n",
       "      <td>-9999.0</td>\n",
       "      <td>-9999.0</td>\n",
       "      <td>1.0</td>\n",
       "      <td>6.0</td>\n",
       "      <td>-1.0</td>\n",
       "      <td>0.0</td>\n",
       "      <td>494.680</td>\n",
       "      <td>437641.96875</td>\n",
       "      <td>6470972.5</td>\n",
       "      <td>-469.653809</td>\n",
       "      <td>19.468800</td>\n",
       "      <td>-9999.0</td>\n",
       "      <td>1.618070</td>\n",
       "      <td>1.795641</td>\n",
       "      <td>1.889794</td>\n",
       "      <td>79.262886</td>\n",
       "      <td>-9999.0</td>\n",
       "      <td>-9999.0</td>\n",
       "      <td>...</td>\n",
       "      <td>34.779556</td>\n",
       "      <td>-9999.0</td>\n",
       "      <td>-9999.0</td>\n",
       "      <td>-0.574245</td>\n",
       "      <td>-9999.0</td>\n",
       "      <td>-9999.0</td>\n",
       "      <td>-9999.0</td>\n",
       "      <td>-9999.0</td>\n",
       "      <td>1.0</td>\n",
       "      <td>6.0</td>\n",
       "      <td>-1.0</td>\n",
       "      <td>0.0</td>\n",
       "      <td>1.0</td>\n",
       "      <td>0.0</td>\n",
       "      <td>0.0</td>\n",
       "      <td>-0.999852</td>\n",
       "      <td>0.000000</td>\n",
       "      <td>0.0</td>\n",
       "      <td>0.055186</td>\n",
       "      <td>0.033500</td>\n",
       "      <td>0.044271</td>\n",
       "      <td>-29.216365</td>\n",
       "      <td>0.0</td>\n",
       "      <td>0.0</td>\n",
       "      <td>21.108590</td>\n",
       "      <td>-2.827996</td>\n",
       "      <td>0.137015</td>\n",
       "      <td>0.0</td>\n",
       "      <td>0.941753</td>\n",
       "      <td>0.0</td>\n",
       "      <td>0.0</td>\n",
       "      <td>-0.026689</td>\n",
       "      <td>0.0</td>\n",
       "      <td>0.0</td>\n",
       "      <td>0.0</td>\n",
       "      <td>0.0</td>\n",
       "      <td>0.0</td>\n",
       "      <td>0.0</td>\n",
       "      <td>0.0</td>\n",
       "      <td>0.0</td>\n",
       "    </tr>\n",
       "    <tr>\n",
       "      <th>2</th>\n",
       "      <td>494.680</td>\n",
       "      <td>437641.96875</td>\n",
       "      <td>6470972.5</td>\n",
       "      <td>-469.653809</td>\n",
       "      <td>19.468800</td>\n",
       "      <td>-9999.0</td>\n",
       "      <td>1.618070</td>\n",
       "      <td>1.795641</td>\n",
       "      <td>1.889794</td>\n",
       "      <td>79.262886</td>\n",
       "      <td>-9999.0</td>\n",
       "      <td>-9999.0</td>\n",
       "      <td>19.383013</td>\n",
       "      <td>160.603470</td>\n",
       "      <td>23.895531</td>\n",
       "      <td>-9999.0</td>\n",
       "      <td>34.636410</td>\n",
       "      <td>-9999.0</td>\n",
       "      <td>-9999.0</td>\n",
       "      <td>-0.570188</td>\n",
       "      <td>-9999.0</td>\n",
       "      <td>-9999.0</td>\n",
       "      <td>-9999.0</td>\n",
       "      <td>-9999.0</td>\n",
       "      <td>1.0</td>\n",
       "      <td>6.0</td>\n",
       "      <td>-1.0</td>\n",
       "      <td>0.0</td>\n",
       "      <td>494.832</td>\n",
       "      <td>437641.96875</td>\n",
       "      <td>6470972.5</td>\n",
       "      <td>-469.805786</td>\n",
       "      <td>19.468800</td>\n",
       "      <td>-9999.0</td>\n",
       "      <td>1.626459</td>\n",
       "      <td>1.800733</td>\n",
       "      <td>1.896523</td>\n",
       "      <td>74.821999</td>\n",
       "      <td>-9999.0</td>\n",
       "      <td>-9999.0</td>\n",
       "      <td>...</td>\n",
       "      <td>39.965164</td>\n",
       "      <td>-9999.0</td>\n",
       "      <td>-9999.0</td>\n",
       "      <td>-0.586315</td>\n",
       "      <td>-9999.0</td>\n",
       "      <td>-9999.0</td>\n",
       "      <td>-9999.0</td>\n",
       "      <td>-9999.0</td>\n",
       "      <td>1.0</td>\n",
       "      <td>6.0</td>\n",
       "      <td>-1.0</td>\n",
       "      <td>0.0</td>\n",
       "      <td>1.0</td>\n",
       "      <td>0.0</td>\n",
       "      <td>0.0</td>\n",
       "      <td>-1.000053</td>\n",
       "      <td>-0.062616</td>\n",
       "      <td>0.0</td>\n",
       "      <td>-0.032003</td>\n",
       "      <td>0.005153</td>\n",
       "      <td>-0.030329</td>\n",
       "      <td>-12.783402</td>\n",
       "      <td>0.0</td>\n",
       "      <td>0.0</td>\n",
       "      <td>63.160470</td>\n",
       "      <td>-0.159113</td>\n",
       "      <td>-0.807034</td>\n",
       "      <td>0.0</td>\n",
       "      <td>34.115842</td>\n",
       "      <td>0.0</td>\n",
       "      <td>0.0</td>\n",
       "      <td>-0.079409</td>\n",
       "      <td>0.0</td>\n",
       "      <td>0.0</td>\n",
       "      <td>0.0</td>\n",
       "      <td>0.0</td>\n",
       "      <td>0.0</td>\n",
       "      <td>0.0</td>\n",
       "      <td>0.0</td>\n",
       "      <td>0.0</td>\n",
       "    </tr>\n",
       "    <tr>\n",
       "      <th>3</th>\n",
       "      <td>494.832</td>\n",
       "      <td>437641.96875</td>\n",
       "      <td>6470972.5</td>\n",
       "      <td>-469.805786</td>\n",
       "      <td>19.468800</td>\n",
       "      <td>-9999.0</td>\n",
       "      <td>1.626459</td>\n",
       "      <td>1.800733</td>\n",
       "      <td>1.896523</td>\n",
       "      <td>74.821999</td>\n",
       "      <td>-9999.0</td>\n",
       "      <td>-9999.0</td>\n",
       "      <td>22.591518</td>\n",
       "      <td>160.173615</td>\n",
       "      <td>23.916357</td>\n",
       "      <td>-9999.0</td>\n",
       "      <td>34.779556</td>\n",
       "      <td>-9999.0</td>\n",
       "      <td>-9999.0</td>\n",
       "      <td>-0.574245</td>\n",
       "      <td>-9999.0</td>\n",
       "      <td>-9999.0</td>\n",
       "      <td>-9999.0</td>\n",
       "      <td>-9999.0</td>\n",
       "      <td>1.0</td>\n",
       "      <td>6.0</td>\n",
       "      <td>-1.0</td>\n",
       "      <td>0.0</td>\n",
       "      <td>494.984</td>\n",
       "      <td>437641.96875</td>\n",
       "      <td>6470972.5</td>\n",
       "      <td>-469.957794</td>\n",
       "      <td>19.459282</td>\n",
       "      <td>-9999.0</td>\n",
       "      <td>1.621594</td>\n",
       "      <td>1.801517</td>\n",
       "      <td>1.891913</td>\n",
       "      <td>72.878922</td>\n",
       "      <td>-9999.0</td>\n",
       "      <td>-9999.0</td>\n",
       "      <td>...</td>\n",
       "      <td>57.483765</td>\n",
       "      <td>-9999.0</td>\n",
       "      <td>-9999.0</td>\n",
       "      <td>-0.597914</td>\n",
       "      <td>-9999.0</td>\n",
       "      <td>-9999.0</td>\n",
       "      <td>-9999.0</td>\n",
       "      <td>-9999.0</td>\n",
       "      <td>1.0</td>\n",
       "      <td>6.0</td>\n",
       "      <td>-1.0</td>\n",
       "      <td>0.0</td>\n",
       "      <td>1.0</td>\n",
       "      <td>0.0</td>\n",
       "      <td>0.0</td>\n",
       "      <td>-0.999852</td>\n",
       "      <td>-0.040669</td>\n",
       "      <td>0.0</td>\n",
       "      <td>-0.124441</td>\n",
       "      <td>-0.040905</td>\n",
       "      <td>-0.078150</td>\n",
       "      <td>-7.564344</td>\n",
       "      <td>0.0</td>\n",
       "      <td>0.0</td>\n",
       "      <td>41.471858</td>\n",
       "      <td>-0.138735</td>\n",
       "      <td>2.042043</td>\n",
       "      <td>0.0</td>\n",
       "      <td>115.253950</td>\n",
       "      <td>0.0</td>\n",
       "      <td>0.0</td>\n",
       "      <td>-0.076305</td>\n",
       "      <td>0.0</td>\n",
       "      <td>0.0</td>\n",
       "      <td>0.0</td>\n",
       "      <td>0.0</td>\n",
       "      <td>0.0</td>\n",
       "      <td>0.0</td>\n",
       "      <td>0.0</td>\n",
       "      <td>0.0</td>\n",
       "    </tr>\n",
       "    <tr>\n",
       "      <th>4</th>\n",
       "      <td>494.984</td>\n",
       "      <td>437641.96875</td>\n",
       "      <td>6470972.5</td>\n",
       "      <td>-469.957794</td>\n",
       "      <td>19.459282</td>\n",
       "      <td>-9999.0</td>\n",
       "      <td>1.621594</td>\n",
       "      <td>1.801517</td>\n",
       "      <td>1.891913</td>\n",
       "      <td>72.878922</td>\n",
       "      <td>-9999.0</td>\n",
       "      <td>-9999.0</td>\n",
       "      <td>32.191910</td>\n",
       "      <td>160.149429</td>\n",
       "      <td>23.793688</td>\n",
       "      <td>-9999.0</td>\n",
       "      <td>39.965164</td>\n",
       "      <td>-9999.0</td>\n",
       "      <td>-9999.0</td>\n",
       "      <td>-0.586315</td>\n",
       "      <td>-9999.0</td>\n",
       "      <td>-9999.0</td>\n",
       "      <td>-9999.0</td>\n",
       "      <td>-9999.0</td>\n",
       "      <td>1.0</td>\n",
       "      <td>6.0</td>\n",
       "      <td>-1.0</td>\n",
       "      <td>0.0</td>\n",
       "      <td>495.136</td>\n",
       "      <td>437641.96875</td>\n",
       "      <td>6470972.5</td>\n",
       "      <td>-470.109772</td>\n",
       "      <td>19.453100</td>\n",
       "      <td>-9999.0</td>\n",
       "      <td>1.602679</td>\n",
       "      <td>1.795299</td>\n",
       "      <td>1.880034</td>\n",
       "      <td>71.729141</td>\n",
       "      <td>-9999.0</td>\n",
       "      <td>-9999.0</td>\n",
       "      <td>...</td>\n",
       "      <td>75.281410</td>\n",
       "      <td>-9999.0</td>\n",
       "      <td>-9999.0</td>\n",
       "      <td>-0.601600</td>\n",
       "      <td>-9999.0</td>\n",
       "      <td>-9999.0</td>\n",
       "      <td>-9999.0</td>\n",
       "      <td>-9999.0</td>\n",
       "      <td>1.0</td>\n",
       "      <td>6.0</td>\n",
       "      <td>-1.0</td>\n",
       "      <td>0.0</td>\n",
       "      <td>1.0</td>\n",
       "      <td>0.0</td>\n",
       "      <td>0.0</td>\n",
       "      <td>-1.000053</td>\n",
       "      <td>0.000000</td>\n",
       "      <td>0.0</td>\n",
       "      <td>-0.112580</td>\n",
       "      <td>0.061971</td>\n",
       "      <td>-0.002281</td>\n",
       "      <td>1.876831</td>\n",
       "      <td>0.0</td>\n",
       "      <td>0.0</td>\n",
       "      <td>33.959539</td>\n",
       "      <td>0.137831</td>\n",
       "      <td>-1.136843</td>\n",
       "      <td>0.0</td>\n",
       "      <td>117.089773</td>\n",
       "      <td>0.0</td>\n",
       "      <td>0.0</td>\n",
       "      <td>-0.024252</td>\n",
       "      <td>0.0</td>\n",
       "      <td>0.0</td>\n",
       "      <td>0.0</td>\n",
       "      <td>0.0</td>\n",
       "      <td>0.0</td>\n",
       "      <td>0.0</td>\n",
       "      <td>0.0</td>\n",
       "      <td>0.0</td>\n",
       "    </tr>\n",
       "  </tbody>\n",
       "</table>\n",
       "<p>5 rows × 112 columns</p>\n",
       "</div>"
      ],
      "text/plain": [
       "       0             1          2           3    ...  108  109  110  111\n",
       "0    0.000       0.00000        0.0    0.000000  ...  0.0  0.0  0.0  0.0\n",
       "1  494.528  437641.96875  6470972.5 -469.501831  ...  0.0  0.0  0.0  0.0\n",
       "2  494.680  437641.96875  6470972.5 -469.653809  ...  0.0  0.0  0.0  0.0\n",
       "3  494.832  437641.96875  6470972.5 -469.805786  ...  0.0  0.0  0.0  0.0\n",
       "4  494.984  437641.96875  6470972.5 -469.957794  ...  0.0  0.0  0.0  0.0\n",
       "\n",
       "[5 rows x 112 columns]"
      ]
     },
     "execution_count": 53,
     "metadata": {},
     "output_type": "execute_result"
    }
   ],
   "source": [
    "print (np.array(aug_train).shape)\n",
    "pd.DataFrame(aug_train).head()"
   ]
  },
  {
   "cell_type": "code",
   "execution_count": null,
   "metadata": {
    "id": "tvx4fVzobtMh"
   },
   "outputs": [],
   "source": [
    "def  show_evaluation(pred,true):\n",
    "    print (f'Default score: {score(true,pred)}')\n",
    "    print (f'Accuracy score: {accuracy_score(true,pred)}')\n",
    "    print (f'F1 score: {f1_score(true,pred)}')\n"
   ]
  },
  {
   "cell_type": "code",
   "execution_count": null,
   "metadata": {
    "id": "cRkD5p9ybwDB"
   },
   "outputs": [],
   "source": [
    "split = 10\n",
    "kf = StratifiedKFold(n_splits=split,shuffle=True)"
   ]
  },
  {
   "cell_type": "code",
   "execution_count": null,
   "metadata": {
    "id": "WtA_Vfy5bxzg"
   },
   "outputs": [],
   "source": [
    "model = xgb.XGBClassifier(n_estimators = 100,max_depth=10,booster='gbtree',\n",
    "                         objective='softprob',learning_rate=0.1,random_state=0,\n",
    "                         subsample=0.9,colsample_bytree=0.9,tree_method='gpu_hist',\n",
    "                         eval_metric = 'mlogloss',reg_lamdba=1500)"
   ]
  },
  {
   "cell_type": "code",
   "execution_count": null,
   "metadata": {
    "id": "URdT4VvSb2O3"
   },
   "outputs": [],
   "source": [
    "test_pred = np.zeros((len(test),12))\n",
    "valid1_pred = np.zeros((len(valid_1),12))\n",
    "valid2_pred = np.zeros((len(valid_2),12))\n",
    "valid3_pred = np.zeros((len(valid_3),12))"
   ]
  },
  {
   "cell_type": "code",
   "execution_count": null,
   "metadata": {
    "colab": {
     "base_uri": "https://localhost:8080/",
     "height": 987
    },
    "id": "KkNyY8XHb6Ng",
    "outputId": "68789de1-a347-493f-8c5c-f9c993b93f53"
   },
   "outputs": [
    {
     "name": "stdout",
     "output_type": "stream",
     "text": [
      "(819570,) (91064,)\n",
      "[     0      1      2 ... 910631 910632 910633] [     5      7     18 ... 910608 910614 910624]\n"
     ]
    },
    {
     "ename": "XGBoostError",
     "evalue": "ignored",
     "output_type": "error",
     "traceback": [
      "\u001b[0;31m---------------------------------------------------------------------------\u001b[0m",
      "\u001b[0;31mXGBoostError\u001b[0m                              Traceback (most recent call last)",
      "\u001b[0;32m<ipython-input-61-0872fe1a23f6>\u001b[0m in \u001b[0;36m<module>\u001b[0;34m()\u001b[0m\n\u001b[1;32m      9\u001b[0m     \u001b[0mY_train\u001b[0m\u001b[0;34m,\u001b[0m\u001b[0mY_test\u001b[0m \u001b[0;34m=\u001b[0m \u001b[0mlithology\u001b[0m\u001b[0;34m.\u001b[0m\u001b[0miloc\u001b[0m\u001b[0;34m[\u001b[0m\u001b[0mtrain_index\u001b[0m\u001b[0;34m]\u001b[0m\u001b[0;34m,\u001b[0m\u001b[0mlithology\u001b[0m\u001b[0;34m.\u001b[0m\u001b[0miloc\u001b[0m\u001b[0;34m[\u001b[0m\u001b[0mtest_index\u001b[0m\u001b[0;34m]\u001b[0m\u001b[0;34m\u001b[0m\u001b[0;34m\u001b[0m\u001b[0m\n\u001b[1;32m     10\u001b[0m \u001b[0;34m\u001b[0m\u001b[0m\n\u001b[0;32m---> 11\u001b[0;31m     \u001b[0mmodel\u001b[0m\u001b[0;34m.\u001b[0m\u001b[0mfit\u001b[0m\u001b[0;34m(\u001b[0m\u001b[0mX_train\u001b[0m\u001b[0;34m,\u001b[0m\u001b[0mY_train\u001b[0m\u001b[0;34m,\u001b[0m\u001b[0mearly_stopping_rounds\u001b[0m\u001b[0;34m=\u001b[0m\u001b[0;36m100\u001b[0m\u001b[0;34m,\u001b[0m\u001b[0meval_set\u001b[0m\u001b[0;34m=\u001b[0m\u001b[0;34m[\u001b[0m\u001b[0;34m(\u001b[0m\u001b[0mX_test\u001b[0m\u001b[0;34m,\u001b[0m\u001b[0mY_test\u001b[0m\u001b[0;34m)\u001b[0m\u001b[0;34m]\u001b[0m\u001b[0;34m,\u001b[0m\u001b[0mverbose\u001b[0m\u001b[0;34m=\u001b[0m\u001b[0;36m1\u001b[0m\u001b[0;34m)\u001b[0m\u001b[0;34m\u001b[0m\u001b[0;34m\u001b[0m\u001b[0m\n\u001b[0m\u001b[1;32m     12\u001b[0m \u001b[0;34m\u001b[0m\u001b[0m\n\u001b[1;32m     13\u001b[0m     \u001b[0mpredictions_1\u001b[0m \u001b[0;34m=\u001b[0m \u001b[0mmodel\u001b[0m\u001b[0;34m.\u001b[0m\u001b[0mpredict\u001b[0m\u001b[0;34m(\u001b[0m\u001b[0mvalid_1\u001b[0m\u001b[0;34m)\u001b[0m\u001b[0;34m\u001b[0m\u001b[0;34m\u001b[0m\u001b[0m\n",
      "\u001b[0;32m/usr/local/lib/python3.7/dist-packages/xgboost/sklearn.py\u001b[0m in \u001b[0;36mfit\u001b[0;34m(self, X, y, sample_weight, eval_set, eval_metric, early_stopping_rounds, verbose, xgb_model, sample_weight_eval_set, callbacks)\u001b[0m\n\u001b[1;32m    730\u001b[0m                               \u001b[0mevals_result\u001b[0m\u001b[0;34m=\u001b[0m\u001b[0mevals_result\u001b[0m\u001b[0;34m,\u001b[0m \u001b[0mobj\u001b[0m\u001b[0;34m=\u001b[0m\u001b[0mobj\u001b[0m\u001b[0;34m,\u001b[0m \u001b[0mfeval\u001b[0m\u001b[0;34m=\u001b[0m\u001b[0mfeval\u001b[0m\u001b[0;34m,\u001b[0m\u001b[0;34m\u001b[0m\u001b[0;34m\u001b[0m\u001b[0m\n\u001b[1;32m    731\u001b[0m                               \u001b[0mverbose_eval\u001b[0m\u001b[0;34m=\u001b[0m\u001b[0mverbose\u001b[0m\u001b[0;34m,\u001b[0m \u001b[0mxgb_model\u001b[0m\u001b[0;34m=\u001b[0m\u001b[0mxgb_model\u001b[0m\u001b[0;34m,\u001b[0m\u001b[0;34m\u001b[0m\u001b[0;34m\u001b[0m\u001b[0m\n\u001b[0;32m--> 732\u001b[0;31m                               callbacks=callbacks)\n\u001b[0m\u001b[1;32m    733\u001b[0m \u001b[0;34m\u001b[0m\u001b[0m\n\u001b[1;32m    734\u001b[0m         \u001b[0mself\u001b[0m\u001b[0;34m.\u001b[0m\u001b[0mobjective\u001b[0m \u001b[0;34m=\u001b[0m \u001b[0mxgb_options\u001b[0m\u001b[0;34m[\u001b[0m\u001b[0;34m\"objective\"\u001b[0m\u001b[0;34m]\u001b[0m\u001b[0;34m\u001b[0m\u001b[0;34m\u001b[0m\u001b[0m\n",
      "\u001b[0;32m/usr/local/lib/python3.7/dist-packages/xgboost/training.py\u001b[0m in \u001b[0;36mtrain\u001b[0;34m(params, dtrain, num_boost_round, evals, obj, feval, maximize, early_stopping_rounds, evals_result, verbose_eval, xgb_model, callbacks, learning_rates)\u001b[0m\n\u001b[1;32m    214\u001b[0m                            \u001b[0mevals\u001b[0m\u001b[0;34m=\u001b[0m\u001b[0mevals\u001b[0m\u001b[0;34m,\u001b[0m\u001b[0;34m\u001b[0m\u001b[0;34m\u001b[0m\u001b[0m\n\u001b[1;32m    215\u001b[0m                            \u001b[0mobj\u001b[0m\u001b[0;34m=\u001b[0m\u001b[0mobj\u001b[0m\u001b[0;34m,\u001b[0m \u001b[0mfeval\u001b[0m\u001b[0;34m=\u001b[0m\u001b[0mfeval\u001b[0m\u001b[0;34m,\u001b[0m\u001b[0;34m\u001b[0m\u001b[0;34m\u001b[0m\u001b[0m\n\u001b[0;32m--> 216\u001b[0;31m                            xgb_model=xgb_model, callbacks=callbacks)\n\u001b[0m\u001b[1;32m    217\u001b[0m \u001b[0;34m\u001b[0m\u001b[0m\n\u001b[1;32m    218\u001b[0m \u001b[0;34m\u001b[0m\u001b[0m\n",
      "\u001b[0;32m/usr/local/lib/python3.7/dist-packages/xgboost/training.py\u001b[0m in \u001b[0;36m_train_internal\u001b[0;34m(params, dtrain, num_boost_round, evals, obj, feval, xgb_model, callbacks)\u001b[0m\n\u001b[1;32m     72\u001b[0m         \u001b[0;31m# Skip the first update if it is a recovery step.\u001b[0m\u001b[0;34m\u001b[0m\u001b[0;34m\u001b[0m\u001b[0;34m\u001b[0m\u001b[0m\n\u001b[1;32m     73\u001b[0m         \u001b[0;32mif\u001b[0m \u001b[0mversion\u001b[0m \u001b[0;34m%\u001b[0m \u001b[0;36m2\u001b[0m \u001b[0;34m==\u001b[0m \u001b[0;36m0\u001b[0m\u001b[0;34m:\u001b[0m\u001b[0;34m\u001b[0m\u001b[0;34m\u001b[0m\u001b[0m\n\u001b[0;32m---> 74\u001b[0;31m             \u001b[0mbst\u001b[0m\u001b[0;34m.\u001b[0m\u001b[0mupdate\u001b[0m\u001b[0;34m(\u001b[0m\u001b[0mdtrain\u001b[0m\u001b[0;34m,\u001b[0m \u001b[0mi\u001b[0m\u001b[0;34m,\u001b[0m \u001b[0mobj\u001b[0m\u001b[0;34m)\u001b[0m\u001b[0;34m\u001b[0m\u001b[0;34m\u001b[0m\u001b[0m\n\u001b[0m\u001b[1;32m     75\u001b[0m             \u001b[0mbst\u001b[0m\u001b[0;34m.\u001b[0m\u001b[0msave_rabit_checkpoint\u001b[0m\u001b[0;34m(\u001b[0m\u001b[0;34m)\u001b[0m\u001b[0;34m\u001b[0m\u001b[0;34m\u001b[0m\u001b[0m\n\u001b[1;32m     76\u001b[0m             \u001b[0mversion\u001b[0m \u001b[0;34m+=\u001b[0m \u001b[0;36m1\u001b[0m\u001b[0;34m\u001b[0m\u001b[0;34m\u001b[0m\u001b[0m\n",
      "\u001b[0;32m/usr/local/lib/python3.7/dist-packages/xgboost/core.py\u001b[0m in \u001b[0;36mupdate\u001b[0;34m(self, dtrain, iteration, fobj)\u001b[0m\n\u001b[1;32m   1107\u001b[0m         \u001b[0;32mif\u001b[0m \u001b[0mfobj\u001b[0m \u001b[0;32mis\u001b[0m \u001b[0;32mNone\u001b[0m\u001b[0;34m:\u001b[0m\u001b[0;34m\u001b[0m\u001b[0;34m\u001b[0m\u001b[0m\n\u001b[1;32m   1108\u001b[0m             _check_call(_LIB.XGBoosterUpdateOneIter(self.handle, ctypes.c_int(iteration),\n\u001b[0;32m-> 1109\u001b[0;31m                                                     dtrain.handle))\n\u001b[0m\u001b[1;32m   1110\u001b[0m         \u001b[0;32melse\u001b[0m\u001b[0;34m:\u001b[0m\u001b[0;34m\u001b[0m\u001b[0;34m\u001b[0m\u001b[0m\n\u001b[1;32m   1111\u001b[0m             \u001b[0mpred\u001b[0m \u001b[0;34m=\u001b[0m \u001b[0mself\u001b[0m\u001b[0;34m.\u001b[0m\u001b[0mpredict\u001b[0m\u001b[0;34m(\u001b[0m\u001b[0mdtrain\u001b[0m\u001b[0;34m)\u001b[0m\u001b[0;34m\u001b[0m\u001b[0;34m\u001b[0m\u001b[0m\n",
      "\u001b[0;32m/usr/local/lib/python3.7/dist-packages/xgboost/core.py\u001b[0m in \u001b[0;36m_check_call\u001b[0;34m(ret)\u001b[0m\n\u001b[1;32m    174\u001b[0m     \"\"\"\n\u001b[1;32m    175\u001b[0m     \u001b[0;32mif\u001b[0m \u001b[0mret\u001b[0m \u001b[0;34m!=\u001b[0m \u001b[0;36m0\u001b[0m\u001b[0;34m:\u001b[0m\u001b[0;34m\u001b[0m\u001b[0;34m\u001b[0m\u001b[0m\n\u001b[0;32m--> 176\u001b[0;31m         \u001b[0;32mraise\u001b[0m \u001b[0mXGBoostError\u001b[0m\u001b[0;34m(\u001b[0m\u001b[0mpy_str\u001b[0m\u001b[0;34m(\u001b[0m\u001b[0m_LIB\u001b[0m\u001b[0;34m.\u001b[0m\u001b[0mXGBGetLastError\u001b[0m\u001b[0;34m(\u001b[0m\u001b[0;34m)\u001b[0m\u001b[0;34m)\u001b[0m\u001b[0;34m)\u001b[0m\u001b[0;34m\u001b[0m\u001b[0;34m\u001b[0m\u001b[0m\n\u001b[0m\u001b[1;32m    177\u001b[0m \u001b[0;34m\u001b[0m\u001b[0m\n\u001b[1;32m    178\u001b[0m \u001b[0;34m\u001b[0m\u001b[0m\n",
      "\u001b[0;31mXGBoostError\u001b[0m: [19:46:11] /workspace/src/tree/updater_gpu_hist.cu:1407: Exception in gpu_hist: NCCL failure :unhandled cuda error /workspace/src/tree/../common/device_helpers.cuh(896)\n\nStack trace:\n  [bt] (0) /usr/local/lib/python3.7/dist-packages/xgboost/./lib/libxgboost.so(dmlc::LogMessageFatal::~LogMessageFatal()+0x24) [0x7fb686ef2cb4]\n  [bt] (1) /usr/local/lib/python3.7/dist-packages/xgboost/./lib/libxgboost.so(xgboost::tree::GPUHistMakerSpecialised<xgboost::detail::GradientPairInternal<double> >::Update(xgboost::HostDeviceVector<xgboost::detail::GradientPairInternal<float> >*, xgboost::DMatrix*, std::vector<xgboost::RegTree*, std::allocator<xgboost::RegTree*> > const&)+0x1270) [0x7fb68712e7f0]\n  [bt] (2) /usr/local/lib/python3.7/dist-packages/xgboost/./lib/libxgboost.so(xgboost::gbm::GBTree::BoostNewTrees(xgboost::HostDeviceVector<xgboost::detail::GradientPairInternal<float> >*, xgboost::DMatrix*, int, std::vector<std::unique_ptr<xgboost::RegTree, std::default_delete<xgboost::RegTree> >, std::allocator<std::unique_ptr<xgboost::RegTree, std::default_delete<xgboost::RegTree> > > >*)+0xa81) [0x7fb686f78791]\n  [bt] (3) /usr/local/lib/python3.7/dist-packages/xgboost/./lib/libxgboost.so(xgboost::gbm::GBTree::DoBoost(xgboost::DMatrix*, xgboost::HostDeviceVector<xgboost::detail::GradientPairInternal<float> >*, xgboost::ObjFunction*)+0x3f1) [0x7fb686f79321]\n  [bt] (4) /usr/local/lib/python3.7/dist-packages/xgboost/./lib/libxgboost.so(xgboost::LearnerImpl::UpdateOneIter(int, xgboost::DMatrix*)+0x396) [0x7fb686f8c556]\n  [bt] (5) /usr/local/lib/python3.7/dist-packages/xgboost/./lib/libxgboost.so(XGBoosterUpdateOneIter+0x35) [0x7fb686eefaa5]\n  [bt] (6) /usr/lib/x86_64-linux-gnu/libffi.so.6(ffi_call_unix64+0x4c) [0x7fb6c21dbdae]\n  [bt] (7) /usr/lib/x86_64-linux-gnu/libffi.so.6(ffi_call+0x22f) [0x7fb6c21db71f]\n  [bt] (8) /usr/lib/python3.7/lib-dynload/_ctypes.cpython-37m-x86_64-linux-gnu.so(_ctypes_callproc+0x28c) [0x7fb6c23ef5bc]\n\n"
     ]
    }
   ],
   "source": [
    "# implementing the CV loop\n",
    "\n",
    "i = 1\n",
    "for (train_index,test_index) in kf.split(train,lithology):\n",
    "    print (train_index.shape,test_index.shape)\n",
    "    print(train_index,test_index)\n",
    "    \n",
    "    X_train,X_test = train.iloc[train_index],train.iloc[test_index]\n",
    "    Y_train,Y_test = lithology.iloc[train_index],lithology.iloc[test_index]\n",
    "    \n",
    "    model.fit(X_train,Y_train,early_stopping_rounds=100,eval_set=[(X_test,Y_test)],verbose=1)\n",
    "    \n",
    "    predictions_1 = model.predict(valid_1)\n",
    "    predictions_2 = model.predict(valid_2)\n",
    "    predictions_3 = model.predict(valid_3)\n",
    "    \n",
    "    print (show_evaluation(predictions_1,valid_1_lithology))\n",
    "    print (show_evaluation(predictions_2,valid_2_lithology))\n",
    "    print (show_evaluation(predictions_3,valid_3_lithology))\n",
    "    \n",
    "    print (f'----------------------FOLD {i}-------------------')\n",
    "    \n",
    "    \n",
    "    i+=1\n",
    "    \n",
    "    valid1_pred += model.predict_proba(valid_1)\n",
    "    valid2_pred += model.predict_proba(valid_3)\n",
    "    valid3_pred += model.predict_proba(valid_3)"
   ]
  },
  {
   "cell_type": "code",
   "execution_count": null,
   "metadata": {
    "id": "p2M4WQeLb80Z"
   },
   "outputs": [],
   "source": []
  }
 ],
 "metadata": {
  "colab": {
   "authorship_tag": "ABX9TyN4VVLWDfn8Prx/JZ46CXlk",
   "collapsed_sections": [],
   "include_colab_link": true,
   "name": "2020_lithology_force.ipynb",
   "provenance": []
  },
  "kernelspec": {
   "display_name": "Python 3 (ipykernel)",
   "language": "python",
   "name": "python3"
  },
  "language_info": {
   "codemirror_mode": {
    "name": "ipython",
    "version": 3
   },
   "file_extension": ".py",
   "mimetype": "text/x-python",
   "name": "python",
   "nbconvert_exporter": "python",
   "pygments_lexer": "ipython3",
   "version": "3.8.3"
  }
 },
 "nbformat": 4,
 "nbformat_minor": 1
}
