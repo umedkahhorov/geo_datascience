{
 "cells": [
  {
   "cell_type": "code",
   "execution_count": 1,
   "id": "fc93df29",
   "metadata": {},
   "outputs": [],
   "source": [
    "from sympy import *\n",
    "from __future__ import division"
   ]
  },
  {
   "cell_type": "code",
   "execution_count": 25,
   "id": "2a547ef5",
   "metadata": {},
   "outputs": [],
   "source": [
    "a,x,c,y,n, b = symbols('a x c y n b')"
   ]
  },
  {
   "cell_type": "code",
   "execution_count": 31,
   "id": "8ac1bba9",
   "metadata": {},
   "outputs": [],
   "source": [
    "f = (1/n)*(y - (a*x + b))**2"
   ]
  },
  {
   "cell_type": "code",
   "execution_count": 32,
   "id": "16edb770",
   "metadata": {},
   "outputs": [
    {
     "data": {
      "text/latex": [
       "$\\displaystyle \\frac{2 a x + 2 b - 2 y}{n}$"
      ],
      "text/plain": [
       "(2*a*x + 2*b - 2*y)/n"
      ]
     },
     "execution_count": 32,
     "metadata": {},
     "output_type": "execute_result"
    }
   ],
   "source": [
    "diff(f,b)"
   ]
  },
  {
   "cell_type": "code",
   "execution_count": 21,
   "id": "fe181e9e",
   "metadata": {},
   "outputs": [],
   "source": [
    "f = 1/n * (y - a*exp(x/c))**2"
   ]
  },
  {
   "cell_type": "code",
   "execution_count": 23,
   "id": "6f1aa1e9",
   "metadata": {},
   "outputs": [
    {
     "data": {
      "text/latex": [
       "$\\displaystyle - \\frac{2 \\left(- a e^{\\frac{x}{c}} + y\\right) e^{\\frac{x}{c}}}{n}$"
      ],
      "text/plain": [
       "-2*(-a*exp(x/c) + y)*exp(x/c)/n"
      ]
     },
     "execution_count": 23,
     "metadata": {},
     "output_type": "execute_result"
    }
   ],
   "source": [
    "diff(f,a)"
   ]
  },
  {
   "cell_type": "code",
   "execution_count": null,
   "id": "5d9ae2b2",
   "metadata": {},
   "outputs": [],
   "source": []
  }
 ],
 "metadata": {
  "kernelspec": {
   "display_name": "Python 3 (ipykernel)",
   "language": "python",
   "name": "python3"
  },
  "language_info": {
   "codemirror_mode": {
    "name": "ipython",
    "version": 3
   },
   "file_extension": ".py",
   "mimetype": "text/x-python",
   "name": "python",
   "nbconvert_exporter": "python",
   "pygments_lexer": "ipython3",
   "version": "3.8.3"
  }
 },
 "nbformat": 4,
 "nbformat_minor": 5
}
