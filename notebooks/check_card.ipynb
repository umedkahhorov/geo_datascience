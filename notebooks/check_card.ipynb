{
 "cells": [
  {
   "cell_type": "code",
   "execution_count": 1,
   "id": "24c6a973",
   "metadata": {},
   "outputs": [
    {
     "data": {
      "text/plain": [
       "' Valid Valid Invalid Valid Invalid Invalid'"
      ]
     },
     "execution_count": 1,
     "metadata": {},
     "output_type": "execute_result"
    }
   ],
   "source": [
    "c1 = 6\n",
    "c2 = '4123456789123456'\n",
    "c3 = '5123-4567-8912-3456'\n",
    "c4 = '61234-567-8912-3456'\n",
    "c5 = '4123356789123456'\n",
    "c6 = '5133-3367-8912-3456'\n",
    "c7 = '5123 - 3567 - 8912 - 3456'\n",
    "\"\"\" Valid Valid Invalid Valid Invalid Invalid\"\"\""
   ]
  },
  {
   "cell_type": "code",
   "execution_count": 2,
   "id": "728ccc82",
   "metadata": {},
   "outputs": [
    {
     "name": "stdout",
     "output_type": "stream",
     "text": [
      "Invalid\n"
     ]
    }
   ],
   "source": [
    "import re\n",
    "c1 = 6\n",
    "c2 = '4123456789123456'\n",
    "c3 = '5123-4567-8912-3456'\n",
    "c4 = '61234-567-8912-3456'\n",
    "c5 = '4123356789123456'\n",
    "c6 = '5133-3367-8912-3456'\n",
    "c7 = '5123 - 3567 - 8912 - 3456'\n",
    "\"\"\" Valid Valid Invalid Valid Invalid Invalid\"\"\"\n",
    "cards = [c2,c3,c4,c5,c6,c7]\n",
    "\n",
    "def check_card(listcards):\n",
    "    for card in listcards:\n",
    "        check_letters =  any(c.isalpha() for c in card) # true if any latters\n",
    "        card_ = card\n",
    "        card_ = card_.replace('-','')\n",
    "        check_len = len(card_)\n",
    "        check_numeric = card.isnumeric()\n",
    "        chech_digits = re.search(r'(\\d)\\1{3}',card_) # none no repeating\n",
    "        check_1st = card[0] in ['4','5','6']\n",
    "        \n",
    "        if not check_numeric:\n",
    "            a = [len(c)%4 for c in card.split('-')]\n",
    "            chech_4even = any(c>0 for c in a) # true if more than 4\n",
    "        else:\n",
    "            chech_4even = False\n",
    "\n",
    "        if not check_letters and check_len==16 and chech_digits==None and chech_4even==False and check_1st:\n",
    "            print ('Valid')\n",
    "        else:\n",
    "            print('Invalid')\n",
    "        \n",
    "        \n",
    "        \n",
    "check_card(['4123*456789123456'])"
   ]
  },
  {
   "cell_type": "code",
   "execution_count": null,
   "id": "2365b681",
   "metadata": {},
   "outputs": [],
   "source": []
  }
 ],
 "metadata": {
  "kernelspec": {
   "display_name": "Python 3 (ipykernel)",
   "language": "python",
   "name": "python3"
  },
  "language_info": {
   "codemirror_mode": {
    "name": "ipython",
    "version": 3
   },
   "file_extension": ".py",
   "mimetype": "text/x-python",
   "name": "python",
   "nbconvert_exporter": "python",
   "pygments_lexer": "ipython3",
   "version": "3.8.3"
  }
 },
 "nbformat": 4,
 "nbformat_minor": 5
}
