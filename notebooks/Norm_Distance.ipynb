{
 "cells": [
  {
   "cell_type": "code",
   "execution_count": 1,
   "metadata": {},
   "outputs": [],
   "source": [
    "import numpy as np"
   ]
  },
  {
   "cell_type": "code",
   "execution_count": 2,
   "metadata": {},
   "outputs": [],
   "source": [
    "# Norm, Euclidean norm, Euclidean distance\n",
    "\n",
    "def norm_x(x,usenp='no'):\n",
    "    \"\"\"\n",
    "    the Euclidean norm\n",
    "    || x || = sqrt(xTx)\n",
    "    || x || = sqrt(x1**2 + x2**2 ... + xn**2)\n",
    "    \"\"\"\n",
    "    dim = x.shape\n",
    "    if len(dim)==1:\n",
    "        norm = np.sqrt( np.sum(x*x.reshape(1,-1)) )\n",
    "    elif len(dim)==2:\n",
    "        norm = np.sqrt( np.sum(x*x))\n",
    "    if usenp =='yes':\n",
    "        norm = np.linalg.norm(x)\n",
    "    return norm\n",
    "\n",
    "def norm_xy(x,y):\n",
    "    \"\"\"\n",
    "    Euclidean distance\n",
    "    dist(a,b) = || a - b || or || a - b || / sqrt(n)\n",
    "    \"\"\"\n",
    "    norm = np.sqrt( np.sum( (x-y)**2)) \n",
    "    return norm"
   ]
  },
  {
   "cell_type": "code",
   "execution_count": 3,
   "metadata": {},
   "outputs": [
    {
     "data": {
      "text/plain": [
       "0.3872983346207417"
      ]
     },
     "execution_count": 3,
     "metadata": {},
     "output_type": "execute_result"
    }
   ],
   "source": [
    "u = np.array([1.8,2.0,-3.7,4.7])\n",
    "w = np.array([2.0,1.9,-4.0,4.6])\n",
    "norm_xy(u,w)"
   ]
  },
  {
   "cell_type": "code",
   "execution_count": null,
   "metadata": {},
   "outputs": [],
   "source": []
  }
 ],
 "metadata": {
  "kernelspec": {
   "display_name": "Python 3",
   "language": "python",
   "name": "python3"
  },
  "language_info": {
   "codemirror_mode": {
    "name": "ipython",
    "version": 3
   },
   "file_extension": ".py",
   "mimetype": "text/x-python",
   "name": "python",
   "nbconvert_exporter": "python",
   "pygments_lexer": "ipython3",
   "version": "3.8.3"
  }
 },
 "nbformat": 4,
 "nbformat_minor": 4
}
