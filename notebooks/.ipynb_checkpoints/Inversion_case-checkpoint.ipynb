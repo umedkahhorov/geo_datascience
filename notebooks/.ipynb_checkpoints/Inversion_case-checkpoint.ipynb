{
 "cells": [
  {
   "cell_type": "code",
   "execution_count": 6,
   "id": "f59bb95f",
   "metadata": {},
   "outputs": [],
   "source": [
    "# https://towardsdatascience.com/complete-step-by-step-gradient-descent-algorithm-from-scratch-acba013e8420\n",
    "# https://courses.physics.illinois.edu/cs357/fa2019/assets/lectures/CA7-steepest-descent.pdf\n",
    "# https://courses.physics.illinois.edu/cs357/fa2019/assets/demos/upload/12-optimization/Optimization_Methods.html\n",
    "# https://mathinsight.org/exponential_growth_decay_differential_equation_refresher\n",
    "# example based on www.pygimli.org tutorial\n",
    "\n",
    "# f(x) = A * e^(-x/X)\n",
    "# variables\n",
    "# A - signal amplitude\n",
    "# X - decay rate"
   ]
  },
  {
   "cell_type": "code",
   "execution_count": 2,
   "id": "476b7f98",
   "metadata": {},
   "outputs": [],
   "source": [
    "import numpy as np\n",
    "import pandas as pd\n",
    "import matplotlib.pyplot as plt"
   ]
  },
  {
   "cell_type": "code",
   "execution_count": 39,
   "id": "fd824687",
   "metadata": {},
   "outputs": [],
   "source": [
    "# forward operator\n",
    "def f(x,model):\n",
    "    return model[0] * np.exp(-x/model[1])"
   ]
  },
  {
   "cell_type": "code",
   "execution_count": 40,
   "id": "cb42ec7a",
   "metadata": {},
   "outputs": [],
   "source": [
    "#\n",
    "A,X = 10.5,550e-3\n",
    "x = np.arange(0,1,1e-2)"
   ]
  },
  {
   "cell_type": "code",
   "execution_count": 58,
   "id": "e555b890",
   "metadata": {},
   "outputs": [
    {
     "name": "stdout",
     "output_type": "stream",
     "text": [
      "(100, 2) (xi,yi)\n"
     ]
    }
   ],
   "source": [
    "# create a synthetic data\n",
    "np.random.seed(12)\n",
    "y = f(x,[A,X])\n",
    "data = np.array([x,y]).T\n",
    "print (data.shape, '(xi,yi)')\n",
    "# defince noise\n",
    "error = 0.5\n",
    "data_w_noise = np.zeros_like(data)\n",
    "data_w_noise[:,1] = data[:,1] + np.random.randn(data.shape[0])*error"
   ]
  },
  {
   "cell_type": "code",
   "execution_count": 59,
   "id": "f5deb019",
   "metadata": {},
   "outputs": [
    {
     "data": {
      "text/plain": [
       "[<matplotlib.lines.Line2D at 0x7f8a49f2e880>]"
      ]
     },
     "execution_count": 59,
     "metadata": {},
     "output_type": "execute_result"
    },
    {
     "data": {
      "image/png": "[encoded data removed]",
      "text/plain": [
       "<Figure size 432x288 with 1 Axes>"
      ]
     },
     "metadata": {
      "needs_background": "light"
     },
     "output_type": "display_data"
    }
   ],
   "source": [
    "plt.plot(data[:,1])\n",
    "plt.plot(data_w_noise[:,1],'r*')"
   ]
  },
  {
   "cell_type": "code",
   "execution_count": 68,
   "id": "04e2c47b",
   "metadata": {},
   "outputs": [],
   "source": [
    "# minimize the sum of square error 1/N (yi - (xi*model))**2\n",
    "def error(model,data):\n",
    "    n,_ = data.shape\n",
    "    A = model[0]\n",
    "    X =  model[1]\n",
    "    #totalError = np.sum((data[:,1] - A*np.exp(-data[:,0]/X))**2)\n",
    "    totalError = np.sum((data[:,1] - f(data[:,0],[A,X]))**2)\n",
    "    return totalError/n\n",
    "    "
   ]
  },
  {
   "cell_type": "code",
   "execution_count": 69,
   "id": "440f7163",
   "metadata": {},
   "outputs": [
    {
     "name": "stdout",
     "output_type": "stream",
     "text": [
      "no error case: data - data: 0.0\n",
      "   error case: data - data_w_nose: 38.91109797150267\n"
     ]
    }
   ],
   "source": [
    "print ('no error case: data - data:',error([A,X],data))\n",
    "print ('   error case: data - data_w_nose:',error([A,X],data_w_noise))"
   ]
  },
  {
   "cell_type": "code",
   "execution_count": 7,
   "id": "b7c2926a",
   "metadata": {},
   "outputs": [
    {
     "data": {
      "text/plain": [
       "0.55"
      ]
     },
     "execution_count": 7,
     "metadata": {},
     "output_type": "execute_result"
    }
   ],
   "source": [
    "550e-3"
   ]
  },
  {
   "cell_type": "code",
   "execution_count": null,
   "id": "237c7ff5",
   "metadata": {},
   "outputs": [],
   "source": []
  }
 ],
 "metadata": {
  "kernelspec": {
   "display_name": "Python 3 (ipykernel)",
   "language": "python",
   "name": "python3"
  },
  "language_info": {
   "codemirror_mode": {
    "name": "ipython",
    "version": 3
   },
   "file_extension": ".py",
   "mimetype": "text/x-python",
   "name": "python",
   "nbconvert_exporter": "python",
   "pygments_lexer": "ipython3",
   "version": "3.8.3"
  }
 },
 "nbformat": 4,
 "nbformat_minor": 5
}
